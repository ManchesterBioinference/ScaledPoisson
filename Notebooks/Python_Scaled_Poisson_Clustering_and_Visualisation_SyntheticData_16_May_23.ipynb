{
 "cells": [
  {
   "cell_type": "markdown",
   "id": "afacaae7-3b9b-42b6-99f8-eea56fa33bf0",
   "metadata": {},
   "source": [
    "# Python notebook to run Scaled Poisson Model on synthetic data\n",
    "### Authors: Mudassar Iqbal, Syed Murtuza Baker, Adam Farooq, Magnus Rattray\n",
    "\n",
    "Date: 18 Jan 23"
   ]
  },
  {
   "cell_type": "code",
   "execution_count": null,
   "id": "8a4af543-a5bf-427e-b29d-e54710d74e72",
   "metadata": {},
   "outputs": [],
   "source": []
  },
  {
   "cell_type": "markdown",
   "id": "a0323fc5-d22e-49a5-b37e-9da0bcbe4542",
   "metadata": {},
   "source": [
    "# Input Data\n",
    "Some detail of the Input data"
   ]
  },
  {
   "cell_type": "markdown",
   "id": "d2f9cb02-36be-4e49-a230-f6799476512d",
   "metadata": {},
   "source": [
    "## Functions for plotting/visualisation"
   ]
  },
  {
   "cell_type": "code",
   "execution_count": 5,
   "id": "b94139fe-fe25-4715-a5bc-e79e0cdeeca1",
   "metadata": {
    "tags": []
   },
   "outputs": [],
   "source": [
    "import scanpy as sc\n",
    "import numpy as np\n",
    "import matplotlib as mpl\n",
    "import matplotlib.pyplot as plt\n",
    "import sklearn as sk\n",
    "import pandas as pd\n",
    "from anndata import AnnData\n",
    "from numpy import genfromtxt\n",
    "from datetime import datetime\n",
    "from tqdm.notebook import tqdm as tqdm\n",
    "from scipy.special import factorial\n",
    "\n",
    "from multiprocessing import Pool\n",
    "\n",
    "#from colorspacious import cspace_converter"
   ]
  },
  {
   "cell_type": "code",
   "execution_count": 6,
   "id": "18423ff9-d897-4b82-b7e0-b91b0ca23470",
   "metadata": {
    "tags": []
   },
   "outputs": [],
   "source": [
    "cmaps = {}\n",
    "\n",
    "gradient = np.linspace(0, 1, 256)\n",
    "gradient = np.vstack((gradient, gradient))\n",
    "\n",
    "\n",
    "def plot_color_gradients(category, cmap_list):\n",
    "    # Create figure and adjust figure height to number of colormaps\n",
    "    nrows = len(cmap_list)\n",
    "    figh = 0.35 + 0.15 + (nrows + (nrows - 1) * 0.1) * 0.22\n",
    "    fig, axs = plt.subplots(nrows=nrows + 1, figsize=(6.4, figh))\n",
    "    fig.subplots_adjust(top=1 - 0.35 / figh, bottom=0.15 / figh,\n",
    "                        left=0.2, right=0.99)\n",
    "    axs[0].set_title(f'{category} colormaps', fontsize=14)\n",
    "\n",
    "    for ax, name in zip(axs, cmap_list):\n",
    "        ax.imshow(gradient, aspect='auto', cmap=mpl.colormaps[name])\n",
    "        ax.text(-0.01, 0.5, name, va='center', ha='right', fontsize=10,\n",
    "                transform=ax.transAxes)\n",
    "\n",
    "    # Turn off *all* ticks & spines, not just the ones with colormaps.\n",
    "    for ax in axs:\n",
    "        ax.set_axis_off()\n",
    "\n",
    "    # Save colormap list for later.\n",
    "    cmaps[category] = cmap_list"
   ]
  },
  {
   "cell_type": "code",
   "execution_count": 7,
   "id": "d9778b7f-8d2d-4154-a3f1-6f628a8a72f6",
   "metadata": {
    "tags": []
   },
   "outputs": [
    {
     "data": {
      "image/png": "[encoded data removed]",
      "text/plain": [
       "<Figure size 640x338.2 with 13 Axes>"
      ]
     },
     "metadata": {},
     "output_type": "display_data"
    }
   ],
   "source": [
    "plot_color_gradients('Qualitative',\n",
    "                     ['Pastel1', 'Pastel2', 'Paired', 'Accent', 'Dark2',\n",
    "                      'Set1', 'Set2', 'Set3', 'tab10', 'tab20', 'tab20b',\n",
    "                      'tab20c'])"
   ]
  },
  {
   "cell_type": "code",
   "execution_count": 8,
   "id": "7061ec86-42ed-4064-9764-3e1debc1d20c",
   "metadata": {
    "tags": []
   },
   "outputs": [],
   "source": [
    "from anndata import AnnData"
   ]
  },
  {
   "cell_type": "code",
   "execution_count": 9,
   "id": "cc12ac61-bd0b-47be-a24b-c08532f54589",
   "metadata": {
    "tags": []
   },
   "outputs": [],
   "source": [
    "#def getJaccardDist(cdBinary):\n",
    "    "
   ]
  },
  {
   "cell_type": "code",
   "execution_count": 10,
   "id": "765c19f8-ddff-41cb-a4f5-a9513765ac7c",
   "metadata": {
    "tags": []
   },
   "outputs": [
    {
     "name": "stdout",
     "output_type": "stream",
     "text": [
      "Read without chunks:  91.50231337547302 seconds\n"
     ]
    },
    {
     "data": {
      "text/html": [
       "<div>\n",
       "<style scoped>\n",
       "    .dataframe tbody tr th:only-of-type {\n",
       "        vertical-align: middle;\n",
       "    }\n",
       "\n",
       "    .dataframe tbody tr th {\n",
       "        vertical-align: top;\n",
       "    }\n",
       "\n",
       "    .dataframe thead th {\n",
       "        text-align: right;\n",
       "    }\n",
       "</style>\n",
       "<table border=\"1\" class=\"dataframe\">\n",
       "  <thead>\n",
       "    <tr style=\"text-align: right;\">\n",
       "      <th></th>\n",
       "      <th>0</th>\n",
       "      <th>1</th>\n",
       "      <th>2</th>\n",
       "      <th>3</th>\n",
       "      <th>4</th>\n",
       "      <th>5</th>\n",
       "      <th>6</th>\n",
       "      <th>7</th>\n",
       "      <th>8</th>\n",
       "      <th>9</th>\n",
       "      <th>...</th>\n",
       "      <th>29990</th>\n",
       "      <th>29991</th>\n",
       "      <th>29992</th>\n",
       "      <th>29993</th>\n",
       "      <th>29994</th>\n",
       "      <th>29995</th>\n",
       "      <th>29996</th>\n",
       "      <th>29997</th>\n",
       "      <th>29998</th>\n",
       "      <th>29999</th>\n",
       "    </tr>\n",
       "  </thead>\n",
       "  <tbody>\n",
       "    <tr>\n",
       "      <th>2289</th>\n",
       "      <td>0.0</td>\n",
       "      <td>0.0</td>\n",
       "      <td>0.0</td>\n",
       "      <td>0.0</td>\n",
       "      <td>0.0</td>\n",
       "      <td>0.0</td>\n",
       "      <td>0.0</td>\n",
       "      <td>0.0</td>\n",
       "      <td>0.0</td>\n",
       "      <td>0.0</td>\n",
       "      <td>...</td>\n",
       "      <td>0.0</td>\n",
       "      <td>1.0</td>\n",
       "      <td>0.0</td>\n",
       "      <td>0.0</td>\n",
       "      <td>0.0</td>\n",
       "      <td>0.0</td>\n",
       "      <td>0.0</td>\n",
       "      <td>0.0</td>\n",
       "      <td>0.0</td>\n",
       "      <td>0.0</td>\n",
       "    </tr>\n",
       "    <tr>\n",
       "      <th>111</th>\n",
       "      <td>0.0</td>\n",
       "      <td>0.0</td>\n",
       "      <td>0.0</td>\n",
       "      <td>0.0</td>\n",
       "      <td>0.0</td>\n",
       "      <td>0.0</td>\n",
       "      <td>0.0</td>\n",
       "      <td>0.0</td>\n",
       "      <td>1.0</td>\n",
       "      <td>0.0</td>\n",
       "      <td>...</td>\n",
       "      <td>0.0</td>\n",
       "      <td>0.0</td>\n",
       "      <td>0.0</td>\n",
       "      <td>0.0</td>\n",
       "      <td>0.0</td>\n",
       "      <td>0.0</td>\n",
       "      <td>0.0</td>\n",
       "      <td>0.0</td>\n",
       "      <td>0.0</td>\n",
       "      <td>0.0</td>\n",
       "    </tr>\n",
       "    <tr>\n",
       "      <th>1207</th>\n",
       "      <td>0.0</td>\n",
       "      <td>0.0</td>\n",
       "      <td>0.0</td>\n",
       "      <td>0.0</td>\n",
       "      <td>0.0</td>\n",
       "      <td>1.0</td>\n",
       "      <td>0.0</td>\n",
       "      <td>0.0</td>\n",
       "      <td>0.0</td>\n",
       "      <td>0.0</td>\n",
       "      <td>...</td>\n",
       "      <td>0.0</td>\n",
       "      <td>0.0</td>\n",
       "      <td>0.0</td>\n",
       "      <td>0.0</td>\n",
       "      <td>0.0</td>\n",
       "      <td>0.0</td>\n",
       "      <td>0.0</td>\n",
       "      <td>0.0</td>\n",
       "      <td>0.0</td>\n",
       "      <td>0.0</td>\n",
       "    </tr>\n",
       "    <tr>\n",
       "      <th>1435</th>\n",
       "      <td>0.0</td>\n",
       "      <td>0.0</td>\n",
       "      <td>0.0</td>\n",
       "      <td>0.0</td>\n",
       "      <td>0.0</td>\n",
       "      <td>0.0</td>\n",
       "      <td>0.0</td>\n",
       "      <td>0.0</td>\n",
       "      <td>0.0</td>\n",
       "      <td>0.0</td>\n",
       "      <td>...</td>\n",
       "      <td>0.0</td>\n",
       "      <td>0.0</td>\n",
       "      <td>0.0</td>\n",
       "      <td>0.0</td>\n",
       "      <td>1.0</td>\n",
       "      <td>0.0</td>\n",
       "      <td>0.0</td>\n",
       "      <td>0.0</td>\n",
       "      <td>0.0</td>\n",
       "      <td>0.0</td>\n",
       "    </tr>\n",
       "    <tr>\n",
       "      <th>4335</th>\n",
       "      <td>0.0</td>\n",
       "      <td>0.0</td>\n",
       "      <td>0.0</td>\n",
       "      <td>0.0</td>\n",
       "      <td>0.0</td>\n",
       "      <td>0.0</td>\n",
       "      <td>0.0</td>\n",
       "      <td>0.0</td>\n",
       "      <td>0.0</td>\n",
       "      <td>0.0</td>\n",
       "      <td>...</td>\n",
       "      <td>0.0</td>\n",
       "      <td>0.0</td>\n",
       "      <td>0.0</td>\n",
       "      <td>0.0</td>\n",
       "      <td>0.0</td>\n",
       "      <td>0.0</td>\n",
       "      <td>0.0</td>\n",
       "      <td>0.0</td>\n",
       "      <td>0.0</td>\n",
       "      <td>0.0</td>\n",
       "    </tr>\n",
       "    <tr>\n",
       "      <th>1377</th>\n",
       "      <td>0.0</td>\n",
       "      <td>0.0</td>\n",
       "      <td>0.0</td>\n",
       "      <td>0.0</td>\n",
       "      <td>0.0</td>\n",
       "      <td>0.0</td>\n",
       "      <td>0.0</td>\n",
       "      <td>0.0</td>\n",
       "      <td>0.0</td>\n",
       "      <td>0.0</td>\n",
       "      <td>...</td>\n",
       "      <td>0.0</td>\n",
       "      <td>0.0</td>\n",
       "      <td>0.0</td>\n",
       "      <td>0.0</td>\n",
       "      <td>0.0</td>\n",
       "      <td>0.0</td>\n",
       "      <td>0.0</td>\n",
       "      <td>0.0</td>\n",
       "      <td>0.0</td>\n",
       "      <td>0.0</td>\n",
       "    </tr>\n",
       "    <tr>\n",
       "      <th>3377</th>\n",
       "      <td>0.0</td>\n",
       "      <td>0.0</td>\n",
       "      <td>0.0</td>\n",
       "      <td>0.0</td>\n",
       "      <td>0.0</td>\n",
       "      <td>0.0</td>\n",
       "      <td>0.0</td>\n",
       "      <td>0.0</td>\n",
       "      <td>0.0</td>\n",
       "      <td>1.0</td>\n",
       "      <td>...</td>\n",
       "      <td>0.0</td>\n",
       "      <td>0.0</td>\n",
       "      <td>0.0</td>\n",
       "      <td>0.0</td>\n",
       "      <td>0.0</td>\n",
       "      <td>0.0</td>\n",
       "      <td>0.0</td>\n",
       "      <td>0.0</td>\n",
       "      <td>0.0</td>\n",
       "      <td>0.0</td>\n",
       "    </tr>\n",
       "    <tr>\n",
       "      <th>774</th>\n",
       "      <td>0.0</td>\n",
       "      <td>0.0</td>\n",
       "      <td>0.0</td>\n",
       "      <td>0.0</td>\n",
       "      <td>0.0</td>\n",
       "      <td>0.0</td>\n",
       "      <td>0.0</td>\n",
       "      <td>0.0</td>\n",
       "      <td>0.0</td>\n",
       "      <td>0.0</td>\n",
       "      <td>...</td>\n",
       "      <td>0.0</td>\n",
       "      <td>0.0</td>\n",
       "      <td>0.0</td>\n",
       "      <td>0.0</td>\n",
       "      <td>0.0</td>\n",
       "      <td>0.0</td>\n",
       "      <td>0.0</td>\n",
       "      <td>0.0</td>\n",
       "      <td>0.0</td>\n",
       "      <td>0.0</td>\n",
       "    </tr>\n",
       "    <tr>\n",
       "      <th>3932</th>\n",
       "      <td>0.0</td>\n",
       "      <td>0.0</td>\n",
       "      <td>0.0</td>\n",
       "      <td>0.0</td>\n",
       "      <td>0.0</td>\n",
       "      <td>0.0</td>\n",
       "      <td>0.0</td>\n",
       "      <td>0.0</td>\n",
       "      <td>0.0</td>\n",
       "      <td>0.0</td>\n",
       "      <td>...</td>\n",
       "      <td>0.0</td>\n",
       "      <td>0.0</td>\n",
       "      <td>0.0</td>\n",
       "      <td>0.0</td>\n",
       "      <td>0.0</td>\n",
       "      <td>0.0</td>\n",
       "      <td>0.0</td>\n",
       "      <td>0.0</td>\n",
       "      <td>0.0</td>\n",
       "      <td>0.0</td>\n",
       "    </tr>\n",
       "    <tr>\n",
       "      <th>4691</th>\n",
       "      <td>0.0</td>\n",
       "      <td>0.0</td>\n",
       "      <td>0.0</td>\n",
       "      <td>0.0</td>\n",
       "      <td>0.0</td>\n",
       "      <td>0.0</td>\n",
       "      <td>0.0</td>\n",
       "      <td>0.0</td>\n",
       "      <td>0.0</td>\n",
       "      <td>0.0</td>\n",
       "      <td>...</td>\n",
       "      <td>0.0</td>\n",
       "      <td>0.0</td>\n",
       "      <td>0.0</td>\n",
       "      <td>0.0</td>\n",
       "      <td>0.0</td>\n",
       "      <td>0.0</td>\n",
       "      <td>0.0</td>\n",
       "      <td>0.0</td>\n",
       "      <td>0.0</td>\n",
       "      <td>0.0</td>\n",
       "    </tr>\n",
       "  </tbody>\n",
       "</table>\n",
       "<p>10 rows × 30000 columns</p>\n",
       "</div>"
      ],
      "text/plain": [
       "      0      1      2      3      4      5      6      7      8      9       \n",
       "2289    0.0    0.0    0.0    0.0    0.0    0.0    0.0    0.0    0.0    0.0  \\\n",
       "111     0.0    0.0    0.0    0.0    0.0    0.0    0.0    0.0    1.0    0.0   \n",
       "1207    0.0    0.0    0.0    0.0    0.0    1.0    0.0    0.0    0.0    0.0   \n",
       "1435    0.0    0.0    0.0    0.0    0.0    0.0    0.0    0.0    0.0    0.0   \n",
       "4335    0.0    0.0    0.0    0.0    0.0    0.0    0.0    0.0    0.0    0.0   \n",
       "1377    0.0    0.0    0.0    0.0    0.0    0.0    0.0    0.0    0.0    0.0   \n",
       "3377    0.0    0.0    0.0    0.0    0.0    0.0    0.0    0.0    0.0    1.0   \n",
       "774     0.0    0.0    0.0    0.0    0.0    0.0    0.0    0.0    0.0    0.0   \n",
       "3932    0.0    0.0    0.0    0.0    0.0    0.0    0.0    0.0    0.0    0.0   \n",
       "4691    0.0    0.0    0.0    0.0    0.0    0.0    0.0    0.0    0.0    0.0   \n",
       "\n",
       "      ...  29990  29991  29992  29993  29994  29995  29996  29997  29998   \n",
       "2289  ...    0.0    1.0    0.0    0.0    0.0    0.0    0.0    0.0    0.0  \\\n",
       "111   ...    0.0    0.0    0.0    0.0    0.0    0.0    0.0    0.0    0.0   \n",
       "1207  ...    0.0    0.0    0.0    0.0    0.0    0.0    0.0    0.0    0.0   \n",
       "1435  ...    0.0    0.0    0.0    0.0    1.0    0.0    0.0    0.0    0.0   \n",
       "4335  ...    0.0    0.0    0.0    0.0    0.0    0.0    0.0    0.0    0.0   \n",
       "1377  ...    0.0    0.0    0.0    0.0    0.0    0.0    0.0    0.0    0.0   \n",
       "3377  ...    0.0    0.0    0.0    0.0    0.0    0.0    0.0    0.0    0.0   \n",
       "774   ...    0.0    0.0    0.0    0.0    0.0    0.0    0.0    0.0    0.0   \n",
       "3932  ...    0.0    0.0    0.0    0.0    0.0    0.0    0.0    0.0    0.0   \n",
       "4691  ...    0.0    0.0    0.0    0.0    0.0    0.0    0.0    0.0    0.0   \n",
       "\n",
       "      29999  \n",
       "2289    0.0  \n",
       "111     0.0  \n",
       "1207    0.0  \n",
       "1435    0.0  \n",
       "4335    0.0  \n",
       "1377    0.0  \n",
       "3377    0.0  \n",
       "774     0.0  \n",
       "3932    0.0  \n",
       "4691    0.0  \n",
       "\n",
       "[10 rows x 30000 columns]"
      ]
     },
     "execution_count": 10,
     "metadata": {},
     "output_type": "execute_result"
    }
   ],
   "source": [
    "import time\n",
    "\n",
    "#time taken to read data\n",
    "s_time = time.time()\n",
    "cd = pd.read_csv(\"5000EightClusterScaledPoissionData.csv\", header=None)\n",
    "e_time = time.time()\n",
    "print(\"Read without chunks: \", (e_time-s_time), \"seconds\")\n",
    "\n",
    "# data\n",
    "cd.sample(10)\n"
   ]
  },
  {
   "cell_type": "code",
   "execution_count": 11,
   "id": "efa47141-09a2-4124-bb61-9b2a99f9bb95",
   "metadata": {
    "tags": []
   },
   "outputs": [],
   "source": [
    "# import time\n",
    "\n",
    "# #time taken to read data\n",
    "# s_time = time.time()\n",
    "# cd = pd.read_csv(\"5000EightClusterScaledPoissionData.csv\", chunksize=1000)\n",
    "# e_time = time.time()\n",
    "# print(\"Read without chunks: \", (e_time-s_time), \"seconds\")\n",
    "\n",
    "# # data\n",
    "# cd\n"
   ]
  },
  {
   "cell_type": "code",
   "execution_count": 12,
   "id": "e9742033-191e-4d9f-8252-363148c7dfba",
   "metadata": {
    "tags": []
   },
   "outputs": [
    {
     "data": {
      "text/plain": [
       "(5000, 30000)"
      ]
     },
     "execution_count": 12,
     "metadata": {},
     "output_type": "execute_result"
    }
   ],
   "source": [
    "cd.shape"
   ]
  },
  {
   "cell_type": "code",
   "execution_count": 13,
   "id": "e091183a-3313-4699-9bc7-53adc2f00a11",
   "metadata": {
    "tags": []
   },
   "outputs": [
    {
     "name": "stderr",
     "output_type": "stream",
     "text": [
      "/home/mqbsxsm2/mambaforge/envs/r4/lib/python3.10/site-packages/anndata/_core/anndata.py:117: ImplicitModificationWarning: Transforming to str index.\n",
      "  warnings.warn(\"Transforming to str index.\", ImplicitModificationWarning)\n",
      "/home/mqbsxsm2/mambaforge/envs/r4/lib/python3.10/site-packages/anndata/_core/anndata.py:117: ImplicitModificationWarning: Transforming to str index.\n",
      "  warnings.warn(\"Transforming to str index.\", ImplicitModificationWarning)\n"
     ]
    },
    {
     "data": {
      "text/plain": [
       "AnnData object with n_obs × n_vars = 5000 × 30000"
      ]
     },
     "execution_count": 13,
     "metadata": {},
     "output_type": "execute_result"
    }
   ],
   "source": [
    "# Making AnnData\n",
    "adata = sc.AnnData(X = cd)\n",
    "adata"
   ]
  },
  {
   "cell_type": "markdown",
   "id": "8ef16e5e-5ca7-4ef1-b9de-ebe234579123",
   "metadata": {},
   "source": [
    "## Filtering "
   ]
  },
  {
   "cell_type": "code",
   "execution_count": 14,
   "id": "8a5c1ff3-45fc-4b81-bbfd-ae7836be7254",
   "metadata": {
    "tags": []
   },
   "outputs": [
    {
     "data": {
      "text/plain": [
       "AnnData object with n_obs × n_vars = 5000 × 27728\n",
       "    var: 'n_cells'"
      ]
     },
     "execution_count": 14,
     "metadata": {},
     "output_type": "execute_result"
    }
   ],
   "source": [
    "# === Initial peak Filtering  =====\n",
    "sc.pp.filter_genes(adata,min_cells=max(20,0.01*adata.n_obs))\n",
    "sc.pp.filter_genes(adata,max_cells = 0.5*adata.n_obs)\n",
    "adata"
   ]
  },
  {
   "cell_type": "code",
   "execution_count": 15,
   "id": "5dd602e0-2f01-469a-8f66-4f35880c97de",
   "metadata": {
    "tags": []
   },
   "outputs": [
    {
     "data": {
      "text/plain": [
       "AnnData object with n_obs × n_vars = 4822 × 27728\n",
       "    obs: 'n_genes'\n",
       "    var: 'n_cells'"
      ]
     },
     "execution_count": 15,
     "metadata": {},
     "output_type": "execute_result"
    }
   ],
   "source": [
    "# === Initial cell Filtering  =====\n",
    "sc.pp.filter_cells(adata,min_genes=min(50,0.001*adata.n_vars))\n",
    "sc.pp.filter_cells(adata,max_genes = 0.5*adata.n_vars)\n",
    "adata"
   ]
  },
  {
   "cell_type": "code",
   "execution_count": 16,
   "id": "2dca4fd1-fb18-4192-91bc-102e4c79e6b7",
   "metadata": {
    "tags": []
   },
   "outputs": [
    {
     "data": {
      "text/plain": [
       "AnnData object with n_obs × n_vars = 4822 × 27728\n",
       "    obs: 'n_genes'\n",
       "    var: 'n_cells', 'n_counts'"
      ]
     },
     "execution_count": 16,
     "metadata": {},
     "output_type": "execute_result"
    }
   ],
   "source": [
    "# Removing peaks that are all zero after this filtering\n",
    "# need to discuss with Mudassar how to remove this step\n",
    "sc.pp.filter_genes(adata,min_counts=1)\n",
    "adata"
   ]
  },
  {
   "cell_type": "markdown",
   "id": "a82070ef-8336-40e3-a79a-f602c91a04ad",
   "metadata": {},
   "source": [
    "## Data initializing"
   ]
  },
  {
   "cell_type": "code",
   "execution_count": 17,
   "id": "ab6c69de-545d-4988-8de1-495617aabf15",
   "metadata": {
    "tags": []
   },
   "outputs": [],
   "source": [
    "# ==== Initialisation of variables ====\n",
    "D = adata.n_vars # number of peaks\n",
    "N = adata.n_obs #number of cells\n",
    "alpha = np.zeros((N,1))\n",
    "alpha = adata.X.sum(axis=1).reshape(-1,1)/max(adata.X.sum(axis=1))  # Initalizing alpha (sequencing depth - scaling factor)\n",
    "alpha = alpha.reshape(-1,1)"
   ]
  },
  {
   "cell_type": "code",
   "execution_count": 18,
   "id": "e4bc19cd-a5df-42b0-9376-b10697c9413a",
   "metadata": {
    "tags": []
   },
   "outputs": [],
   "source": [
    "sc.pp.highly_variable_genes(adata)"
   ]
  },
  {
   "cell_type": "code",
   "execution_count": 19,
   "id": "523f34a3-2a61-44d9-bf24-6fdac1946e33",
   "metadata": {
    "tags": []
   },
   "outputs": [
    {
     "data": {
      "image/png": "[encoded data removed]",
      "text/plain": [
       "<Figure size 1280x480 with 2 Axes>"
      ]
     },
     "metadata": {},
     "output_type": "display_data"
    }
   ],
   "source": [
    "sc.pl.highly_variable_genes(adata)"
   ]
  },
  {
   "cell_type": "markdown",
   "id": "951f1f5d-062f-4126-a1f9-ca23b0aef1d4",
   "metadata": {},
   "source": [
    "## Defining functions Scaled Poisson EM (E-step calculation)"
   ]
  },
  {
   "cell_type": "code",
   "execution_count": 20,
   "id": "5c618733-0789-49d8-8d17-4074922735a8",
   "metadata": {
    "tags": []
   },
   "outputs": [],
   "source": [
    "def compute_z():\n",
    "    # Global variables used in this function  \n",
    "    # max_z_idx  - cell cluster labels\n",
    "    # lambda_i_k - parameters for mixtures (clusters, dimension = clusters x peaks)\n",
    "    # N - number of cells\n",
    "    # K - number of clusters (mixture components)\n",
    "    # x - data matrix (rows = cells, columns = peaks) \n",
    "    # x_sel - index of selected peaks through feature selection\n",
    "    \n",
    "    weights = np.zeros(K)\n",
    "    \n",
    "    for k in range(0,K):\n",
    "        weights[k] = len([i for i in max_z_idx if i==k])/N\n",
    "    \n",
    "    lambda_i_k[lambda_i_k<EPS] = EPS\n",
    "    z_temp = np.zeros((N,K))\n",
    "    for i in tqdm(range(0,N), desc='compute_z():',position=0, leave=True, colour=\"yellow\"):\n",
    "        for j in range(0,K):\n",
    "            if(weights[j]!=0):\n",
    "                z_temp[i,j] = np.log2(weights[j]) + \\\n",
    "                            np.sum(x[i,x_sel]*np.log2(lambda_i_k[j,:]*alpha[i]+EPS) - \\\n",
    "                              (lambda_i_k[j,:]*alpha[i]+EPS))\n",
    "            else:\n",
    "                z_temp[i,j] = np.sum(x[i,x_sel]*np.log2(lambda_i_k[j,:]*alpha[i]+EPS) - \\\n",
    "                              (lambda_i_k[j,:]*alpha[i]+EPS))\n",
    "    \n",
    "    \n",
    "    return(z_temp)\n",
    "        \n",
    "  "
   ]
  },
  {
   "cell_type": "code",
   "execution_count": 21,
   "id": "baa99fe7-e39e-4aad-a28f-763a4071667d",
   "metadata": {
    "tags": []
   },
   "outputs": [],
   "source": [
    "## Calculate Y_i(gain in likelihood for every peak---Used for feature selection)\n",
    "def calc_Y_i():\n",
    "    # calculating Y_i for individual peaks, using hard EM version for z update (E-step)\n",
    "    # max_z_idx  - cluster labels\n",
    "    # lambda_i_k - parameters for mixtures (clusters)\n",
    "    # lambda_i_0  - parameters when there is only one cluster in the data \n",
    "    # alpha  - relative sequencing depth (vector with length equal to number of cells)\n",
    "    \n",
    "    lambda_i_k[lambda_i_k<EPS] = EPS  \n",
    "    \n",
    "    # calculate Y_i for each peak\n",
    "    Y = np.zeros((D,1))\n",
    "    \n",
    "    for i in tqdm(range(D), desc='calc_Y_i() ',position=0, leave=True, colour=\"green\"):\n",
    "        Y[i,0] = np.sum(x[:,i].reshape(-1,1)*(np.log2(alpha*lambda_i_k[max_z_idx,i]+EPS) -np.log2(alpha*lambda_i_0[:,i]+EPS)) \\\n",
    "                        - (alpha*lambda_i_k[max_z_idx,i] - alpha*lambda_i_0[:,i])) \n",
    "    \n",
    "    \n",
    "    return(Y)"
   ]
  },
  {
   "cell_type": "code",
   "execution_count": 22,
   "id": "6e07e2d2-e684-49fa-b2a6-7a7072f2fd4c",
   "metadata": {
    "tags": []
   },
   "outputs": [],
   "source": [
    "# Total Log likelihood\n",
    "def NLL_total(weights,lambda_i_k_opt):\n",
    "    obj_temp = 0\n",
    "    \n",
    "    for i in tqdm(range(N), desc='NLL_total() ',position=0, leave=True, colour=\"red\"):\n",
    "        k = int(max_z_idx[i])        \n",
    "        obj_temp = obj_temp + \\\n",
    "        np.log2(weights[k]) + \\\n",
    "        np.sum(x[i,x_sel]*np.log2(lambda_i_k[k,:]*alpha[i]+EPS) - \\\n",
    "                                                         (lambda_i_k[k,:]*alpha[i]+EPS) \\\n",
    "                                                         - np.log2(factorial(x[i,x_sel])+EPS)) \n",
    "    \n",
    "    return(1.0*obj_temp)\n",
    "        "
   ]
  },
  {
   "cell_type": "code",
   "execution_count": 23,
   "id": "8b4837d0-1af6-48d8-85aa-34c1dfc77443",
   "metadata": {
    "tags": []
   },
   "outputs": [],
   "source": [
    "# Sub-routine for M-step, optimising all parameters for all clusters\n",
    "def calculateMu():\n",
    "    # x_sel - selected peak indexes (through feature selection)\n",
    "    # pi_temp - mixture weights for each cluster (pi)  \n",
    "    \n",
    "    mu_temp = np.zeros((K, len(x_sel)))\n",
    "    \n",
    "    sm1 = 0\n",
    "    sm2 = 0\n",
    "    \n",
    "    for i in tqdm(range(0,len(x_sel)), desc='CalculateMu() ',position=0, leave=True, colour=\"blue\"):\n",
    "        for k in range(0,K):\n",
    "            # ==== M-update ======\n",
    "            if alpha[np.array(max_z_idx==k).flatten()].size>0:\n",
    "                sm1 = np.sum(EPS+ x[np.array(max_z_idx==k).flatten(),x_sel[i]])             \n",
    "                sm2 = np.sum(EPS+ alpha[np.array(max_z_idx==k).flatten()])\n",
    "            else:\n",
    "                sm1=np.sum(EPS)\n",
    "                sm2=np.sum(EPS)\n",
    "                \n",
    "            mu_k_i = sm1/sm2 \n",
    "            #print(f\"EPS={EPS},i={i},k={k},sm1={sm1}, sm2={sm2}, mu_k_i={mu_k_i}\")\n",
    "            mu_temp[k,i] = mu_k_i \n",
    "    \n",
    "    return(mu_temp)"
   ]
  },
  {
   "cell_type": "code",
   "execution_count": 24,
   "id": "df539e32-6f82-4a34-b588-4c47e0f69c9e",
   "metadata": {
    "tags": []
   },
   "outputs": [],
   "source": [
    "### M-step main routine\n",
    "def MaximizationStep_optim():\n",
    "    pi_temp = np.zeros((K,1))\n",
    "    \n",
    "    for k in range(0,K):\n",
    "        pi_temp[k] = np.sum(max_z_idx==k)/N\n",
    "    \n",
    "    lambda_i_k_opt = calculateMu() \n",
    "    objective_temp = NLL_total(pi_temp,lambda_i_k_opt)\n",
    "    \n",
    "    M_step_dict = {\n",
    "        \"pi_temp\" : pi_temp,\n",
    "        \"lambda_i_k_opt\" : lambda_i_k_opt,\n",
    "        \"objective_temp\" : objective_temp\n",
    "    }\n",
    "    \n",
    "    return(M_step_dict)"
   ]
  },
  {
   "cell_type": "markdown",
   "id": "911dd78f-f609-4d60-940e-59411c2018af",
   "metadata": {},
   "source": [
    "# Main routine \n",
    "Running for multiple number of clusters, and then choosing the best model using AIC"
   ]
  },
  {
   "cell_type": "code",
   "execution_count": 25,
   "id": "a726156a-e2b7-4a89-a4a0-98e07dfdb444",
   "metadata": {
    "tags": []
   },
   "outputs": [
    {
     "data": {
      "application/vnd.jupyter.widget-view+json": {
       "model_id": "5d4867db32e34c0288475a3c49166645",
       "version_major": 2,
       "version_minor": 0
      },
      "text/plain": [
       "  0%|          | 0/2 [00:00<?, ?it/s]"
      ]
     },
     "metadata": {},
     "output_type": "display_data"
    },
    {
     "data": {
      "application/vnd.jupyter.widget-view+json": {
       "model_id": "d16f9654f2c64f7c9c30d568303cbbfc",
       "version_major": 2,
       "version_minor": 0
      },
      "text/plain": [
       "CalculateMu() :   0%|          | 0/27728 [00:00<?, ?it/s]"
      ]
     },
     "metadata": {},
     "output_type": "display_data"
    },
    {
     "data": {
      "application/vnd.jupyter.widget-view+json": {
       "model_id": "17bd06fb80bd4c558a6fd1d8e9625bdc",
       "version_major": 2,
       "version_minor": 0
      },
      "text/plain": [
       "NLL_total() :   0%|          | 0/4822 [00:00<?, ?it/s]"
      ]
     },
     "metadata": {},
     "output_type": "display_data"
    },
    {
     "data": {
      "application/vnd.jupyter.widget-view+json": {
       "model_id": "e3a26a0f2f0e40c491e01230ce59c297",
       "version_major": 2,
       "version_minor": 0
      },
      "text/plain": [
       "compute_z()::   0%|          | 0/4822 [00:00<?, ?it/s]"
      ]
     },
     "metadata": {},
     "output_type": "display_data"
    },
    {
     "data": {
      "application/vnd.jupyter.widget-view+json": {
       "model_id": "e7d1848978c846dfbc79b385fb9f5411",
       "version_major": 2,
       "version_minor": 0
      },
      "text/plain": [
       "CalculateMu() :   0%|          | 0/27728 [00:00<?, ?it/s]"
      ]
     },
     "metadata": {},
     "output_type": "display_data"
    },
    {
     "data": {
      "application/vnd.jupyter.widget-view+json": {
       "model_id": "7afc8e7e042e443290a150a01292af06",
       "version_major": 2,
       "version_minor": 0
      },
      "text/plain": [
       "NLL_total() :   0%|          | 0/4822 [00:00<?, ?it/s]"
      ]
     },
     "metadata": {},
     "output_type": "display_data"
    },
    {
     "name": "stdout",
     "output_type": "stream",
     "text": [
      "While loop iteration1\n"
     ]
    },
    {
     "data": {
      "application/vnd.jupyter.widget-view+json": {
       "model_id": "e803adff20214057be8c241ecb4dc88c",
       "version_major": 2,
       "version_minor": 0
      },
      "text/plain": [
       "compute_z()::   0%|          | 0/4822 [00:00<?, ?it/s]"
      ]
     },
     "metadata": {},
     "output_type": "display_data"
    },
    {
     "data": {
      "application/vnd.jupyter.widget-view+json": {
       "model_id": "ec599c99f58245569c7940d0fb41f1c6",
       "version_major": 2,
       "version_minor": 0
      },
      "text/plain": [
       "CalculateMu() :   0%|          | 0/27728 [00:00<?, ?it/s]"
      ]
     },
     "metadata": {},
     "output_type": "display_data"
    },
    {
     "data": {
      "application/vnd.jupyter.widget-view+json": {
       "model_id": "5daae803f48b4dfdbf7e7061d0f29ddd",
       "version_major": 2,
       "version_minor": 0
      },
      "text/plain": [
       "NLL_total() :   0%|          | 0/4822 [00:00<?, ?it/s]"
      ]
     },
     "metadata": {},
     "output_type": "display_data"
    },
    {
     "name": "stdout",
     "output_type": "stream",
     "text": [
      "While loop iteration2\n"
     ]
    },
    {
     "data": {
      "application/vnd.jupyter.widget-view+json": {
       "model_id": "f634dce3430a4d228c00f73938a40ddf",
       "version_major": 2,
       "version_minor": 0
      },
      "text/plain": [
       "compute_z()::   0%|          | 0/4822 [00:00<?, ?it/s]"
      ]
     },
     "metadata": {},
     "output_type": "display_data"
    },
    {
     "data": {
      "application/vnd.jupyter.widget-view+json": {
       "model_id": "82a1dc090b2c4a46bba04c60d37c7d8f",
       "version_major": 2,
       "version_minor": 0
      },
      "text/plain": [
       "CalculateMu() :   0%|          | 0/27728 [00:00<?, ?it/s]"
      ]
     },
     "metadata": {},
     "output_type": "display_data"
    },
    {
     "data": {
      "application/vnd.jupyter.widget-view+json": {
       "model_id": "7aeefcc418b449edbf9547704cf95721",
       "version_major": 2,
       "version_minor": 0
      },
      "text/plain": [
       "NLL_total() :   0%|          | 0/4822 [00:00<?, ?it/s]"
      ]
     },
     "metadata": {},
     "output_type": "display_data"
    },
    {
     "name": "stdout",
     "output_type": "stream",
     "text": [
      "While loop iteration3\n"
     ]
    },
    {
     "data": {
      "application/vnd.jupyter.widget-view+json": {
       "model_id": "66e1bf398f914ca89bcf038c37f439c4",
       "version_major": 2,
       "version_minor": 0
      },
      "text/plain": [
       "compute_z()::   0%|          | 0/4822 [00:00<?, ?it/s]"
      ]
     },
     "metadata": {},
     "output_type": "display_data"
    },
    {
     "data": {
      "application/vnd.jupyter.widget-view+json": {
       "model_id": "0140924bf7de47d3bb54c7149a26bb32",
       "version_major": 2,
       "version_minor": 0
      },
      "text/plain": [
       "CalculateMu() :   0%|          | 0/27728 [00:00<?, ?it/s]"
      ]
     },
     "metadata": {},
     "output_type": "display_data"
    },
    {
     "data": {
      "application/vnd.jupyter.widget-view+json": {
       "model_id": "4940db026bc64cae90f4871e5305819c",
       "version_major": 2,
       "version_minor": 0
      },
      "text/plain": [
       "NLL_total() :   0%|          | 0/4822 [00:00<?, ?it/s]"
      ]
     },
     "metadata": {},
     "output_type": "display_data"
    },
    {
     "name": "stdout",
     "output_type": "stream",
     "text": [
      "While loop iteration4\n"
     ]
    },
    {
     "data": {
      "application/vnd.jupyter.widget-view+json": {
       "model_id": "ffb78490e58348ecabde0f1d0aa94fc7",
       "version_major": 2,
       "version_minor": 0
      },
      "text/plain": [
       "calc_Y_i() :   0%|          | 0/27728 [00:00<?, ?it/s]"
      ]
     },
     "metadata": {},
     "output_type": "display_data"
    },
    {
     "data": {
      "application/vnd.jupyter.widget-view+json": {
       "model_id": "b66361b7443a46c2af66de0404fc0efe",
       "version_major": 2,
       "version_minor": 0
      },
      "text/plain": [
       "Number of restarts :   0%|          | 0/5 [00:00<?, ?it/s]"
      ]
     },
     "metadata": {},
     "output_type": "display_data"
    },
    {
     "data": {
      "application/vnd.jupyter.widget-view+json": {
       "model_id": "8854299c8dc04aee956264ec931106b9",
       "version_major": 2,
       "version_minor": 0
      },
      "text/plain": [
       "CalculateMu() :   0%|          | 0/11091 [00:00<?, ?it/s]"
      ]
     },
     "metadata": {},
     "output_type": "display_data"
    },
    {
     "data": {
      "application/vnd.jupyter.widget-view+json": {
       "model_id": "f45f50c50aa941e78dc93da1eed719d3",
       "version_major": 2,
       "version_minor": 0
      },
      "text/plain": [
       "NLL_total() :   0%|          | 0/4822 [00:00<?, ?it/s]"
      ]
     },
     "metadata": {},
     "output_type": "display_data"
    },
    {
     "data": {
      "application/vnd.jupyter.widget-view+json": {
       "model_id": "3787d1543ca646138fe01ce1b5b1a7f3",
       "version_major": 2,
       "version_minor": 0
      },
      "text/plain": [
       "num_iter_restarts: 0 : 0it [00:00, ?it/s]"
      ]
     },
     "metadata": {},
     "output_type": "display_data"
    },
    {
     "data": {
      "application/vnd.jupyter.widget-view+json": {
       "model_id": "34ef60b8cb154f5dacc504718a934d57",
       "version_major": 2,
       "version_minor": 0
      },
      "text/plain": [
       "compute_z()::   0%|          | 0/4822 [00:00<?, ?it/s]"
      ]
     },
     "metadata": {},
     "output_type": "display_data"
    },
    {
     "data": {
      "application/vnd.jupyter.widget-view+json": {
       "model_id": "68a0f37389174f9ea4a3c9dd785e5e74",
       "version_major": 2,
       "version_minor": 0
      },
      "text/plain": [
       "CalculateMu() :   0%|          | 0/11091 [00:00<?, ?it/s]"
      ]
     },
     "metadata": {},
     "output_type": "display_data"
    },
    {
     "data": {
      "application/vnd.jupyter.widget-view+json": {
       "model_id": "1dd92184ddfa48c0bb087830f947d9c0",
       "version_major": 2,
       "version_minor": 0
      },
      "text/plain": [
       "NLL_total() :   0%|          | 0/4822 [00:00<?, ?it/s]"
      ]
     },
     "metadata": {},
     "output_type": "display_data"
    },
    {
     "data": {
      "application/vnd.jupyter.widget-view+json": {
       "model_id": "0221de48e7c14956b49147b9c323713c",
       "version_major": 2,
       "version_minor": 0
      },
      "text/plain": [
       "num_iter_restarts: 1 : 0it [00:00, ?it/s]"
      ]
     },
     "metadata": {},
     "output_type": "display_data"
    },
    {
     "data": {
      "application/vnd.jupyter.widget-view+json": {
       "model_id": "2d29a6fd37574fe38be88dd9e9c9ffe2",
       "version_major": 2,
       "version_minor": 0
      },
      "text/plain": [
       "compute_z()::   0%|          | 0/4822 [00:00<?, ?it/s]"
      ]
     },
     "metadata": {},
     "output_type": "display_data"
    },
    {
     "data": {
      "application/vnd.jupyter.widget-view+json": {
       "model_id": "aefaf124f2f94d62800d64d61cab38f4",
       "version_major": 2,
       "version_minor": 0
      },
      "text/plain": [
       "CalculateMu() :   0%|          | 0/11091 [00:00<?, ?it/s]"
      ]
     },
     "metadata": {},
     "output_type": "display_data"
    },
    {
     "data": {
      "application/vnd.jupyter.widget-view+json": {
       "model_id": "27c7e48ca82249f4bcf79e3403fd149d",
       "version_major": 2,
       "version_minor": 0
      },
      "text/plain": [
       "NLL_total() :   0%|          | 0/4822 [00:00<?, ?it/s]"
      ]
     },
     "metadata": {},
     "output_type": "display_data"
    },
    {
     "data": {
      "application/vnd.jupyter.widget-view+json": {
       "model_id": "e7087cad48fe4540b6922df6d538aa31",
       "version_major": 2,
       "version_minor": 0
      },
      "text/plain": [
       "num_iter_restarts: 2 : 0it [00:00, ?it/s]"
      ]
     },
     "metadata": {},
     "output_type": "display_data"
    },
    {
     "data": {
      "application/vnd.jupyter.widget-view+json": {
       "model_id": "2b20592ad6944131a5629191272c54e7",
       "version_major": 2,
       "version_minor": 0
      },
      "text/plain": [
       "compute_z()::   0%|          | 0/4822 [00:00<?, ?it/s]"
      ]
     },
     "metadata": {},
     "output_type": "display_data"
    },
    {
     "data": {
      "application/vnd.jupyter.widget-view+json": {
       "model_id": "ffb4ac1a0039469db64a90b261bff4db",
       "version_major": 2,
       "version_minor": 0
      },
      "text/plain": [
       "CalculateMu() :   0%|          | 0/11091 [00:00<?, ?it/s]"
      ]
     },
     "metadata": {},
     "output_type": "display_data"
    },
    {
     "data": {
      "application/vnd.jupyter.widget-view+json": {
       "model_id": "4384a9fd99254a589a23c638330232fa",
       "version_major": 2,
       "version_minor": 0
      },
      "text/plain": [
       "NLL_total() :   0%|          | 0/4822 [00:00<?, ?it/s]"
      ]
     },
     "metadata": {},
     "output_type": "display_data"
    },
    {
     "data": {
      "application/vnd.jupyter.widget-view+json": {
       "model_id": "4a4708c2c3cb4ca59f859da3c089dd6f",
       "version_major": 2,
       "version_minor": 0
      },
      "text/plain": [
       "num_iter_restarts: 3 : 0it [00:00, ?it/s]"
      ]
     },
     "metadata": {},
     "output_type": "display_data"
    },
    {
     "data": {
      "application/vnd.jupyter.widget-view+json": {
       "model_id": "1ba8f619766146fcb7f812100a15a09b",
       "version_major": 2,
       "version_minor": 0
      },
      "text/plain": [
       "compute_z()::   0%|          | 0/4822 [00:00<?, ?it/s]"
      ]
     },
     "metadata": {},
     "output_type": "display_data"
    },
    {
     "data": {
      "application/vnd.jupyter.widget-view+json": {
       "model_id": "5c69e6f878094e7bb5cf19e9ce0b1166",
       "version_major": 2,
       "version_minor": 0
      },
      "text/plain": [
       "CalculateMu() :   0%|          | 0/11091 [00:00<?, ?it/s]"
      ]
     },
     "metadata": {},
     "output_type": "display_data"
    },
    {
     "data": {
      "application/vnd.jupyter.widget-view+json": {
       "model_id": "3100bef37ec3456782dcdcb367dc20d8",
       "version_major": 2,
       "version_minor": 0
      },
      "text/plain": [
       "NLL_total() :   0%|          | 0/4822 [00:00<?, ?it/s]"
      ]
     },
     "metadata": {},
     "output_type": "display_data"
    },
    {
     "data": {
      "application/vnd.jupyter.widget-view+json": {
       "model_id": "7437b46f477b484db1de23f92cc0573c",
       "version_major": 2,
       "version_minor": 0
      },
      "text/plain": [
       "num_iter_restarts: 4 : 0it [00:00, ?it/s]"
      ]
     },
     "metadata": {},
     "output_type": "display_data"
    },
    {
     "data": {
      "application/vnd.jupyter.widget-view+json": {
       "model_id": "2e6181d3064f497cb3a534288bdaada4",
       "version_major": 2,
       "version_minor": 0
      },
      "text/plain": [
       "CalculateMu() :   0%|          | 0/11091 [00:00<?, ?it/s]"
      ]
     },
     "metadata": {},
     "output_type": "display_data"
    },
    {
     "data": {
      "application/vnd.jupyter.widget-view+json": {
       "model_id": "27f380afa5f64553bb29503bb0976cac",
       "version_major": 2,
       "version_minor": 0
      },
      "text/plain": [
       "NLL_total() :   0%|          | 0/4822 [00:00<?, ?it/s]"
      ]
     },
     "metadata": {},
     "output_type": "display_data"
    },
    {
     "data": {
      "application/vnd.jupyter.widget-view+json": {
       "model_id": "1085ece399924f4f80fd98be9ce3150a",
       "version_major": 2,
       "version_minor": 0
      },
      "text/plain": [
       "num_iter_restarts: 0 : 0it [00:00, ?it/s]"
      ]
     },
     "metadata": {},
     "output_type": "display_data"
    },
    {
     "data": {
      "application/vnd.jupyter.widget-view+json": {
       "model_id": "ac4d6e6f809942caa22163531d771422",
       "version_major": 2,
       "version_minor": 0
      },
      "text/plain": [
       "compute_z()::   0%|          | 0/4822 [00:00<?, ?it/s]"
      ]
     },
     "metadata": {},
     "output_type": "display_data"
    },
    {
     "data": {
      "application/vnd.jupyter.widget-view+json": {
       "model_id": "ea441fbf4de34fd78299f89712858cb8",
       "version_major": 2,
       "version_minor": 0
      },
      "text/plain": [
       "CalculateMu() :   0%|          | 0/11091 [00:00<?, ?it/s]"
      ]
     },
     "metadata": {},
     "output_type": "display_data"
    },
    {
     "data": {
      "application/vnd.jupyter.widget-view+json": {
       "model_id": "232a09f2d09240e1aee87a819ee8569e",
       "version_major": 2,
       "version_minor": 0
      },
      "text/plain": [
       "NLL_total() :   0%|          | 0/4822 [00:00<?, ?it/s]"
      ]
     },
     "metadata": {},
     "output_type": "display_data"
    },
    {
     "data": {
      "application/vnd.jupyter.widget-view+json": {
       "model_id": "8a3ef659cbb048038743106260e171c1",
       "version_major": 2,
       "version_minor": 0
      },
      "text/plain": [
       "num_iter_restarts: 1 : 0it [00:00, ?it/s]"
      ]
     },
     "metadata": {},
     "output_type": "display_data"
    },
    {
     "data": {
      "application/vnd.jupyter.widget-view+json": {
       "model_id": "64a2ac3bde40402797423253ddc48fd9",
       "version_major": 2,
       "version_minor": 0
      },
      "text/plain": [
       "compute_z()::   0%|          | 0/4822 [00:00<?, ?it/s]"
      ]
     },
     "metadata": {},
     "output_type": "display_data"
    },
    {
     "data": {
      "application/vnd.jupyter.widget-view+json": {
       "model_id": "304f3b9ae433471b9c10f5b1c2b56ff8",
       "version_major": 2,
       "version_minor": 0
      },
      "text/plain": [
       "CalculateMu() :   0%|          | 0/11091 [00:00<?, ?it/s]"
      ]
     },
     "metadata": {},
     "output_type": "display_data"
    },
    {
     "data": {
      "application/vnd.jupyter.widget-view+json": {
       "model_id": "b6850860151845d3b8cdd8d2f6758d10",
       "version_major": 2,
       "version_minor": 0
      },
      "text/plain": [
       "NLL_total() :   0%|          | 0/4822 [00:00<?, ?it/s]"
      ]
     },
     "metadata": {},
     "output_type": "display_data"
    },
    {
     "data": {
      "application/vnd.jupyter.widget-view+json": {
       "model_id": "b7f4aba3e46745948e3b21108a0c0c5e",
       "version_major": 2,
       "version_minor": 0
      },
      "text/plain": [
       "num_iter_restarts: 2 : 0it [00:00, ?it/s]"
      ]
     },
     "metadata": {},
     "output_type": "display_data"
    },
    {
     "data": {
      "application/vnd.jupyter.widget-view+json": {
       "model_id": "d626edaef4ed47a1b06fd928dcd15b45",
       "version_major": 2,
       "version_minor": 0
      },
      "text/plain": [
       "compute_z()::   0%|          | 0/4822 [00:00<?, ?it/s]"
      ]
     },
     "metadata": {},
     "output_type": "display_data"
    },
    {
     "data": {
      "application/vnd.jupyter.widget-view+json": {
       "model_id": "11d1d31795a642d29342737361a76c93",
       "version_major": 2,
       "version_minor": 0
      },
      "text/plain": [
       "CalculateMu() :   0%|          | 0/11091 [00:00<?, ?it/s]"
      ]
     },
     "metadata": {},
     "output_type": "display_data"
    },
    {
     "data": {
      "application/vnd.jupyter.widget-view+json": {
       "model_id": "2eb2bb412bc043d1a4802dc604df9446",
       "version_major": 2,
       "version_minor": 0
      },
      "text/plain": [
       "NLL_total() :   0%|          | 0/4822 [00:00<?, ?it/s]"
      ]
     },
     "metadata": {},
     "output_type": "display_data"
    },
    {
     "data": {
      "application/vnd.jupyter.widget-view+json": {
       "model_id": "5de40f68f6b44bc587baba3b850f69cd",
       "version_major": 2,
       "version_minor": 0
      },
      "text/plain": [
       "num_iter_restarts: 3 : 0it [00:00, ?it/s]"
      ]
     },
     "metadata": {},
     "output_type": "display_data"
    },
    {
     "data": {
      "application/vnd.jupyter.widget-view+json": {
       "model_id": "a877a15159414313b907045fdc475f75",
       "version_major": 2,
       "version_minor": 0
      },
      "text/plain": [
       "compute_z()::   0%|          | 0/4822 [00:00<?, ?it/s]"
      ]
     },
     "metadata": {},
     "output_type": "display_data"
    },
    {
     "data": {
      "application/vnd.jupyter.widget-view+json": {
       "model_id": "ceeb44a6a2704bb1b3bf9cd6147b725e",
       "version_major": 2,
       "version_minor": 0
      },
      "text/plain": [
       "CalculateMu() :   0%|          | 0/11091 [00:00<?, ?it/s]"
      ]
     },
     "metadata": {},
     "output_type": "display_data"
    },
    {
     "data": {
      "application/vnd.jupyter.widget-view+json": {
       "model_id": "82b524b6851f4754aa07728ff3f6e52f",
       "version_major": 2,
       "version_minor": 0
      },
      "text/plain": [
       "NLL_total() :   0%|          | 0/4822 [00:00<?, ?it/s]"
      ]
     },
     "metadata": {},
     "output_type": "display_data"
    },
    {
     "data": {
      "application/vnd.jupyter.widget-view+json": {
       "model_id": "e3682fc306e34abda2527bcd22736300",
       "version_major": 2,
       "version_minor": 0
      },
      "text/plain": [
       "num_iter_restarts: 4 : 0it [00:00, ?it/s]"
      ]
     },
     "metadata": {},
     "output_type": "display_data"
    },
    {
     "data": {
      "application/vnd.jupyter.widget-view+json": {
       "model_id": "78b160a639544ade8c532fa5ab8c09cd",
       "version_major": 2,
       "version_minor": 0
      },
      "text/plain": [
       "CalculateMu() :   0%|          | 0/11091 [00:00<?, ?it/s]"
      ]
     },
     "metadata": {},
     "output_type": "display_data"
    },
    {
     "data": {
      "application/vnd.jupyter.widget-view+json": {
       "model_id": "b31d16b2c3d04ea29e3834c548dcf9f5",
       "version_major": 2,
       "version_minor": 0
      },
      "text/plain": [
       "NLL_total() :   0%|          | 0/4822 [00:00<?, ?it/s]"
      ]
     },
     "metadata": {},
     "output_type": "display_data"
    },
    {
     "data": {
      "application/vnd.jupyter.widget-view+json": {
       "model_id": "05b16fb6c811469bbd54f906d552181a",
       "version_major": 2,
       "version_minor": 0
      },
      "text/plain": [
       "num_iter_restarts: 0 : 0it [00:00, ?it/s]"
      ]
     },
     "metadata": {},
     "output_type": "display_data"
    },
    {
     "data": {
      "application/vnd.jupyter.widget-view+json": {
       "model_id": "658c170e17074b26a1adebbdd20a7ec9",
       "version_major": 2,
       "version_minor": 0
      },
      "text/plain": [
       "compute_z()::   0%|          | 0/4822 [00:00<?, ?it/s]"
      ]
     },
     "metadata": {},
     "output_type": "display_data"
    },
    {
     "data": {
      "application/vnd.jupyter.widget-view+json": {
       "model_id": "03b369dca6d94e7486bfd961ed7f1f92",
       "version_major": 2,
       "version_minor": 0
      },
      "text/plain": [
       "CalculateMu() :   0%|          | 0/11091 [00:00<?, ?it/s]"
      ]
     },
     "metadata": {},
     "output_type": "display_data"
    },
    {
     "data": {
      "application/vnd.jupyter.widget-view+json": {
       "model_id": "7c010c531c464cacb664adaa7dbb20bd",
       "version_major": 2,
       "version_minor": 0
      },
      "text/plain": [
       "NLL_total() :   0%|          | 0/4822 [00:00<?, ?it/s]"
      ]
     },
     "metadata": {},
     "output_type": "display_data"
    },
    {
     "data": {
      "application/vnd.jupyter.widget-view+json": {
       "model_id": "5128ab71b7204292b66ed3512fc3a106",
       "version_major": 2,
       "version_minor": 0
      },
      "text/plain": [
       "num_iter_restarts: 1 : 0it [00:00, ?it/s]"
      ]
     },
     "metadata": {},
     "output_type": "display_data"
    },
    {
     "data": {
      "application/vnd.jupyter.widget-view+json": {
       "model_id": "73c0c0dde5b44a17b62258ff39c76ab0",
       "version_major": 2,
       "version_minor": 0
      },
      "text/plain": [
       "compute_z()::   0%|          | 0/4822 [00:00<?, ?it/s]"
      ]
     },
     "metadata": {},
     "output_type": "display_data"
    },
    {
     "data": {
      "application/vnd.jupyter.widget-view+json": {
       "model_id": "eb1225d46f1f4e809d0d8f48b2ee39e3",
       "version_major": 2,
       "version_minor": 0
      },
      "text/plain": [
       "CalculateMu() :   0%|          | 0/11091 [00:00<?, ?it/s]"
      ]
     },
     "metadata": {},
     "output_type": "display_data"
    },
    {
     "data": {
      "application/vnd.jupyter.widget-view+json": {
       "model_id": "26d32d5850714cdfb377a7bb48a7cfed",
       "version_major": 2,
       "version_minor": 0
      },
      "text/plain": [
       "NLL_total() :   0%|          | 0/4822 [00:00<?, ?it/s]"
      ]
     },
     "metadata": {},
     "output_type": "display_data"
    },
    {
     "data": {
      "application/vnd.jupyter.widget-view+json": {
       "model_id": "39ad61f7f04f47a78682ab8d56696d00",
       "version_major": 2,
       "version_minor": 0
      },
      "text/plain": [
       "num_iter_restarts: 2 : 0it [00:00, ?it/s]"
      ]
     },
     "metadata": {},
     "output_type": "display_data"
    },
    {
     "data": {
      "application/vnd.jupyter.widget-view+json": {
       "model_id": "57c18d7c5890493eb2a8894091211316",
       "version_major": 2,
       "version_minor": 0
      },
      "text/plain": [
       "compute_z()::   0%|          | 0/4822 [00:00<?, ?it/s]"
      ]
     },
     "metadata": {},
     "output_type": "display_data"
    },
    {
     "data": {
      "application/vnd.jupyter.widget-view+json": {
       "model_id": "34e28c179db74443849d6363a5fa0231",
       "version_major": 2,
       "version_minor": 0
      },
      "text/plain": [
       "CalculateMu() :   0%|          | 0/11091 [00:00<?, ?it/s]"
      ]
     },
     "metadata": {},
     "output_type": "display_data"
    },
    {
     "data": {
      "application/vnd.jupyter.widget-view+json": {
       "model_id": "b941b0d011f94f40a7446d35e3f0e77f",
       "version_major": 2,
       "version_minor": 0
      },
      "text/plain": [
       "NLL_total() :   0%|          | 0/4822 [00:00<?, ?it/s]"
      ]
     },
     "metadata": {},
     "output_type": "display_data"
    },
    {
     "data": {
      "application/vnd.jupyter.widget-view+json": {
       "model_id": "143d722fec384b0bbb0183d5a67b060c",
       "version_major": 2,
       "version_minor": 0
      },
      "text/plain": [
       "num_iter_restarts: 3 : 0it [00:00, ?it/s]"
      ]
     },
     "metadata": {},
     "output_type": "display_data"
    },
    {
     "data": {
      "application/vnd.jupyter.widget-view+json": {
       "model_id": "8b19eeb1b3fe4d07affd4c2824349685",
       "version_major": 2,
       "version_minor": 0
      },
      "text/plain": [
       "compute_z()::   0%|          | 0/4822 [00:00<?, ?it/s]"
      ]
     },
     "metadata": {},
     "output_type": "display_data"
    },
    {
     "data": {
      "application/vnd.jupyter.widget-view+json": {
       "model_id": "c4b9327138934213943e505969d3fb18",
       "version_major": 2,
       "version_minor": 0
      },
      "text/plain": [
       "CalculateMu() :   0%|          | 0/11091 [00:00<?, ?it/s]"
      ]
     },
     "metadata": {},
     "output_type": "display_data"
    },
    {
     "data": {
      "application/vnd.jupyter.widget-view+json": {
       "model_id": "e9012968d3954858ba18a66a4d60896c",
       "version_major": 2,
       "version_minor": 0
      },
      "text/plain": [
       "NLL_total() :   0%|          | 0/4822 [00:00<?, ?it/s]"
      ]
     },
     "metadata": {},
     "output_type": "display_data"
    },
    {
     "data": {
      "application/vnd.jupyter.widget-view+json": {
       "model_id": "77558f10efc74783bbdf0b97dd54685c",
       "version_major": 2,
       "version_minor": 0
      },
      "text/plain": [
       "num_iter_restarts: 4 : 0it [00:00, ?it/s]"
      ]
     },
     "metadata": {},
     "output_type": "display_data"
    },
    {
     "data": {
      "application/vnd.jupyter.widget-view+json": {
       "model_id": "9beba3f1eddb4bd69d576fd027bb60aa",
       "version_major": 2,
       "version_minor": 0
      },
      "text/plain": [
       "CalculateMu() :   0%|          | 0/11091 [00:00<?, ?it/s]"
      ]
     },
     "metadata": {},
     "output_type": "display_data"
    },
    {
     "data": {
      "application/vnd.jupyter.widget-view+json": {
       "model_id": "1f792e4ef21c4a12b790ea365a13dcae",
       "version_major": 2,
       "version_minor": 0
      },
      "text/plain": [
       "NLL_total() :   0%|          | 0/4822 [00:00<?, ?it/s]"
      ]
     },
     "metadata": {},
     "output_type": "display_data"
    },
    {
     "data": {
      "application/vnd.jupyter.widget-view+json": {
       "model_id": "e4f832a804c14c059ba592672c5cdf1b",
       "version_major": 2,
       "version_minor": 0
      },
      "text/plain": [
       "num_iter_restarts: 0 : 0it [00:00, ?it/s]"
      ]
     },
     "metadata": {},
     "output_type": "display_data"
    },
    {
     "data": {
      "application/vnd.jupyter.widget-view+json": {
       "model_id": "cb83779558994deebb2fa5c5ab981576",
       "version_major": 2,
       "version_minor": 0
      },
      "text/plain": [
       "compute_z()::   0%|          | 0/4822 [00:00<?, ?it/s]"
      ]
     },
     "metadata": {},
     "output_type": "display_data"
    },
    {
     "data": {
      "application/vnd.jupyter.widget-view+json": {
       "model_id": "0f93903faeab49a0b47497e9570b5b2c",
       "version_major": 2,
       "version_minor": 0
      },
      "text/plain": [
       "CalculateMu() :   0%|          | 0/11091 [00:00<?, ?it/s]"
      ]
     },
     "metadata": {},
     "output_type": "display_data"
    },
    {
     "data": {
      "application/vnd.jupyter.widget-view+json": {
       "model_id": "f4714c08b5e84a4da56a617ed613693c",
       "version_major": 2,
       "version_minor": 0
      },
      "text/plain": [
       "NLL_total() :   0%|          | 0/4822 [00:00<?, ?it/s]"
      ]
     },
     "metadata": {},
     "output_type": "display_data"
    },
    {
     "data": {
      "application/vnd.jupyter.widget-view+json": {
       "model_id": "b8fceef88d8d49a0b064ecff63afae0c",
       "version_major": 2,
       "version_minor": 0
      },
      "text/plain": [
       "num_iter_restarts: 1 : 0it [00:00, ?it/s]"
      ]
     },
     "metadata": {},
     "output_type": "display_data"
    },
    {
     "data": {
      "application/vnd.jupyter.widget-view+json": {
       "model_id": "a84a0674de8a48df8aba30769f451129",
       "version_major": 2,
       "version_minor": 0
      },
      "text/plain": [
       "compute_z()::   0%|          | 0/4822 [00:00<?, ?it/s]"
      ]
     },
     "metadata": {},
     "output_type": "display_data"
    },
    {
     "data": {
      "application/vnd.jupyter.widget-view+json": {
       "model_id": "0f1faf36be814ef4bac1adce13a666f1",
       "version_major": 2,
       "version_minor": 0
      },
      "text/plain": [
       "CalculateMu() :   0%|          | 0/11091 [00:00<?, ?it/s]"
      ]
     },
     "metadata": {},
     "output_type": "display_data"
    },
    {
     "data": {
      "application/vnd.jupyter.widget-view+json": {
       "model_id": "fc3728151f5142b7981475aa620de770",
       "version_major": 2,
       "version_minor": 0
      },
      "text/plain": [
       "NLL_total() :   0%|          | 0/4822 [00:00<?, ?it/s]"
      ]
     },
     "metadata": {},
     "output_type": "display_data"
    },
    {
     "data": {
      "application/vnd.jupyter.widget-view+json": {
       "model_id": "c5f1fb9fb2f24708881fed0432d7db59",
       "version_major": 2,
       "version_minor": 0
      },
      "text/plain": [
       "num_iter_restarts: 2 : 0it [00:00, ?it/s]"
      ]
     },
     "metadata": {},
     "output_type": "display_data"
    },
    {
     "data": {
      "application/vnd.jupyter.widget-view+json": {
       "model_id": "16ec3a63bab54215b994011c5dab2c64",
       "version_major": 2,
       "version_minor": 0
      },
      "text/plain": [
       "compute_z()::   0%|          | 0/4822 [00:00<?, ?it/s]"
      ]
     },
     "metadata": {},
     "output_type": "display_data"
    },
    {
     "data": {
      "application/vnd.jupyter.widget-view+json": {
       "model_id": "213119e4656d4b6bbd1c87aac287acbb",
       "version_major": 2,
       "version_minor": 0
      },
      "text/plain": [
       "CalculateMu() :   0%|          | 0/11091 [00:00<?, ?it/s]"
      ]
     },
     "metadata": {},
     "output_type": "display_data"
    },
    {
     "data": {
      "application/vnd.jupyter.widget-view+json": {
       "model_id": "20df27f3003f452c8c56b86fe2d87d20",
       "version_major": 2,
       "version_minor": 0
      },
      "text/plain": [
       "NLL_total() :   0%|          | 0/4822 [00:00<?, ?it/s]"
      ]
     },
     "metadata": {},
     "output_type": "display_data"
    },
    {
     "data": {
      "application/vnd.jupyter.widget-view+json": {
       "model_id": "83546bab4f954ad982e0e502ec4a44e3",
       "version_major": 2,
       "version_minor": 0
      },
      "text/plain": [
       "num_iter_restarts: 3 : 0it [00:00, ?it/s]"
      ]
     },
     "metadata": {},
     "output_type": "display_data"
    },
    {
     "data": {
      "application/vnd.jupyter.widget-view+json": {
       "model_id": "1b941870a0884fd98d724d30004a8e6a",
       "version_major": 2,
       "version_minor": 0
      },
      "text/plain": [
       "compute_z()::   0%|          | 0/4822 [00:00<?, ?it/s]"
      ]
     },
     "metadata": {},
     "output_type": "display_data"
    },
    {
     "data": {
      "application/vnd.jupyter.widget-view+json": {
       "model_id": "a45e82d6c5624ae7817c320b5d836fcf",
       "version_major": 2,
       "version_minor": 0
      },
      "text/plain": [
       "CalculateMu() :   0%|          | 0/11091 [00:00<?, ?it/s]"
      ]
     },
     "metadata": {},
     "output_type": "display_data"
    },
    {
     "data": {
      "application/vnd.jupyter.widget-view+json": {
       "model_id": "60756222edcd4ac4be99feec8374e1b1",
       "version_major": 2,
       "version_minor": 0
      },
      "text/plain": [
       "NLL_total() :   0%|          | 0/4822 [00:00<?, ?it/s]"
      ]
     },
     "metadata": {},
     "output_type": "display_data"
    },
    {
     "data": {
      "application/vnd.jupyter.widget-view+json": {
       "model_id": "e48e6d152f4046a8806f8837e228c482",
       "version_major": 2,
       "version_minor": 0
      },
      "text/plain": [
       "num_iter_restarts: 4 : 0it [00:00, ?it/s]"
      ]
     },
     "metadata": {},
     "output_type": "display_data"
    },
    {
     "data": {
      "application/vnd.jupyter.widget-view+json": {
       "model_id": "732fdc5fd89e4a2eab12fbfb1c57479e",
       "version_major": 2,
       "version_minor": 0
      },
      "text/plain": [
       "CalculateMu() :   0%|          | 0/11091 [00:00<?, ?it/s]"
      ]
     },
     "metadata": {},
     "output_type": "display_data"
    },
    {
     "data": {
      "application/vnd.jupyter.widget-view+json": {
       "model_id": "5aad4d6b830e4f93be1f1539e0e078a2",
       "version_major": 2,
       "version_minor": 0
      },
      "text/plain": [
       "NLL_total() :   0%|          | 0/4822 [00:00<?, ?it/s]"
      ]
     },
     "metadata": {},
     "output_type": "display_data"
    },
    {
     "data": {
      "application/vnd.jupyter.widget-view+json": {
       "model_id": "e266dcd604824506b698bfc2e35c605b",
       "version_major": 2,
       "version_minor": 0
      },
      "text/plain": [
       "num_iter_restarts: 0 : 0it [00:00, ?it/s]"
      ]
     },
     "metadata": {},
     "output_type": "display_data"
    },
    {
     "data": {
      "application/vnd.jupyter.widget-view+json": {
       "model_id": "d6f3e58ff113448984e60f42ebe987e0",
       "version_major": 2,
       "version_minor": 0
      },
      "text/plain": [
       "compute_z()::   0%|          | 0/4822 [00:00<?, ?it/s]"
      ]
     },
     "metadata": {},
     "output_type": "display_data"
    },
    {
     "data": {
      "application/vnd.jupyter.widget-view+json": {
       "model_id": "1f69d16d385f4deea1d9cf1fc1caa744",
       "version_major": 2,
       "version_minor": 0
      },
      "text/plain": [
       "CalculateMu() :   0%|          | 0/11091 [00:00<?, ?it/s]"
      ]
     },
     "metadata": {},
     "output_type": "display_data"
    },
    {
     "data": {
      "application/vnd.jupyter.widget-view+json": {
       "model_id": "ee2af18051d149409d4722ce9a89575e",
       "version_major": 2,
       "version_minor": 0
      },
      "text/plain": [
       "NLL_total() :   0%|          | 0/4822 [00:00<?, ?it/s]"
      ]
     },
     "metadata": {},
     "output_type": "display_data"
    },
    {
     "data": {
      "application/vnd.jupyter.widget-view+json": {
       "model_id": "f12db1eb73bc48809ad585305d6b7970",
       "version_major": 2,
       "version_minor": 0
      },
      "text/plain": [
       "num_iter_restarts: 1 : 0it [00:00, ?it/s]"
      ]
     },
     "metadata": {},
     "output_type": "display_data"
    },
    {
     "data": {
      "application/vnd.jupyter.widget-view+json": {
       "model_id": "0114f7cab6b14ee6ae9f0b417204b5c6",
       "version_major": 2,
       "version_minor": 0
      },
      "text/plain": [
       "compute_z()::   0%|          | 0/4822 [00:00<?, ?it/s]"
      ]
     },
     "metadata": {},
     "output_type": "display_data"
    },
    {
     "data": {
      "application/vnd.jupyter.widget-view+json": {
       "model_id": "a015849aa7e04a7a88edb8b311214da9",
       "version_major": 2,
       "version_minor": 0
      },
      "text/plain": [
       "CalculateMu() :   0%|          | 0/11091 [00:00<?, ?it/s]"
      ]
     },
     "metadata": {},
     "output_type": "display_data"
    },
    {
     "data": {
      "application/vnd.jupyter.widget-view+json": {
       "model_id": "59f2341de27d40c4986d065a192b0ce2",
       "version_major": 2,
       "version_minor": 0
      },
      "text/plain": [
       "NLL_total() :   0%|          | 0/4822 [00:00<?, ?it/s]"
      ]
     },
     "metadata": {},
     "output_type": "display_data"
    },
    {
     "data": {
      "application/vnd.jupyter.widget-view+json": {
       "model_id": "5a0052eb5abe43b08825277a3793e1ed",
       "version_major": 2,
       "version_minor": 0
      },
      "text/plain": [
       "num_iter_restarts: 2 : 0it [00:00, ?it/s]"
      ]
     },
     "metadata": {},
     "output_type": "display_data"
    },
    {
     "data": {
      "application/vnd.jupyter.widget-view+json": {
       "model_id": "a3958f64358e482aa1bc1152319954fe",
       "version_major": 2,
       "version_minor": 0
      },
      "text/plain": [
       "compute_z()::   0%|          | 0/4822 [00:00<?, ?it/s]"
      ]
     },
     "metadata": {},
     "output_type": "display_data"
    },
    {
     "data": {
      "application/vnd.jupyter.widget-view+json": {
       "model_id": "db6fd9727c9144d1808b51c07ae29b1d",
       "version_major": 2,
       "version_minor": 0
      },
      "text/plain": [
       "CalculateMu() :   0%|          | 0/11091 [00:00<?, ?it/s]"
      ]
     },
     "metadata": {},
     "output_type": "display_data"
    },
    {
     "data": {
      "application/vnd.jupyter.widget-view+json": {
       "model_id": "0e501b533e3a41619ad7c8c0737c218b",
       "version_major": 2,
       "version_minor": 0
      },
      "text/plain": [
       "NLL_total() :   0%|          | 0/4822 [00:00<?, ?it/s]"
      ]
     },
     "metadata": {},
     "output_type": "display_data"
    },
    {
     "data": {
      "application/vnd.jupyter.widget-view+json": {
       "model_id": "56e4a6994c7e41e8aa0ad9f86693e577",
       "version_major": 2,
       "version_minor": 0
      },
      "text/plain": [
       "num_iter_restarts: 3 : 0it [00:00, ?it/s]"
      ]
     },
     "metadata": {},
     "output_type": "display_data"
    },
    {
     "data": {
      "application/vnd.jupyter.widget-view+json": {
       "model_id": "fe6d128d90924e5c883429bb67a49ed1",
       "version_major": 2,
       "version_minor": 0
      },
      "text/plain": [
       "compute_z()::   0%|          | 0/4822 [00:00<?, ?it/s]"
      ]
     },
     "metadata": {},
     "output_type": "display_data"
    },
    {
     "data": {
      "application/vnd.jupyter.widget-view+json": {
       "model_id": "4c94a326ab074e6c81cfedc5ab40e8f3",
       "version_major": 2,
       "version_minor": 0
      },
      "text/plain": [
       "CalculateMu() :   0%|          | 0/11091 [00:00<?, ?it/s]"
      ]
     },
     "metadata": {},
     "output_type": "display_data"
    },
    {
     "data": {
      "application/vnd.jupyter.widget-view+json": {
       "model_id": "8391a507d1354953b8d2d44424ce314c",
       "version_major": 2,
       "version_minor": 0
      },
      "text/plain": [
       "NLL_total() :   0%|          | 0/4822 [00:00<?, ?it/s]"
      ]
     },
     "metadata": {},
     "output_type": "display_data"
    },
    {
     "data": {
      "application/vnd.jupyter.widget-view+json": {
       "model_id": "dcfad2bce5db45afb6cec51d0d3daf41",
       "version_major": 2,
       "version_minor": 0
      },
      "text/plain": [
       "num_iter_restarts: 4 : 0it [00:00, ?it/s]"
      ]
     },
     "metadata": {},
     "output_type": "display_data"
    },
    {
     "data": {
      "application/vnd.jupyter.widget-view+json": {
       "model_id": "217bf9463d8c4a79b3cd4ef3aa031275",
       "version_major": 2,
       "version_minor": 0
      },
      "text/plain": [
       "CalculateMu() :   0%|          | 0/11091 [00:00<?, ?it/s]"
      ]
     },
     "metadata": {},
     "output_type": "display_data"
    },
    {
     "data": {
      "application/vnd.jupyter.widget-view+json": {
       "model_id": "18476009e2b74bdb8c553d12c4969a90",
       "version_major": 2,
       "version_minor": 0
      },
      "text/plain": [
       "NLL_total() :   0%|          | 0/4822 [00:00<?, ?it/s]"
      ]
     },
     "metadata": {},
     "output_type": "display_data"
    },
    {
     "data": {
      "application/vnd.jupyter.widget-view+json": {
       "model_id": "a9b88e9084e94415b21d1bb9159858a8",
       "version_major": 2,
       "version_minor": 0
      },
      "text/plain": [
       "compute_z()::   0%|          | 0/4822 [00:00<?, ?it/s]"
      ]
     },
     "metadata": {},
     "output_type": "display_data"
    },
    {
     "data": {
      "application/vnd.jupyter.widget-view+json": {
       "model_id": "a7a5da08b00e4a59b3f8a78e461343e0",
       "version_major": 2,
       "version_minor": 0
      },
      "text/plain": [
       "CalculateMu() :   0%|          | 0/11091 [00:00<?, ?it/s]"
      ]
     },
     "metadata": {},
     "output_type": "display_data"
    },
    {
     "data": {
      "application/vnd.jupyter.widget-view+json": {
       "model_id": "b533d843c48048b7824129132eb30c13",
       "version_major": 2,
       "version_minor": 0
      },
      "text/plain": [
       "NLL_total() :   0%|          | 0/4822 [00:00<?, ?it/s]"
      ]
     },
     "metadata": {},
     "output_type": "display_data"
    },
    {
     "data": {
      "application/vnd.jupyter.widget-view+json": {
       "model_id": "97d62eef22a349749b6121fcad263cc1",
       "version_major": 2,
       "version_minor": 0
      },
      "text/plain": [
       "compute_z()::   0%|          | 0/4822 [00:00<?, ?it/s]"
      ]
     },
     "metadata": {},
     "output_type": "display_data"
    },
    {
     "data": {
      "application/vnd.jupyter.widget-view+json": {
       "model_id": "7054a42ac0cd433596162203e82a43c3",
       "version_major": 2,
       "version_minor": 0
      },
      "text/plain": [
       "CalculateMu() :   0%|          | 0/11091 [00:00<?, ?it/s]"
      ]
     },
     "metadata": {},
     "output_type": "display_data"
    },
    {
     "data": {
      "application/vnd.jupyter.widget-view+json": {
       "model_id": "87b388e1e8e446ccb75a7dc61ab283fb",
       "version_major": 2,
       "version_minor": 0
      },
      "text/plain": [
       "NLL_total() :   0%|          | 0/4822 [00:00<?, ?it/s]"
      ]
     },
     "metadata": {},
     "output_type": "display_data"
    },
    {
     "data": {
      "application/vnd.jupyter.widget-view+json": {
       "model_id": "ef1f2ec67cfc47198c93dfc04e20c05c",
       "version_major": 2,
       "version_minor": 0
      },
      "text/plain": [
       "compute_z()::   0%|          | 0/4822 [00:00<?, ?it/s]"
      ]
     },
     "metadata": {},
     "output_type": "display_data"
    },
    {
     "data": {
      "application/vnd.jupyter.widget-view+json": {
       "model_id": "3b851a622c0d4c088fc6b9d2f5e90b5c",
       "version_major": 2,
       "version_minor": 0
      },
      "text/plain": [
       "CalculateMu() :   0%|          | 0/11091 [00:00<?, ?it/s]"
      ]
     },
     "metadata": {},
     "output_type": "display_data"
    },
    {
     "data": {
      "application/vnd.jupyter.widget-view+json": {
       "model_id": "d6ed323a4b9f4f74ab1660b864ba30c3",
       "version_major": 2,
       "version_minor": 0
      },
      "text/plain": [
       "NLL_total() :   0%|          | 0/4822 [00:00<?, ?it/s]"
      ]
     },
     "metadata": {},
     "output_type": "display_data"
    },
    {
     "data": {
      "application/vnd.jupyter.widget-view+json": {
       "model_id": "a254a0dfc88649cfa0bd2d2a0b3792ee",
       "version_major": 2,
       "version_minor": 0
      },
      "text/plain": [
       "compute_z()::   0%|          | 0/4822 [00:00<?, ?it/s]"
      ]
     },
     "metadata": {},
     "output_type": "display_data"
    },
    {
     "data": {
      "application/vnd.jupyter.widget-view+json": {
       "model_id": "6299e11ebdeb4e91b6bc3923f66800bd",
       "version_major": 2,
       "version_minor": 0
      },
      "text/plain": [
       "CalculateMu() :   0%|          | 0/11091 [00:00<?, ?it/s]"
      ]
     },
     "metadata": {},
     "output_type": "display_data"
    },
    {
     "data": {
      "application/vnd.jupyter.widget-view+json": {
       "model_id": "29c75697d7b144309c43ad9fe77997c5",
       "version_major": 2,
       "version_minor": 0
      },
      "text/plain": [
       "NLL_total() :   0%|          | 0/4822 [00:00<?, ?it/s]"
      ]
     },
     "metadata": {},
     "output_type": "display_data"
    },
    {
     "name": "stdout",
     "output_type": "stream",
     "text": [
      "[-8426198.61622491]\n"
     ]
    },
    {
     "data": {
      "application/vnd.jupyter.widget-view+json": {
       "model_id": "319d3cbc65834d78bd2aee54f985df6a",
       "version_major": 2,
       "version_minor": 0
      },
      "text/plain": [
       "Number of restarts :   0%|          | 0/5 [00:00<?, ?it/s]"
      ]
     },
     "metadata": {},
     "output_type": "display_data"
    },
    {
     "data": {
      "application/vnd.jupyter.widget-view+json": {
       "model_id": "7ffce124e28a4c5ca473ee1fc65ba0fa",
       "version_major": 2,
       "version_minor": 0
      },
      "text/plain": [
       "CalculateMu() :   0%|          | 0/11091 [00:00<?, ?it/s]"
      ]
     },
     "metadata": {},
     "output_type": "display_data"
    },
    {
     "data": {
      "application/vnd.jupyter.widget-view+json": {
       "model_id": "32110e73db914291bd218a689c24e4f6",
       "version_major": 2,
       "version_minor": 0
      },
      "text/plain": [
       "NLL_total() :   0%|          | 0/4822 [00:00<?, ?it/s]"
      ]
     },
     "metadata": {},
     "output_type": "display_data"
    },
    {
     "data": {
      "application/vnd.jupyter.widget-view+json": {
       "model_id": "b9abf7ce799b4ce589ae5b0857153f3e",
       "version_major": 2,
       "version_minor": 0
      },
      "text/plain": [
       "num_iter_restarts: 0 : 0it [00:00, ?it/s]"
      ]
     },
     "metadata": {},
     "output_type": "display_data"
    },
    {
     "data": {
      "application/vnd.jupyter.widget-view+json": {
       "model_id": "8b3497ecec3849cfb2edfbd7ac8d1456",
       "version_major": 2,
       "version_minor": 0
      },
      "text/plain": [
       "compute_z()::   0%|          | 0/4822 [00:00<?, ?it/s]"
      ]
     },
     "metadata": {},
     "output_type": "display_data"
    },
    {
     "data": {
      "application/vnd.jupyter.widget-view+json": {
       "model_id": "63e8df2752574893ba4f07b9be35809d",
       "version_major": 2,
       "version_minor": 0
      },
      "text/plain": [
       "CalculateMu() :   0%|          | 0/11091 [00:00<?, ?it/s]"
      ]
     },
     "metadata": {},
     "output_type": "display_data"
    },
    {
     "data": {
      "application/vnd.jupyter.widget-view+json": {
       "model_id": "0b6817a661084a308c35b00da3915635",
       "version_major": 2,
       "version_minor": 0
      },
      "text/plain": [
       "NLL_total() :   0%|          | 0/4822 [00:00<?, ?it/s]"
      ]
     },
     "metadata": {},
     "output_type": "display_data"
    },
    {
     "data": {
      "application/vnd.jupyter.widget-view+json": {
       "model_id": "2384a36aea9f46e0bb0cc93a42b241a9",
       "version_major": 2,
       "version_minor": 0
      },
      "text/plain": [
       "num_iter_restarts: 1 : 0it [00:00, ?it/s]"
      ]
     },
     "metadata": {},
     "output_type": "display_data"
    },
    {
     "data": {
      "application/vnd.jupyter.widget-view+json": {
       "model_id": "7ecf81fd25674900bca3617d42c4f4bb",
       "version_major": 2,
       "version_minor": 0
      },
      "text/plain": [
       "compute_z()::   0%|          | 0/4822 [00:00<?, ?it/s]"
      ]
     },
     "metadata": {},
     "output_type": "display_data"
    },
    {
     "data": {
      "application/vnd.jupyter.widget-view+json": {
       "model_id": "6fab2ccfe1024c61a6c133bf9478afe2",
       "version_major": 2,
       "version_minor": 0
      },
      "text/plain": [
       "CalculateMu() :   0%|          | 0/11091 [00:00<?, ?it/s]"
      ]
     },
     "metadata": {},
     "output_type": "display_data"
    },
    {
     "data": {
      "application/vnd.jupyter.widget-view+json": {
       "model_id": "192b3e8855ab45a89b4e7a848189107f",
       "version_major": 2,
       "version_minor": 0
      },
      "text/plain": [
       "NLL_total() :   0%|          | 0/4822 [00:00<?, ?it/s]"
      ]
     },
     "metadata": {},
     "output_type": "display_data"
    },
    {
     "data": {
      "application/vnd.jupyter.widget-view+json": {
       "model_id": "91cb34b444f6423ebd59aa80fc259be9",
       "version_major": 2,
       "version_minor": 0
      },
      "text/plain": [
       "num_iter_restarts: 2 : 0it [00:00, ?it/s]"
      ]
     },
     "metadata": {},
     "output_type": "display_data"
    },
    {
     "data": {
      "application/vnd.jupyter.widget-view+json": {
       "model_id": "12e5aca28b1943508fa9643e5c6d6c42",
       "version_major": 2,
       "version_minor": 0
      },
      "text/plain": [
       "compute_z()::   0%|          | 0/4822 [00:00<?, ?it/s]"
      ]
     },
     "metadata": {},
     "output_type": "display_data"
    },
    {
     "data": {
      "application/vnd.jupyter.widget-view+json": {
       "model_id": "8c953b6a60f648c98a97512aa119cf87",
       "version_major": 2,
       "version_minor": 0
      },
      "text/plain": [
       "CalculateMu() :   0%|          | 0/11091 [00:00<?, ?it/s]"
      ]
     },
     "metadata": {},
     "output_type": "display_data"
    },
    {
     "data": {
      "application/vnd.jupyter.widget-view+json": {
       "model_id": "9d90c3f698414db6bce2db7c6f60c6f4",
       "version_major": 2,
       "version_minor": 0
      },
      "text/plain": [
       "NLL_total() :   0%|          | 0/4822 [00:00<?, ?it/s]"
      ]
     },
     "metadata": {},
     "output_type": "display_data"
    },
    {
     "data": {
      "application/vnd.jupyter.widget-view+json": {
       "model_id": "b7f2c1cd122741b6b5c943ea23700c96",
       "version_major": 2,
       "version_minor": 0
      },
      "text/plain": [
       "num_iter_restarts: 3 : 0it [00:00, ?it/s]"
      ]
     },
     "metadata": {},
     "output_type": "display_data"
    },
    {
     "data": {
      "application/vnd.jupyter.widget-view+json": {
       "model_id": "af3472b8f3764ae2bab91c8beda6c5f4",
       "version_major": 2,
       "version_minor": 0
      },
      "text/plain": [
       "compute_z()::   0%|          | 0/4822 [00:00<?, ?it/s]"
      ]
     },
     "metadata": {},
     "output_type": "display_data"
    },
    {
     "data": {
      "application/vnd.jupyter.widget-view+json": {
       "model_id": "9c089b0286ea4eaaace3cc0f1466a945",
       "version_major": 2,
       "version_minor": 0
      },
      "text/plain": [
       "CalculateMu() :   0%|          | 0/11091 [00:00<?, ?it/s]"
      ]
     },
     "metadata": {},
     "output_type": "display_data"
    },
    {
     "data": {
      "application/vnd.jupyter.widget-view+json": {
       "model_id": "09e3832faac547f7af2ce685d15caaba",
       "version_major": 2,
       "version_minor": 0
      },
      "text/plain": [
       "NLL_total() :   0%|          | 0/4822 [00:00<?, ?it/s]"
      ]
     },
     "metadata": {},
     "output_type": "display_data"
    },
    {
     "data": {
      "application/vnd.jupyter.widget-view+json": {
       "model_id": "26e9087e6a364f72ac66b7024359c7ad",
       "version_major": 2,
       "version_minor": 0
      },
      "text/plain": [
       "num_iter_restarts: 4 : 0it [00:00, ?it/s]"
      ]
     },
     "metadata": {},
     "output_type": "display_data"
    },
    {
     "data": {
      "application/vnd.jupyter.widget-view+json": {
       "model_id": "ec1101bc32224f47a3db505fca4817e6",
       "version_major": 2,
       "version_minor": 0
      },
      "text/plain": [
       "CalculateMu() :   0%|          | 0/11091 [00:00<?, ?it/s]"
      ]
     },
     "metadata": {},
     "output_type": "display_data"
    },
    {
     "data": {
      "application/vnd.jupyter.widget-view+json": {
       "model_id": "b605d4cddd704ff9b88de33a35c04a70",
       "version_major": 2,
       "version_minor": 0
      },
      "text/plain": [
       "NLL_total() :   0%|          | 0/4822 [00:00<?, ?it/s]"
      ]
     },
     "metadata": {},
     "output_type": "display_data"
    },
    {
     "data": {
      "application/vnd.jupyter.widget-view+json": {
       "model_id": "62d5f1d2ec2b45418517d5e5af5b14ec",
       "version_major": 2,
       "version_minor": 0
      },
      "text/plain": [
       "num_iter_restarts: 0 : 0it [00:00, ?it/s]"
      ]
     },
     "metadata": {},
     "output_type": "display_data"
    },
    {
     "data": {
      "application/vnd.jupyter.widget-view+json": {
       "model_id": "25c39ab9a9c24d9481fb1f00e725a301",
       "version_major": 2,
       "version_minor": 0
      },
      "text/plain": [
       "compute_z()::   0%|          | 0/4822 [00:00<?, ?it/s]"
      ]
     },
     "metadata": {},
     "output_type": "display_data"
    },
    {
     "data": {
      "application/vnd.jupyter.widget-view+json": {
       "model_id": "5603ad24aa3f40838f2dd6625209a9e5",
       "version_major": 2,
       "version_minor": 0
      },
      "text/plain": [
       "CalculateMu() :   0%|          | 0/11091 [00:00<?, ?it/s]"
      ]
     },
     "metadata": {},
     "output_type": "display_data"
    },
    {
     "data": {
      "application/vnd.jupyter.widget-view+json": {
       "model_id": "6dc7775f7d994225a11d932b4fdbb7c9",
       "version_major": 2,
       "version_minor": 0
      },
      "text/plain": [
       "NLL_total() :   0%|          | 0/4822 [00:00<?, ?it/s]"
      ]
     },
     "metadata": {},
     "output_type": "display_data"
    },
    {
     "data": {
      "application/vnd.jupyter.widget-view+json": {
       "model_id": "43087101ccfd41f1afebe5b3e389760f",
       "version_major": 2,
       "version_minor": 0
      },
      "text/plain": [
       "num_iter_restarts: 1 : 0it [00:00, ?it/s]"
      ]
     },
     "metadata": {},
     "output_type": "display_data"
    },
    {
     "data": {
      "application/vnd.jupyter.widget-view+json": {
       "model_id": "eced68ce603843f49eb6543eae2ca260",
       "version_major": 2,
       "version_minor": 0
      },
      "text/plain": [
       "compute_z()::   0%|          | 0/4822 [00:00<?, ?it/s]"
      ]
     },
     "metadata": {},
     "output_type": "display_data"
    },
    {
     "data": {
      "application/vnd.jupyter.widget-view+json": {
       "model_id": "4a14e1a13bb4456c93a82d243ca0705c",
       "version_major": 2,
       "version_minor": 0
      },
      "text/plain": [
       "CalculateMu() :   0%|          | 0/11091 [00:00<?, ?it/s]"
      ]
     },
     "metadata": {},
     "output_type": "display_data"
    },
    {
     "data": {
      "application/vnd.jupyter.widget-view+json": {
       "model_id": "a34a2b393e384f1cb939bfe247baa8ea",
       "version_major": 2,
       "version_minor": 0
      },
      "text/plain": [
       "NLL_total() :   0%|          | 0/4822 [00:00<?, ?it/s]"
      ]
     },
     "metadata": {},
     "output_type": "display_data"
    },
    {
     "data": {
      "application/vnd.jupyter.widget-view+json": {
       "model_id": "95cb3469511d4438a2b9ff7e90d131e1",
       "version_major": 2,
       "version_minor": 0
      },
      "text/plain": [
       "num_iter_restarts: 2 : 0it [00:00, ?it/s]"
      ]
     },
     "metadata": {},
     "output_type": "display_data"
    },
    {
     "data": {
      "application/vnd.jupyter.widget-view+json": {
       "model_id": "2a0d10a137224949aefcb0fdb9dfd929",
       "version_major": 2,
       "version_minor": 0
      },
      "text/plain": [
       "compute_z()::   0%|          | 0/4822 [00:00<?, ?it/s]"
      ]
     },
     "metadata": {},
     "output_type": "display_data"
    },
    {
     "data": {
      "application/vnd.jupyter.widget-view+json": {
       "model_id": "7dd7edc3fa1f461db7623b125c8a627f",
       "version_major": 2,
       "version_minor": 0
      },
      "text/plain": [
       "CalculateMu() :   0%|          | 0/11091 [00:00<?, ?it/s]"
      ]
     },
     "metadata": {},
     "output_type": "display_data"
    },
    {
     "data": {
      "application/vnd.jupyter.widget-view+json": {
       "model_id": "e7718d2c4f0147c4b684420a24db392b",
       "version_major": 2,
       "version_minor": 0
      },
      "text/plain": [
       "NLL_total() :   0%|          | 0/4822 [00:00<?, ?it/s]"
      ]
     },
     "metadata": {},
     "output_type": "display_data"
    },
    {
     "data": {
      "application/vnd.jupyter.widget-view+json": {
       "model_id": "b47a1b21acad4289a9b73673c55582a4",
       "version_major": 2,
       "version_minor": 0
      },
      "text/plain": [
       "num_iter_restarts: 3 : 0it [00:00, ?it/s]"
      ]
     },
     "metadata": {},
     "output_type": "display_data"
    },
    {
     "data": {
      "application/vnd.jupyter.widget-view+json": {
       "model_id": "53a612f9beda4728a9905ff69bb5c25d",
       "version_major": 2,
       "version_minor": 0
      },
      "text/plain": [
       "compute_z()::   0%|          | 0/4822 [00:00<?, ?it/s]"
      ]
     },
     "metadata": {},
     "output_type": "display_data"
    },
    {
     "data": {
      "application/vnd.jupyter.widget-view+json": {
       "model_id": "df65156943194cea9f95155e92921d53",
       "version_major": 2,
       "version_minor": 0
      },
      "text/plain": [
       "CalculateMu() :   0%|          | 0/11091 [00:00<?, ?it/s]"
      ]
     },
     "metadata": {},
     "output_type": "display_data"
    },
    {
     "data": {
      "application/vnd.jupyter.widget-view+json": {
       "model_id": "c117ccec09ae4675a4038833093f5d7d",
       "version_major": 2,
       "version_minor": 0
      },
      "text/plain": [
       "NLL_total() :   0%|          | 0/4822 [00:00<?, ?it/s]"
      ]
     },
     "metadata": {},
     "output_type": "display_data"
    },
    {
     "data": {
      "application/vnd.jupyter.widget-view+json": {
       "model_id": "b5847cd6b74845deba04a21856c76916",
       "version_major": 2,
       "version_minor": 0
      },
      "text/plain": [
       "num_iter_restarts: 4 : 0it [00:00, ?it/s]"
      ]
     },
     "metadata": {},
     "output_type": "display_data"
    },
    {
     "data": {
      "application/vnd.jupyter.widget-view+json": {
       "model_id": "24092d261fd649c18c6ef08724623095",
       "version_major": 2,
       "version_minor": 0
      },
      "text/plain": [
       "CalculateMu() :   0%|          | 0/11091 [00:00<?, ?it/s]"
      ]
     },
     "metadata": {},
     "output_type": "display_data"
    },
    {
     "data": {
      "application/vnd.jupyter.widget-view+json": {
       "model_id": "7574f3474a6444e8ae4c7ffe23bfe8f6",
       "version_major": 2,
       "version_minor": 0
      },
      "text/plain": [
       "NLL_total() :   0%|          | 0/4822 [00:00<?, ?it/s]"
      ]
     },
     "metadata": {},
     "output_type": "display_data"
    },
    {
     "data": {
      "application/vnd.jupyter.widget-view+json": {
       "model_id": "606d65a238254276bd2d694f1d74e7ab",
       "version_major": 2,
       "version_minor": 0
      },
      "text/plain": [
       "num_iter_restarts: 0 : 0it [00:00, ?it/s]"
      ]
     },
     "metadata": {},
     "output_type": "display_data"
    },
    {
     "data": {
      "application/vnd.jupyter.widget-view+json": {
       "model_id": "559c5b5b852544848ec355ad2d080333",
       "version_major": 2,
       "version_minor": 0
      },
      "text/plain": [
       "compute_z()::   0%|          | 0/4822 [00:00<?, ?it/s]"
      ]
     },
     "metadata": {},
     "output_type": "display_data"
    },
    {
     "data": {
      "application/vnd.jupyter.widget-view+json": {
       "model_id": "c047f04444384ef68c501fd4b2a9736c",
       "version_major": 2,
       "version_minor": 0
      },
      "text/plain": [
       "CalculateMu() :   0%|          | 0/11091 [00:00<?, ?it/s]"
      ]
     },
     "metadata": {},
     "output_type": "display_data"
    },
    {
     "data": {
      "application/vnd.jupyter.widget-view+json": {
       "model_id": "7bdf33caae1148a68053a67a279e7644",
       "version_major": 2,
       "version_minor": 0
      },
      "text/plain": [
       "NLL_total() :   0%|          | 0/4822 [00:00<?, ?it/s]"
      ]
     },
     "metadata": {},
     "output_type": "display_data"
    },
    {
     "data": {
      "application/vnd.jupyter.widget-view+json": {
       "model_id": "bd14d3c0ff274f97b81fa70f413aaa00",
       "version_major": 2,
       "version_minor": 0
      },
      "text/plain": [
       "num_iter_restarts: 1 : 0it [00:00, ?it/s]"
      ]
     },
     "metadata": {},
     "output_type": "display_data"
    },
    {
     "data": {
      "application/vnd.jupyter.widget-view+json": {
       "model_id": "1fd45776543345db9aa8df32c81bcce0",
       "version_major": 2,
       "version_minor": 0
      },
      "text/plain": [
       "compute_z()::   0%|          | 0/4822 [00:00<?, ?it/s]"
      ]
     },
     "metadata": {},
     "output_type": "display_data"
    },
    {
     "data": {
      "application/vnd.jupyter.widget-view+json": {
       "model_id": "5cf7d4de53a74c28af9c8f85e7d91111",
       "version_major": 2,
       "version_minor": 0
      },
      "text/plain": [
       "CalculateMu() :   0%|          | 0/11091 [00:00<?, ?it/s]"
      ]
     },
     "metadata": {},
     "output_type": "display_data"
    },
    {
     "data": {
      "application/vnd.jupyter.widget-view+json": {
       "model_id": "c71aab36963d450181542c71a9ea8726",
       "version_major": 2,
       "version_minor": 0
      },
      "text/plain": [
       "NLL_total() :   0%|          | 0/4822 [00:00<?, ?it/s]"
      ]
     },
     "metadata": {},
     "output_type": "display_data"
    },
    {
     "data": {
      "application/vnd.jupyter.widget-view+json": {
       "model_id": "a11a0589c4c9429bb3af21b33942afa3",
       "version_major": 2,
       "version_minor": 0
      },
      "text/plain": [
       "num_iter_restarts: 2 : 0it [00:00, ?it/s]"
      ]
     },
     "metadata": {},
     "output_type": "display_data"
    },
    {
     "data": {
      "application/vnd.jupyter.widget-view+json": {
       "model_id": "e6c6675633f64588960c960cc92211d4",
       "version_major": 2,
       "version_minor": 0
      },
      "text/plain": [
       "compute_z()::   0%|          | 0/4822 [00:00<?, ?it/s]"
      ]
     },
     "metadata": {},
     "output_type": "display_data"
    },
    {
     "data": {
      "application/vnd.jupyter.widget-view+json": {
       "model_id": "477fd28c48b1423daf5bf66e7852bd98",
       "version_major": 2,
       "version_minor": 0
      },
      "text/plain": [
       "CalculateMu() :   0%|          | 0/11091 [00:00<?, ?it/s]"
      ]
     },
     "metadata": {},
     "output_type": "display_data"
    },
    {
     "data": {
      "application/vnd.jupyter.widget-view+json": {
       "model_id": "6152ff412ce647c5a4de8a59b48d9cb8",
       "version_major": 2,
       "version_minor": 0
      },
      "text/plain": [
       "NLL_total() :   0%|          | 0/4822 [00:00<?, ?it/s]"
      ]
     },
     "metadata": {},
     "output_type": "display_data"
    },
    {
     "data": {
      "application/vnd.jupyter.widget-view+json": {
       "model_id": "8401cca2dd774614aa18b0ee0903c5cf",
       "version_major": 2,
       "version_minor": 0
      },
      "text/plain": [
       "num_iter_restarts: 3 : 0it [00:00, ?it/s]"
      ]
     },
     "metadata": {},
     "output_type": "display_data"
    },
    {
     "data": {
      "application/vnd.jupyter.widget-view+json": {
       "model_id": "ae5d1fa193da4931b0d2418761d43123",
       "version_major": 2,
       "version_minor": 0
      },
      "text/plain": [
       "compute_z()::   0%|          | 0/4822 [00:00<?, ?it/s]"
      ]
     },
     "metadata": {},
     "output_type": "display_data"
    },
    {
     "data": {
      "application/vnd.jupyter.widget-view+json": {
       "model_id": "89cda2d607844dc18b08feb87e173c66",
       "version_major": 2,
       "version_minor": 0
      },
      "text/plain": [
       "CalculateMu() :   0%|          | 0/11091 [00:00<?, ?it/s]"
      ]
     },
     "metadata": {},
     "output_type": "display_data"
    },
    {
     "data": {
      "application/vnd.jupyter.widget-view+json": {
       "model_id": "62614dd9f50d441882297695687150ac",
       "version_major": 2,
       "version_minor": 0
      },
      "text/plain": [
       "NLL_total() :   0%|          | 0/4822 [00:00<?, ?it/s]"
      ]
     },
     "metadata": {},
     "output_type": "display_data"
    },
    {
     "data": {
      "application/vnd.jupyter.widget-view+json": {
       "model_id": "8b14a634d25c45f3aa366d5bfcf8e117",
       "version_major": 2,
       "version_minor": 0
      },
      "text/plain": [
       "num_iter_restarts: 4 : 0it [00:00, ?it/s]"
      ]
     },
     "metadata": {},
     "output_type": "display_data"
    },
    {
     "data": {
      "application/vnd.jupyter.widget-view+json": {
       "model_id": "2619f87764b94ae1a5418d79db2536e6",
       "version_major": 2,
       "version_minor": 0
      },
      "text/plain": [
       "CalculateMu() :   0%|          | 0/11091 [00:00<?, ?it/s]"
      ]
     },
     "metadata": {},
     "output_type": "display_data"
    },
    {
     "data": {
      "application/vnd.jupyter.widget-view+json": {
       "model_id": "1e0a1c15ac404e4a98d1ed322252cc72",
       "version_major": 2,
       "version_minor": 0
      },
      "text/plain": [
       "NLL_total() :   0%|          | 0/4822 [00:00<?, ?it/s]"
      ]
     },
     "metadata": {},
     "output_type": "display_data"
    },
    {
     "data": {
      "application/vnd.jupyter.widget-view+json": {
       "model_id": "1ca689213afc43dda1434858161e6231",
       "version_major": 2,
       "version_minor": 0
      },
      "text/plain": [
       "num_iter_restarts: 0 : 0it [00:00, ?it/s]"
      ]
     },
     "metadata": {},
     "output_type": "display_data"
    },
    {
     "data": {
      "application/vnd.jupyter.widget-view+json": {
       "model_id": "bb6488b12e9e485aac127e9aced6ee2b",
       "version_major": 2,
       "version_minor": 0
      },
      "text/plain": [
       "compute_z()::   0%|          | 0/4822 [00:00<?, ?it/s]"
      ]
     },
     "metadata": {},
     "output_type": "display_data"
    },
    {
     "data": {
      "application/vnd.jupyter.widget-view+json": {
       "model_id": "5074d3ae971943da8e9ed254e81fea24",
       "version_major": 2,
       "version_minor": 0
      },
      "text/plain": [
       "CalculateMu() :   0%|          | 0/11091 [00:00<?, ?it/s]"
      ]
     },
     "metadata": {},
     "output_type": "display_data"
    },
    {
     "data": {
      "application/vnd.jupyter.widget-view+json": {
       "model_id": "ac7acad2e249492fadf6d490922aba1b",
       "version_major": 2,
       "version_minor": 0
      },
      "text/plain": [
       "NLL_total() :   0%|          | 0/4822 [00:00<?, ?it/s]"
      ]
     },
     "metadata": {},
     "output_type": "display_data"
    },
    {
     "data": {
      "application/vnd.jupyter.widget-view+json": {
       "model_id": "4aed18c5d6ca4b4eae8a75f46c6c38ba",
       "version_major": 2,
       "version_minor": 0
      },
      "text/plain": [
       "num_iter_restarts: 1 : 0it [00:00, ?it/s]"
      ]
     },
     "metadata": {},
     "output_type": "display_data"
    },
    {
     "data": {
      "application/vnd.jupyter.widget-view+json": {
       "model_id": "9bb32f3d4c114c9a9cf70c76c80e8029",
       "version_major": 2,
       "version_minor": 0
      },
      "text/plain": [
       "compute_z()::   0%|          | 0/4822 [00:00<?, ?it/s]"
      ]
     },
     "metadata": {},
     "output_type": "display_data"
    },
    {
     "data": {
      "application/vnd.jupyter.widget-view+json": {
       "model_id": "e6640c3ba14d4f498acdecf516412d54",
       "version_major": 2,
       "version_minor": 0
      },
      "text/plain": [
       "CalculateMu() :   0%|          | 0/11091 [00:00<?, ?it/s]"
      ]
     },
     "metadata": {},
     "output_type": "display_data"
    },
    {
     "data": {
      "application/vnd.jupyter.widget-view+json": {
       "model_id": "af1617bd60594033846d96d77fb2f01f",
       "version_major": 2,
       "version_minor": 0
      },
      "text/plain": [
       "NLL_total() :   0%|          | 0/4822 [00:00<?, ?it/s]"
      ]
     },
     "metadata": {},
     "output_type": "display_data"
    },
    {
     "data": {
      "application/vnd.jupyter.widget-view+json": {
       "model_id": "b665b94fa9104c58a89682633d91cfd1",
       "version_major": 2,
       "version_minor": 0
      },
      "text/plain": [
       "num_iter_restarts: 2 : 0it [00:00, ?it/s]"
      ]
     },
     "metadata": {},
     "output_type": "display_data"
    },
    {
     "data": {
      "application/vnd.jupyter.widget-view+json": {
       "model_id": "c106c5f782e4450cbd62f17512745e14",
       "version_major": 2,
       "version_minor": 0
      },
      "text/plain": [
       "compute_z()::   0%|          | 0/4822 [00:00<?, ?it/s]"
      ]
     },
     "metadata": {},
     "output_type": "display_data"
    },
    {
     "data": {
      "application/vnd.jupyter.widget-view+json": {
       "model_id": "5bdebf64849d4480a8a1a18af5fdb963",
       "version_major": 2,
       "version_minor": 0
      },
      "text/plain": [
       "CalculateMu() :   0%|          | 0/11091 [00:00<?, ?it/s]"
      ]
     },
     "metadata": {},
     "output_type": "display_data"
    },
    {
     "data": {
      "application/vnd.jupyter.widget-view+json": {
       "model_id": "90fd1900bec9462dbf6ac8199f41f088",
       "version_major": 2,
       "version_minor": 0
      },
      "text/plain": [
       "NLL_total() :   0%|          | 0/4822 [00:00<?, ?it/s]"
      ]
     },
     "metadata": {},
     "output_type": "display_data"
    },
    {
     "data": {
      "application/vnd.jupyter.widget-view+json": {
       "model_id": "8bb85008abbf4628a13cfa7ba7657c11",
       "version_major": 2,
       "version_minor": 0
      },
      "text/plain": [
       "num_iter_restarts: 3 : 0it [00:00, ?it/s]"
      ]
     },
     "metadata": {},
     "output_type": "display_data"
    },
    {
     "data": {
      "application/vnd.jupyter.widget-view+json": {
       "model_id": "62ed52d18f334781bef6c69e3b6c7254",
       "version_major": 2,
       "version_minor": 0
      },
      "text/plain": [
       "compute_z()::   0%|          | 0/4822 [00:00<?, ?it/s]"
      ]
     },
     "metadata": {},
     "output_type": "display_data"
    },
    {
     "data": {
      "application/vnd.jupyter.widget-view+json": {
       "model_id": "9a1dc494673f44f1b8833a8f3de1a185",
       "version_major": 2,
       "version_minor": 0
      },
      "text/plain": [
       "CalculateMu() :   0%|          | 0/11091 [00:00<?, ?it/s]"
      ]
     },
     "metadata": {},
     "output_type": "display_data"
    },
    {
     "data": {
      "application/vnd.jupyter.widget-view+json": {
       "model_id": "7a36e683da61474587e806f8e43b1ec0",
       "version_major": 2,
       "version_minor": 0
      },
      "text/plain": [
       "NLL_total() :   0%|          | 0/4822 [00:00<?, ?it/s]"
      ]
     },
     "metadata": {},
     "output_type": "display_data"
    },
    {
     "data": {
      "application/vnd.jupyter.widget-view+json": {
       "model_id": "31670e41230a41b89a0d544f8ec50b2f",
       "version_major": 2,
       "version_minor": 0
      },
      "text/plain": [
       "num_iter_restarts: 4 : 0it [00:00, ?it/s]"
      ]
     },
     "metadata": {},
     "output_type": "display_data"
    },
    {
     "data": {
      "application/vnd.jupyter.widget-view+json": {
       "model_id": "ba9fb00c74d7469986d74ff540479aeb",
       "version_major": 2,
       "version_minor": 0
      },
      "text/plain": [
       "CalculateMu() :   0%|          | 0/11091 [00:00<?, ?it/s]"
      ]
     },
     "metadata": {},
     "output_type": "display_data"
    },
    {
     "data": {
      "application/vnd.jupyter.widget-view+json": {
       "model_id": "b4c5e08f8a734cbeba50ecc585b06926",
       "version_major": 2,
       "version_minor": 0
      },
      "text/plain": [
       "NLL_total() :   0%|          | 0/4822 [00:00<?, ?it/s]"
      ]
     },
     "metadata": {},
     "output_type": "display_data"
    },
    {
     "data": {
      "application/vnd.jupyter.widget-view+json": {
       "model_id": "cda77e988ce14f8b8c682245915c8c17",
       "version_major": 2,
       "version_minor": 0
      },
      "text/plain": [
       "num_iter_restarts: 0 : 0it [00:00, ?it/s]"
      ]
     },
     "metadata": {},
     "output_type": "display_data"
    },
    {
     "data": {
      "application/vnd.jupyter.widget-view+json": {
       "model_id": "13a15217cf524287b8d57b89695aaa80",
       "version_major": 2,
       "version_minor": 0
      },
      "text/plain": [
       "compute_z()::   0%|          | 0/4822 [00:00<?, ?it/s]"
      ]
     },
     "metadata": {},
     "output_type": "display_data"
    },
    {
     "data": {
      "application/vnd.jupyter.widget-view+json": {
       "model_id": "1cbfa80320cd40619b923bb34d0bb38b",
       "version_major": 2,
       "version_minor": 0
      },
      "text/plain": [
       "CalculateMu() :   0%|          | 0/11091 [00:00<?, ?it/s]"
      ]
     },
     "metadata": {},
     "output_type": "display_data"
    },
    {
     "data": {
      "application/vnd.jupyter.widget-view+json": {
       "model_id": "22e1fe2ec25f4be38f94bfc60e42dae7",
       "version_major": 2,
       "version_minor": 0
      },
      "text/plain": [
       "NLL_total() :   0%|          | 0/4822 [00:00<?, ?it/s]"
      ]
     },
     "metadata": {},
     "output_type": "display_data"
    },
    {
     "data": {
      "application/vnd.jupyter.widget-view+json": {
       "model_id": "0015be74dc9f4007981db0ca47e46ca6",
       "version_major": 2,
       "version_minor": 0
      },
      "text/plain": [
       "num_iter_restarts: 1 : 0it [00:00, ?it/s]"
      ]
     },
     "metadata": {},
     "output_type": "display_data"
    },
    {
     "data": {
      "application/vnd.jupyter.widget-view+json": {
       "model_id": "3b381be67e084398a382e3aeca5c397a",
       "version_major": 2,
       "version_minor": 0
      },
      "text/plain": [
       "compute_z()::   0%|          | 0/4822 [00:00<?, ?it/s]"
      ]
     },
     "metadata": {},
     "output_type": "display_data"
    },
    {
     "data": {
      "application/vnd.jupyter.widget-view+json": {
       "model_id": "b5a467fb1fba46059b04abdba4700fd2",
       "version_major": 2,
       "version_minor": 0
      },
      "text/plain": [
       "CalculateMu() :   0%|          | 0/11091 [00:00<?, ?it/s]"
      ]
     },
     "metadata": {},
     "output_type": "display_data"
    },
    {
     "data": {
      "application/vnd.jupyter.widget-view+json": {
       "model_id": "1b38761a3d06421e977b9fbc497847fc",
       "version_major": 2,
       "version_minor": 0
      },
      "text/plain": [
       "NLL_total() :   0%|          | 0/4822 [00:00<?, ?it/s]"
      ]
     },
     "metadata": {},
     "output_type": "display_data"
    },
    {
     "data": {
      "application/vnd.jupyter.widget-view+json": {
       "model_id": "4ea6a40581bb442e9985d17ea1296426",
       "version_major": 2,
       "version_minor": 0
      },
      "text/plain": [
       "num_iter_restarts: 2 : 0it [00:00, ?it/s]"
      ]
     },
     "metadata": {},
     "output_type": "display_data"
    },
    {
     "data": {
      "application/vnd.jupyter.widget-view+json": {
       "model_id": "6dddb84738604b9c9131fdc0b9a219b7",
       "version_major": 2,
       "version_minor": 0
      },
      "text/plain": [
       "compute_z()::   0%|          | 0/4822 [00:00<?, ?it/s]"
      ]
     },
     "metadata": {},
     "output_type": "display_data"
    },
    {
     "data": {
      "application/vnd.jupyter.widget-view+json": {
       "model_id": "533d33ade7374b5ab65c891c30bb58ee",
       "version_major": 2,
       "version_minor": 0
      },
      "text/plain": [
       "CalculateMu() :   0%|          | 0/11091 [00:00<?, ?it/s]"
      ]
     },
     "metadata": {},
     "output_type": "display_data"
    },
    {
     "data": {
      "application/vnd.jupyter.widget-view+json": {
       "model_id": "60cd78521dbc4a888334e7f60ded150b",
       "version_major": 2,
       "version_minor": 0
      },
      "text/plain": [
       "NLL_total() :   0%|          | 0/4822 [00:00<?, ?it/s]"
      ]
     },
     "metadata": {},
     "output_type": "display_data"
    },
    {
     "data": {
      "application/vnd.jupyter.widget-view+json": {
       "model_id": "06d88fac6a574f9b848b95d7fa699560",
       "version_major": 2,
       "version_minor": 0
      },
      "text/plain": [
       "num_iter_restarts: 3 : 0it [00:00, ?it/s]"
      ]
     },
     "metadata": {},
     "output_type": "display_data"
    },
    {
     "data": {
      "application/vnd.jupyter.widget-view+json": {
       "model_id": "a341274abcb14d7eb511d050f15210a9",
       "version_major": 2,
       "version_minor": 0
      },
      "text/plain": [
       "compute_z()::   0%|          | 0/4822 [00:00<?, ?it/s]"
      ]
     },
     "metadata": {},
     "output_type": "display_data"
    },
    {
     "data": {
      "application/vnd.jupyter.widget-view+json": {
       "model_id": "c310a797014e409bb21021657962a138",
       "version_major": 2,
       "version_minor": 0
      },
      "text/plain": [
       "CalculateMu() :   0%|          | 0/11091 [00:00<?, ?it/s]"
      ]
     },
     "metadata": {},
     "output_type": "display_data"
    },
    {
     "data": {
      "application/vnd.jupyter.widget-view+json": {
       "model_id": "4b3d3c36e335445da618156ddbebabf5",
       "version_major": 2,
       "version_minor": 0
      },
      "text/plain": [
       "NLL_total() :   0%|          | 0/4822 [00:00<?, ?it/s]"
      ]
     },
     "metadata": {},
     "output_type": "display_data"
    },
    {
     "data": {
      "application/vnd.jupyter.widget-view+json": {
       "model_id": "2f80b4d8aa9948e0bd9ae67ee445015f",
       "version_major": 2,
       "version_minor": 0
      },
      "text/plain": [
       "num_iter_restarts: 4 : 0it [00:00, ?it/s]"
      ]
     },
     "metadata": {},
     "output_type": "display_data"
    },
    {
     "data": {
      "application/vnd.jupyter.widget-view+json": {
       "model_id": "afd1d8ae7fb2462c87a0ffefddc071e3",
       "version_major": 2,
       "version_minor": 0
      },
      "text/plain": [
       "CalculateMu() :   0%|          | 0/11091 [00:00<?, ?it/s]"
      ]
     },
     "metadata": {},
     "output_type": "display_data"
    },
    {
     "data": {
      "application/vnd.jupyter.widget-view+json": {
       "model_id": "4d1dc7b8ff7a4d289663dc87bc99a96e",
       "version_major": 2,
       "version_minor": 0
      },
      "text/plain": [
       "NLL_total() :   0%|          | 0/4822 [00:00<?, ?it/s]"
      ]
     },
     "metadata": {},
     "output_type": "display_data"
    },
    {
     "data": {
      "application/vnd.jupyter.widget-view+json": {
       "model_id": "2067a4eae68f428f83298f80df6afd73",
       "version_major": 2,
       "version_minor": 0
      },
      "text/plain": [
       "compute_z()::   0%|          | 0/4822 [00:00<?, ?it/s]"
      ]
     },
     "metadata": {},
     "output_type": "display_data"
    },
    {
     "data": {
      "application/vnd.jupyter.widget-view+json": {
       "model_id": "bad3e476aa664ed4b04db15b76143750",
       "version_major": 2,
       "version_minor": 0
      },
      "text/plain": [
       "CalculateMu() :   0%|          | 0/11091 [00:00<?, ?it/s]"
      ]
     },
     "metadata": {},
     "output_type": "display_data"
    },
    {
     "data": {
      "application/vnd.jupyter.widget-view+json": {
       "model_id": "e6efa65e6fc347858aae2e908729f053",
       "version_major": 2,
       "version_minor": 0
      },
      "text/plain": [
       "NLL_total() :   0%|          | 0/4822 [00:00<?, ?it/s]"
      ]
     },
     "metadata": {},
     "output_type": "display_data"
    },
    {
     "data": {
      "application/vnd.jupyter.widget-view+json": {
       "model_id": "bf622e560b8349f0b8728c4ddbfa08c7",
       "version_major": 2,
       "version_minor": 0
      },
      "text/plain": [
       "compute_z()::   0%|          | 0/4822 [00:00<?, ?it/s]"
      ]
     },
     "metadata": {},
     "output_type": "display_data"
    },
    {
     "data": {
      "application/vnd.jupyter.widget-view+json": {
       "model_id": "b42a54b0ea8b4cc9978e786dd5cc4d53",
       "version_major": 2,
       "version_minor": 0
      },
      "text/plain": [
       "CalculateMu() :   0%|          | 0/11091 [00:00<?, ?it/s]"
      ]
     },
     "metadata": {},
     "output_type": "display_data"
    },
    {
     "data": {
      "application/vnd.jupyter.widget-view+json": {
       "model_id": "0fb44a622bd24773be5c773275f66d81",
       "version_major": 2,
       "version_minor": 0
      },
      "text/plain": [
       "NLL_total() :   0%|          | 0/4822 [00:00<?, ?it/s]"
      ]
     },
     "metadata": {},
     "output_type": "display_data"
    },
    {
     "data": {
      "application/vnd.jupyter.widget-view+json": {
       "model_id": "47516b19cc384bd792badd73a961f4f5",
       "version_major": 2,
       "version_minor": 0
      },
      "text/plain": [
       "compute_z()::   0%|          | 0/4822 [00:00<?, ?it/s]"
      ]
     },
     "metadata": {},
     "output_type": "display_data"
    },
    {
     "data": {
      "application/vnd.jupyter.widget-view+json": {
       "model_id": "14810013eb7342de91c819bdada3aafd",
       "version_major": 2,
       "version_minor": 0
      },
      "text/plain": [
       "CalculateMu() :   0%|          | 0/11091 [00:00<?, ?it/s]"
      ]
     },
     "metadata": {},
     "output_type": "display_data"
    },
    {
     "data": {
      "application/vnd.jupyter.widget-view+json": {
       "model_id": "24d16cd4847143feadd33864334996d8",
       "version_major": 2,
       "version_minor": 0
      },
      "text/plain": [
       "NLL_total() :   0%|          | 0/4822 [00:00<?, ?it/s]"
      ]
     },
     "metadata": {},
     "output_type": "display_data"
    },
    {
     "name": "stdout",
     "output_type": "stream",
     "text": [
      "[-8242852.11292916]\n",
      "Time taken:  0:14:50.477837\n"
     ]
    }
   ],
   "source": [
    "\n",
    "\n",
    "start=datetime.now()\n",
    "\n",
    "N = adata.n_obs\n",
    "\n",
    "EPS  = 0.000001 # small value, gloablly defined, for dealing with underflow\n",
    "delta = 0.0001 # Used in EM convergence stopping criteria\n",
    "\n",
    "x = adata.X\n",
    "\n",
    "#x_sel = range(x.shape[1]) # Index of selected peaks, all of them initially \n",
    "x_sel = np.arange(0, x.shape[1], 1, dtype=int)\n",
    "\n",
    "models = [2,4]#, 10, 15, 20) #  Possible number of clusters\n",
    "\n",
    "max_z_idx1 = np.full((N, len(models)), 1) # To store labels for all models \n",
    "max_z_idx = np.full((N, 1), 1)\n",
    "\n",
    "AC = np.full((len(models),1),1)\n",
    "\n",
    "for i in tqdm(range(len(models))):\n",
    "    # current contents of your for loop\n",
    "    K = models[i] # current number of clusters\n",
    "    lambda_i_k = np.zeros((K,len(x_sel))) # parameters for current model\n",
    "    \n",
    "    # ======== Calculate variable selection (only in case of K==2)  ======\n",
    "    if(i==0):\n",
    "        tmp1 = np.sum(x, axis=0)/N \n",
    "        lambda_i_0 = np.full((1,len(x_sel)),1)\n",
    "        lambda_i_0[0,] = tmp1[0:len(x_sel)]\n",
    "        # Quick EM\n",
    "        Iter_QuickEM = 3\n",
    "        converged = 0\n",
    "        resEM = MaximizationStep_optim() # M-step, First iter\n",
    "        objective_tmp = resEM['objective_temp']\n",
    "        lambda_i_k[0:K,0:len(x_sel)] = resEM['lambda_i_k_opt']\n",
    "        iter = 0\n",
    "        \n",
    "        while converged == 0:\n",
    "            z = compute_z() # E-step \n",
    "            for l in range(0,N):\n",
    "                max_z_idx[l] = np.argmax(np.array(z[l,])) # CEM\n",
    "            \n",
    "            resEM = MaximizationStep_optim()\n",
    "            lambda_i_k[0:K,0:len(x_sel)] = resEM['lambda_i_k_opt']\n",
    "            tmp = abs(resEM['objective_temp'] - objective_tmp)\n",
    "            if((tmp <= delta*abs(objective_tmp)) | iter>=Iter_QuickEM): \n",
    "                converged = 1\n",
    "                objective_tmp <- resEM['objective_temp']\n",
    "            \n",
    "            iter = iter + 1\n",
    "            print(f\"While loop iteration{iter}\")\n",
    "            objective_tmp <- resEM['objective_temp']\n",
    "            \n",
    "        \n",
    "        Y = calc_Y_i() \n",
    "        x_sel = np.argsort(Y.flatten())[np.array(Y>np.quantile(Y, q = [0.1,0.3,0.5,0.6,0.7,0.8,0.9])[3]).flatten()]\n",
    "        lambda_i_k =  lambda_i_k[:,x_sel] \n",
    "        \n",
    "    # Random Restarts\n",
    "    num_restarts = 5\n",
    "    num_iter_restarts = 3\n",
    "    max_z_idx_tmp = np.zeros((N,num_restarts))\n",
    "    idx = 1\n",
    "    \n",
    "    for m in tqdm(range(num_restarts), desc=\"Number of restarts \",position=0, leave=True, colour=\"magenta\"): # small EM to initialize\n",
    "        max_z_idx_tmp[:,m] = np.random.choice(K,N,replace=True) # Making 1D\n",
    "        max_z_idx = max_z_idx_tmp[:,m]\n",
    "        for k in range(K):\n",
    "            lambda_i_k[k,] = (np.sum(x[max_z_idx==k,x_sel.reshape(-1,1)], axis=1)+1)/(np.sum(max_z_idx==k)+1)     # ML estimator\n",
    "        \n",
    "        # run for num_iter_restarts iterations       \n",
    "        resEM = MaximizationStep_optim() # M-step, First iter\n",
    "        objective_tmp = resEM['objective_temp']\n",
    "        lambda_i_k[0:K,0:len(x_sel)] = resEM['lambda_i_k_opt']\n",
    "        if(m==0):\n",
    "            objective_old = objective_tmp\n",
    "            lambda_i_k_old = lambda_i_k\n",
    "        \n",
    "        iter = 0\n",
    "        while tqdm(iter<=num_iter_restarts, desc=f\"num_iter_restarts: {iter} \"):\n",
    "            z = compute_z() # E-setp\n",
    "            for l in range(N):\n",
    "                max_z_idx[l] = np.argmax(np.array(z[l,]))\n",
    "            \n",
    "            resEM = MaximizationStep_optim() \n",
    "            lambda_i_k[0:K,0:len(x_sel)] = resEM['lambda_i_k_opt']\n",
    "            objective_tmp = resEM['objective_temp']\n",
    "            iter = iter + 1   \n",
    "        # while\n",
    "                     \n",
    "        if (objective_tmp < objective_old):\n",
    "            objective_old = objective_tmp\n",
    "            lambda_i_k_old = lambda_i_k\n",
    "            idx = m\n",
    "\n",
    "    # Final initialization using random restarts\n",
    "    max_z_idx = max_z_idx_tmp[:,idx]\n",
    "    objective_tmp = objective_old\n",
    "    lambda_i_k   = lambda_i_k_old\n",
    "    \n",
    "         \n",
    "    # === Main EM ======================= \n",
    "    converged = 0\n",
    "    resEM = MaximizationStep_optim() # M-step, First iter\n",
    "    objective_tmp = resEM['objective_temp']\n",
    "    lambda_i_k[0:K,0:len(x_sel)] = resEM['lambda_i_k_opt']\n",
    "    lambda_i_k_old = lambda_i_k\n",
    "    iter = 0\n",
    "    while(converged == 0):\n",
    "        z = compute_z() # E-setp \n",
    "        for l in range(N):\n",
    "            max_z_idx[l] = np.argmax(np.array(z[l,]))\n",
    "         \n",
    "        resEM = MaximizationStep_optim() # M-step\n",
    "        lambda_i_k[0:K,0:len(x_sel)] = resEM['lambda_i_k_opt']\n",
    "        lambda_i_k_old = lambda_i_k\n",
    "        tmp = abs(resEM['objective_temp'] - objective_tmp)\n",
    "        if(tmp <= int(delta*abs(objective_tmp)) | iter>=5):\n",
    "            converged = 1\n",
    "            objective_tmp = resEM['objective_temp']\n",
    "         \n",
    "        iter = iter + 1\n",
    "        objective_tmp = resEM['objective_temp']     \n",
    "        \n",
    "        \n",
    "    AC[i] = -2.0*1.0*objective_tmp + 2*(len(x_sel)*K+K-1) \n",
    "    max_z_idx1[:,i] = max_z_idx   \n",
    " \n",
    "    print(objective_tmp)\n",
    "\n",
    "print('Time taken: ',datetime.now()-start)\n"
   ]
  },
  {
   "cell_type": "code",
   "execution_count": 39,
   "id": "a5404d92-4e26-47f1-981b-b3dd9adeb349",
   "metadata": {
    "tags": []
   },
   "outputs": [],
   "source": [
    "adata.obs['clusters_SB'] = max_z_idx.astype('int')\n",
    "adata.obs['clusters_SB'] = adata.obs['clusters_SB'].astype('category')"
   ]
  },
  {
   "cell_type": "code",
   "execution_count": 30,
   "id": "9717ef78-b96c-4c7f-a3af-832f7f3edb97",
   "metadata": {
    "tags": []
   },
   "outputs": [],
   "source": [
    "sc.tl.pca(adata, svd_solver='arpack')"
   ]
  },
  {
   "cell_type": "code",
   "execution_count": 40,
   "id": "b824ac6c-4d08-4333-a4b6-71e29b403b55",
   "metadata": {
    "tags": []
   },
   "outputs": [
    {
     "name": "stderr",
     "output_type": "stream",
     "text": [
      "/home/mqbsxsm2/mambaforge/envs/r4/lib/python3.10/site-packages/scanpy/plotting/_tools/scatterplots.py:392: UserWarning: No data for colormapping provided via 'c'. Parameters 'cmap' will be ignored\n",
      "  cax = scatter(\n"
     ]
    },
    {
     "data": {
      "image/png": "[encoded data removed]",
      "text/plain": [
       "<Figure size 640x480 with 1 Axes>"
      ]
     },
     "metadata": {},
     "output_type": "display_data"
    }
   ],
   "source": [
    "sc.pl.pca(adata, color='clusters_SB')"
   ]
  },
  {
   "cell_type": "code",
   "execution_count": 32,
   "id": "b4781886-2274-4739-8309-e7cd36b7106a",
   "metadata": {
    "tags": []
   },
   "outputs": [
    {
     "data": {
      "image/png": "[encoded data removed]",
      "text/plain": [
       "<Figure size 640x480 with 1 Axes>"
      ]
     },
     "metadata": {},
     "output_type": "display_data"
    }
   ],
   "source": [
    "sc.pl.pca_variance_ratio(adata, log=True)"
   ]
  },
  {
   "cell_type": "code",
   "execution_count": 33,
   "id": "3f088dd3-604e-4fee-a35c-ac715b8928c9",
   "metadata": {
    "tags": []
   },
   "outputs": [],
   "source": [
    "sc.pp.neighbors(adata, n_neighbors=10, n_pcs=10)"
   ]
  },
  {
   "cell_type": "code",
   "execution_count": 41,
   "id": "6b10e979-c36b-4568-a8e6-c9d22412bdf3",
   "metadata": {
    "tags": []
   },
   "outputs": [],
   "source": [
    "sc.tl.paga(adata, groups='clusters_SB')\n",
    "sc.pl.paga(adata, plot=False)  # remove `plot=False` if you want to see the coarse-grained graph\n",
    "sc.tl.umap(adata, init_pos='paga')"
   ]
  },
  {
   "cell_type": "code",
   "execution_count": 48,
   "id": "558f873b-24b2-4aab-9b39-b5c74fd915c2",
   "metadata": {
    "tags": []
   },
   "outputs": [
    {
     "name": "stdout",
     "output_type": "stream",
     "text": [
      "WARNING: saving figure to file figures/umapc_lusters_SB.pdf\n"
     ]
    },
    {
     "name": "stderr",
     "output_type": "stream",
     "text": [
      "/home/mqbsxsm2/mambaforge/envs/r4/lib/python3.10/site-packages/scanpy/plotting/_tools/scatterplots.py:392: UserWarning: No data for colormapping provided via 'c'. Parameters 'cmap' will be ignored\n",
      "  cax = scatter(\n"
     ]
    },
    {
     "data": {
      "image/png": "[encoded data removed]",
      "text/plain": [
       "<Figure size 640x480 with 1 Axes>"
      ]
     },
     "metadata": {},
     "output_type": "display_data"
    }
   ],
   "source": [
    "sc.pl.umap(adata, color=['clusters_SB'], save='c_lusters_SB.pdf')"
   ]
  },
  {
   "cell_type": "code",
   "execution_count": 44,
   "id": "06230f05-0cef-4ad3-98c4-ee00bf955459",
   "metadata": {
    "tags": []
   },
   "outputs": [],
   "source": [
    "sc.tl.tsne(adata)"
   ]
  },
  {
   "cell_type": "code",
   "execution_count": 47,
   "id": "dae70d05-1a5b-4ad9-9738-47704439aa71",
   "metadata": {
    "tags": []
   },
   "outputs": [
    {
     "name": "stdout",
     "output_type": "stream",
     "text": [
      "WARNING: saving figure to file figures/tsne_clusters_SB.pdf\n"
     ]
    },
    {
     "name": "stderr",
     "output_type": "stream",
     "text": [
      "/home/mqbsxsm2/mambaforge/envs/r4/lib/python3.10/site-packages/scanpy/plotting/_tools/scatterplots.py:392: UserWarning: No data for colormapping provided via 'c'. Parameters 'cmap' will be ignored\n",
      "  cax = scatter(\n"
     ]
    },
    {
     "data": {
      "image/png": "[encoded data removed]",
      "text/plain": [
       "<Figure size 640x480 with 1 Axes>"
      ]
     },
     "metadata": {},
     "output_type": "display_data"
    }
   ],
   "source": [
    "sc.pl.tsne(adata, color=['clusters_SB'], save='_clusters_SB.pdf')"
   ]
  },
  {
   "cell_type": "code",
   "execution_count": null,
   "id": "76932c27-4b5b-4c42-ae23-5b002cf63987",
   "metadata": {},
   "outputs": [],
   "source": []
  },
  {
   "cell_type": "code",
   "execution_count": null,
   "id": "29f634d9-d38a-4d94-99d5-c294fe667453",
   "metadata": {},
   "outputs": [],
   "source": []
  },
  {
   "cell_type": "code",
   "execution_count": null,
   "id": "1f47f5b7-eb5a-4ed4-9d4a-aff732368efe",
   "metadata": {},
   "outputs": [],
   "source": []
  }
 ],
 "metadata": {
  "kernelspec": {
   "display_name": "Python 3 (ipykernel)",
   "language": "python",
   "name": "python3"
  },
  "language_info": {
   "codemirror_mode": {
    "name": "ipython",
    "version": 3
   },
   "file_extension": ".py",
   "mimetype": "text/x-python",
   "name": "python",
   "nbconvert_exporter": "python",
   "pygments_lexer": "ipython3",
   "version": "3.10.10"
  }
 },
 "nbformat": 4,
 "nbformat_minor": 5
}
