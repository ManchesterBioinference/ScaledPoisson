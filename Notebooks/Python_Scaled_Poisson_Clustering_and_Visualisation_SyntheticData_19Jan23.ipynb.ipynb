{
 "cells": [
  {
   "cell_type": "markdown",
   "id": "afacaae7-3b9b-42b6-99f8-eea56fa33bf0",
   "metadata": {},
   "source": [
    "# Python notebook to run Scaled Poisson Model on synthetic data\n",
    "Authors: Mudassar Iqbal, Syed Murtuza Baker, Adam Farooq, Magnus Rattray\n",
    "\n",
    "Date: 18 Jan 23"
   ]
  },
  {
   "cell_type": "code",
   "execution_count": null,
   "id": "8a4af543-a5bf-427e-b29d-e54710d74e72",
   "metadata": {},
   "outputs": [],
   "source": []
  },
  {
   "cell_type": "markdown",
   "id": "a0323fc5-d22e-49a5-b37e-9da0bcbe4542",
   "metadata": {},
   "source": [
    "# Input Data\n",
    "Some detail of the Input data"
   ]
  },
  {
   "cell_type": "markdown",
   "id": "d2f9cb02-36be-4e49-a230-f6799476512d",
   "metadata": {},
   "source": [
    "## Functions for plotting/visualisation"
   ]
  },
  {
   "cell_type": "code",
   "execution_count": 282,
   "id": "b94139fe-fe25-4715-a5bc-e79e0cdeeca1",
   "metadata": {
    "tags": []
   },
   "outputs": [],
   "source": [
    "import scanpy as sc\n",
    "import numpy as np\n",
    "import matplotlib as mpl\n",
    "import matplotlib.pyplot as plt\n",
    "import sklearn as sk\n",
    "import pandas as pd\n",
    "from anndata import AnnData\n",
    "from numpy import genfromtxt\n",
    "from datetime import datetime\n",
    "from tqdm import tqdm\n",
    "from scipy.special import factorial\n",
    "\n",
    "#from colorspacious import cspace_converter"
   ]
  },
  {
   "cell_type": "code",
   "execution_count": 2,
   "id": "18423ff9-d897-4b82-b7e0-b91b0ca23470",
   "metadata": {
    "tags": []
   },
   "outputs": [],
   "source": [
    "cmaps = {}\n",
    "\n",
    "gradient = np.linspace(0, 1, 256)\n",
    "gradient = np.vstack((gradient, gradient))\n",
    "\n",
    "\n",
    "def plot_color_gradients(category, cmap_list):\n",
    "    # Create figure and adjust figure height to number of colormaps\n",
    "    nrows = len(cmap_list)\n",
    "    figh = 0.35 + 0.15 + (nrows + (nrows - 1) * 0.1) * 0.22\n",
    "    fig, axs = plt.subplots(nrows=nrows + 1, figsize=(6.4, figh))\n",
    "    fig.subplots_adjust(top=1 - 0.35 / figh, bottom=0.15 / figh,\n",
    "                        left=0.2, right=0.99)\n",
    "    axs[0].set_title(f'{category} colormaps', fontsize=14)\n",
    "\n",
    "    for ax, name in zip(axs, cmap_list):\n",
    "        ax.imshow(gradient, aspect='auto', cmap=mpl.colormaps[name])\n",
    "        ax.text(-0.01, 0.5, name, va='center', ha='right', fontsize=10,\n",
    "                transform=ax.transAxes)\n",
    "\n",
    "    # Turn off *all* ticks & spines, not just the ones with colormaps.\n",
    "    for ax in axs:\n",
    "        ax.set_axis_off()\n",
    "\n",
    "    # Save colormap list for later.\n",
    "    cmaps[category] = cmap_list"
   ]
  },
  {
   "cell_type": "code",
   "execution_count": 3,
   "id": "d9778b7f-8d2d-4154-a3f1-6f628a8a72f6",
   "metadata": {
    "tags": []
   },
   "outputs": [
    {
     "data": {
      "image/png": "[encoded data removed]",
      "text/plain": [
       "<Figure size 640x338.2 with 13 Axes>"
      ]
     },
     "metadata": {},
     "output_type": "display_data"
    }
   ],
   "source": [
    "plot_color_gradients('Qualitative',\n",
    "                     ['Pastel1', 'Pastel2', 'Paired', 'Accent', 'Dark2',\n",
    "                      'Set1', 'Set2', 'Set3', 'tab10', 'tab20', 'tab20b',\n",
    "                      'tab20c'])"
   ]
  },
  {
   "cell_type": "code",
   "execution_count": 4,
   "id": "7061ec86-42ed-4064-9764-3e1debc1d20c",
   "metadata": {
    "tags": []
   },
   "outputs": [],
   "source": [
    "from anndata import AnnData"
   ]
  },
  {
   "cell_type": "code",
   "execution_count": null,
   "id": "84055988-d347-4d00-b00b-7363e206bc99",
   "metadata": {},
   "outputs": [],
   "source": [
    "## Calculating Jaccard Distance\n",
    "getJaccardDist <- function(cdBinary){        \n",
    "    if(colnames(cdBinary[,2:3])[1] == 'start' & colnames(cdBinary[,2:3])[2] == 'end'){\n",
    "        SingleCell.Binary <- cdBinary[,4:(dim(cdBinary)[2])]\n",
    "    }\n",
    "    else    \n",
    "    SingleCell.Binary <- cdBinary \n",
    "    SingleCell.Binary.Jaccard <- jaccard(as.matrix(SingleCell.Binary))\n",
    "    return(SingleCell.Binary.Jaccard)\n",
    "}"
   ]
  },
  {
   "cell_type": "code",
   "execution_count": null,
   "id": "cc12ac61-bd0b-47be-a24b-c08532f54589",
   "metadata": {},
   "outputs": [],
   "source": [
    "#def getJaccardDist(cdBinary):\n",
    "    "
   ]
  },
  {
   "cell_type": "code",
   "execution_count": 19,
   "id": "765c19f8-ddff-41cb-a4f5-a9513765ac7c",
   "metadata": {
    "tags": []
   },
   "outputs": [
    {
     "name": "stdout",
     "output_type": "stream",
     "text": [
      "Read without chunks:  86.99459981918335 seconds\n"
     ]
    },
    {
     "data": {
      "text/html": [
       "<div>\n",
       "<style scoped>\n",
       "    .dataframe tbody tr th:only-of-type {\n",
       "        vertical-align: middle;\n",
       "    }\n",
       "\n",
       "    .dataframe tbody tr th {\n",
       "        vertical-align: top;\n",
       "    }\n",
       "\n",
       "    .dataframe thead th {\n",
       "        text-align: right;\n",
       "    }\n",
       "</style>\n",
       "<table border=\"1\" class=\"dataframe\">\n",
       "  <thead>\n",
       "    <tr style=\"text-align: right;\">\n",
       "      <th></th>\n",
       "      <th>0</th>\n",
       "      <th>1</th>\n",
       "      <th>2</th>\n",
       "      <th>3</th>\n",
       "      <th>4</th>\n",
       "      <th>5</th>\n",
       "      <th>6</th>\n",
       "      <th>7</th>\n",
       "      <th>8</th>\n",
       "      <th>9</th>\n",
       "      <th>...</th>\n",
       "      <th>29990</th>\n",
       "      <th>29991</th>\n",
       "      <th>29992</th>\n",
       "      <th>29993</th>\n",
       "      <th>29994</th>\n",
       "      <th>29995</th>\n",
       "      <th>29996</th>\n",
       "      <th>29997</th>\n",
       "      <th>29998</th>\n",
       "      <th>29999</th>\n",
       "    </tr>\n",
       "  </thead>\n",
       "  <tbody>\n",
       "    <tr>\n",
       "      <th>4009</th>\n",
       "      <td>0.0</td>\n",
       "      <td>0.0</td>\n",
       "      <td>0.0</td>\n",
       "      <td>0.0</td>\n",
       "      <td>0.0</td>\n",
       "      <td>0.0</td>\n",
       "      <td>0.0</td>\n",
       "      <td>0.0</td>\n",
       "      <td>0.0</td>\n",
       "      <td>0.0</td>\n",
       "      <td>...</td>\n",
       "      <td>0.0</td>\n",
       "      <td>0.0</td>\n",
       "      <td>0.0</td>\n",
       "      <td>0.0</td>\n",
       "      <td>0.0</td>\n",
       "      <td>0.0</td>\n",
       "      <td>0.0</td>\n",
       "      <td>0.0</td>\n",
       "      <td>0.0</td>\n",
       "      <td>0.0</td>\n",
       "    </tr>\n",
       "    <tr>\n",
       "      <th>3123</th>\n",
       "      <td>0.0</td>\n",
       "      <td>0.0</td>\n",
       "      <td>0.0</td>\n",
       "      <td>0.0</td>\n",
       "      <td>0.0</td>\n",
       "      <td>0.0</td>\n",
       "      <td>0.0</td>\n",
       "      <td>0.0</td>\n",
       "      <td>0.0</td>\n",
       "      <td>0.0</td>\n",
       "      <td>...</td>\n",
       "      <td>0.0</td>\n",
       "      <td>0.0</td>\n",
       "      <td>0.0</td>\n",
       "      <td>0.0</td>\n",
       "      <td>0.0</td>\n",
       "      <td>0.0</td>\n",
       "      <td>0.0</td>\n",
       "      <td>0.0</td>\n",
       "      <td>0.0</td>\n",
       "      <td>0.0</td>\n",
       "    </tr>\n",
       "    <tr>\n",
       "      <th>3268</th>\n",
       "      <td>0.0</td>\n",
       "      <td>0.0</td>\n",
       "      <td>0.0</td>\n",
       "      <td>0.0</td>\n",
       "      <td>0.0</td>\n",
       "      <td>0.0</td>\n",
       "      <td>0.0</td>\n",
       "      <td>0.0</td>\n",
       "      <td>0.0</td>\n",
       "      <td>0.0</td>\n",
       "      <td>...</td>\n",
       "      <td>0.0</td>\n",
       "      <td>0.0</td>\n",
       "      <td>0.0</td>\n",
       "      <td>0.0</td>\n",
       "      <td>0.0</td>\n",
       "      <td>0.0</td>\n",
       "      <td>0.0</td>\n",
       "      <td>0.0</td>\n",
       "      <td>0.0</td>\n",
       "      <td>0.0</td>\n",
       "    </tr>\n",
       "    <tr>\n",
       "      <th>3701</th>\n",
       "      <td>0.0</td>\n",
       "      <td>0.0</td>\n",
       "      <td>0.0</td>\n",
       "      <td>0.0</td>\n",
       "      <td>0.0</td>\n",
       "      <td>0.0</td>\n",
       "      <td>0.0</td>\n",
       "      <td>0.0</td>\n",
       "      <td>0.0</td>\n",
       "      <td>0.0</td>\n",
       "      <td>...</td>\n",
       "      <td>0.0</td>\n",
       "      <td>0.0</td>\n",
       "      <td>0.0</td>\n",
       "      <td>0.0</td>\n",
       "      <td>0.0</td>\n",
       "      <td>0.0</td>\n",
       "      <td>0.0</td>\n",
       "      <td>0.0</td>\n",
       "      <td>0.0</td>\n",
       "      <td>0.0</td>\n",
       "    </tr>\n",
       "    <tr>\n",
       "      <th>2110</th>\n",
       "      <td>0.0</td>\n",
       "      <td>0.0</td>\n",
       "      <td>0.0</td>\n",
       "      <td>0.0</td>\n",
       "      <td>0.0</td>\n",
       "      <td>0.0</td>\n",
       "      <td>0.0</td>\n",
       "      <td>0.0</td>\n",
       "      <td>0.0</td>\n",
       "      <td>0.0</td>\n",
       "      <td>...</td>\n",
       "      <td>0.0</td>\n",
       "      <td>0.0</td>\n",
       "      <td>0.0</td>\n",
       "      <td>0.0</td>\n",
       "      <td>0.0</td>\n",
       "      <td>0.0</td>\n",
       "      <td>0.0</td>\n",
       "      <td>0.0</td>\n",
       "      <td>0.0</td>\n",
       "      <td>0.0</td>\n",
       "    </tr>\n",
       "    <tr>\n",
       "      <th>2962</th>\n",
       "      <td>0.0</td>\n",
       "      <td>0.0</td>\n",
       "      <td>0.0</td>\n",
       "      <td>0.0</td>\n",
       "      <td>0.0</td>\n",
       "      <td>0.0</td>\n",
       "      <td>0.0</td>\n",
       "      <td>0.0</td>\n",
       "      <td>0.0</td>\n",
       "      <td>0.0</td>\n",
       "      <td>...</td>\n",
       "      <td>0.0</td>\n",
       "      <td>0.0</td>\n",
       "      <td>0.0</td>\n",
       "      <td>0.0</td>\n",
       "      <td>0.0</td>\n",
       "      <td>0.0</td>\n",
       "      <td>0.0</td>\n",
       "      <td>0.0</td>\n",
       "      <td>0.0</td>\n",
       "      <td>0.0</td>\n",
       "    </tr>\n",
       "    <tr>\n",
       "      <th>1969</th>\n",
       "      <td>0.0</td>\n",
       "      <td>0.0</td>\n",
       "      <td>0.0</td>\n",
       "      <td>0.0</td>\n",
       "      <td>0.0</td>\n",
       "      <td>0.0</td>\n",
       "      <td>0.0</td>\n",
       "      <td>0.0</td>\n",
       "      <td>0.0</td>\n",
       "      <td>0.0</td>\n",
       "      <td>...</td>\n",
       "      <td>0.0</td>\n",
       "      <td>0.0</td>\n",
       "      <td>0.0</td>\n",
       "      <td>0.0</td>\n",
       "      <td>0.0</td>\n",
       "      <td>0.0</td>\n",
       "      <td>0.0</td>\n",
       "      <td>0.0</td>\n",
       "      <td>0.0</td>\n",
       "      <td>0.0</td>\n",
       "    </tr>\n",
       "    <tr>\n",
       "      <th>3051</th>\n",
       "      <td>1.0</td>\n",
       "      <td>0.0</td>\n",
       "      <td>0.0</td>\n",
       "      <td>0.0</td>\n",
       "      <td>0.0</td>\n",
       "      <td>0.0</td>\n",
       "      <td>0.0</td>\n",
       "      <td>0.0</td>\n",
       "      <td>0.0</td>\n",
       "      <td>0.0</td>\n",
       "      <td>...</td>\n",
       "      <td>0.0</td>\n",
       "      <td>0.0</td>\n",
       "      <td>0.0</td>\n",
       "      <td>0.0</td>\n",
       "      <td>0.0</td>\n",
       "      <td>0.0</td>\n",
       "      <td>0.0</td>\n",
       "      <td>0.0</td>\n",
       "      <td>0.0</td>\n",
       "      <td>0.0</td>\n",
       "    </tr>\n",
       "    <tr>\n",
       "      <th>2215</th>\n",
       "      <td>0.0</td>\n",
       "      <td>0.0</td>\n",
       "      <td>0.0</td>\n",
       "      <td>0.0</td>\n",
       "      <td>0.0</td>\n",
       "      <td>0.0</td>\n",
       "      <td>0.0</td>\n",
       "      <td>0.0</td>\n",
       "      <td>0.0</td>\n",
       "      <td>0.0</td>\n",
       "      <td>...</td>\n",
       "      <td>0.0</td>\n",
       "      <td>0.0</td>\n",
       "      <td>0.0</td>\n",
       "      <td>0.0</td>\n",
       "      <td>0.0</td>\n",
       "      <td>0.0</td>\n",
       "      <td>0.0</td>\n",
       "      <td>1.0</td>\n",
       "      <td>0.0</td>\n",
       "      <td>0.0</td>\n",
       "    </tr>\n",
       "    <tr>\n",
       "      <th>4749</th>\n",
       "      <td>0.0</td>\n",
       "      <td>0.0</td>\n",
       "      <td>0.0</td>\n",
       "      <td>0.0</td>\n",
       "      <td>0.0</td>\n",
       "      <td>0.0</td>\n",
       "      <td>0.0</td>\n",
       "      <td>0.0</td>\n",
       "      <td>0.0</td>\n",
       "      <td>0.0</td>\n",
       "      <td>...</td>\n",
       "      <td>0.0</td>\n",
       "      <td>0.0</td>\n",
       "      <td>0.0</td>\n",
       "      <td>0.0</td>\n",
       "      <td>0.0</td>\n",
       "      <td>0.0</td>\n",
       "      <td>0.0</td>\n",
       "      <td>0.0</td>\n",
       "      <td>0.0</td>\n",
       "      <td>0.0</td>\n",
       "    </tr>\n",
       "  </tbody>\n",
       "</table>\n",
       "<p>10 rows × 30000 columns</p>\n",
       "</div>"
      ],
      "text/plain": [
       "      0      1      2      3      4      5      6      7      8      9       \n",
       "4009    0.0    0.0    0.0    0.0    0.0    0.0    0.0    0.0    0.0    0.0  \\\n",
       "3123    0.0    0.0    0.0    0.0    0.0    0.0    0.0    0.0    0.0    0.0   \n",
       "3268    0.0    0.0    0.0    0.0    0.0    0.0    0.0    0.0    0.0    0.0   \n",
       "3701    0.0    0.0    0.0    0.0    0.0    0.0    0.0    0.0    0.0    0.0   \n",
       "2110    0.0    0.0    0.0    0.0    0.0    0.0    0.0    0.0    0.0    0.0   \n",
       "2962    0.0    0.0    0.0    0.0    0.0    0.0    0.0    0.0    0.0    0.0   \n",
       "1969    0.0    0.0    0.0    0.0    0.0    0.0    0.0    0.0    0.0    0.0   \n",
       "3051    1.0    0.0    0.0    0.0    0.0    0.0    0.0    0.0    0.0    0.0   \n",
       "2215    0.0    0.0    0.0    0.0    0.0    0.0    0.0    0.0    0.0    0.0   \n",
       "4749    0.0    0.0    0.0    0.0    0.0    0.0    0.0    0.0    0.0    0.0   \n",
       "\n",
       "      ...  29990  29991  29992  29993  29994  29995  29996  29997  29998   \n",
       "4009  ...    0.0    0.0    0.0    0.0    0.0    0.0    0.0    0.0    0.0  \\\n",
       "3123  ...    0.0    0.0    0.0    0.0    0.0    0.0    0.0    0.0    0.0   \n",
       "3268  ...    0.0    0.0    0.0    0.0    0.0    0.0    0.0    0.0    0.0   \n",
       "3701  ...    0.0    0.0    0.0    0.0    0.0    0.0    0.0    0.0    0.0   \n",
       "2110  ...    0.0    0.0    0.0    0.0    0.0    0.0    0.0    0.0    0.0   \n",
       "2962  ...    0.0    0.0    0.0    0.0    0.0    0.0    0.0    0.0    0.0   \n",
       "1969  ...    0.0    0.0    0.0    0.0    0.0    0.0    0.0    0.0    0.0   \n",
       "3051  ...    0.0    0.0    0.0    0.0    0.0    0.0    0.0    0.0    0.0   \n",
       "2215  ...    0.0    0.0    0.0    0.0    0.0    0.0    0.0    1.0    0.0   \n",
       "4749  ...    0.0    0.0    0.0    0.0    0.0    0.0    0.0    0.0    0.0   \n",
       "\n",
       "      29999  \n",
       "4009    0.0  \n",
       "3123    0.0  \n",
       "3268    0.0  \n",
       "3701    0.0  \n",
       "2110    0.0  \n",
       "2962    0.0  \n",
       "1969    0.0  \n",
       "3051    0.0  \n",
       "2215    0.0  \n",
       "4749    0.0  \n",
       "\n",
       "[10 rows x 30000 columns]"
      ]
     },
     "execution_count": 19,
     "metadata": {},
     "output_type": "execute_result"
    }
   ],
   "source": [
    "import time\n",
    "\n",
    "#time taken to read data\n",
    "s_time = time.time()\n",
    "cd = pd.read_csv(\"5000EightClusterScaledPoissionData.csv\", header=None)\n",
    "e_time = time.time()\n",
    "print(\"Read without chunks: \", (e_time-s_time), \"seconds\")\n",
    "\n",
    "# data\n",
    "cd.sample(10)\n"
   ]
  },
  {
   "cell_type": "code",
   "execution_count": 26,
   "id": "efa47141-09a2-4124-bb61-9b2a99f9bb95",
   "metadata": {},
   "outputs": [
    {
     "name": "stdout",
     "output_type": "stream",
     "text": [
      "Read without chunks:  10.541255950927734 seconds\n"
     ]
    },
    {
     "data": {
      "text/plain": [
       "<pandas.io.parsers.readers.TextFileReader at 0x7fa8ed3dcd60>"
      ]
     },
     "execution_count": 26,
     "metadata": {},
     "output_type": "execute_result"
    }
   ],
   "source": [
    "# import time\n",
    "\n",
    "# #time taken to read data\n",
    "# s_time = time.time()\n",
    "# cd = pd.read_csv(\"5000EightClusterScaledPoissionData.csv\", chunksize=1000)\n",
    "# e_time = time.time()\n",
    "# print(\"Read without chunks: \", (e_time-s_time), \"seconds\")\n",
    "\n",
    "# # data\n",
    "# cd\n"
   ]
  },
  {
   "cell_type": "code",
   "execution_count": 20,
   "id": "e9742033-191e-4d9f-8252-363148c7dfba",
   "metadata": {
    "tags": []
   },
   "outputs": [
    {
     "data": {
      "text/plain": [
       "(5000, 30000)"
      ]
     },
     "execution_count": 20,
     "metadata": {},
     "output_type": "execute_result"
    }
   ],
   "source": [
    "cd.shape"
   ]
  },
  {
   "cell_type": "code",
   "execution_count": 40,
   "id": "e091183a-3313-4699-9bc7-53adc2f00a11",
   "metadata": {
    "tags": []
   },
   "outputs": [
    {
     "name": "stderr",
     "output_type": "stream",
     "text": [
      "/home/mqbsxsm2/mambaforge/envs/r4/lib/python3.10/site-packages/anndata/_core/anndata.py:117: ImplicitModificationWarning: Transforming to str index.\n",
      "  warnings.warn(\"Transforming to str index.\", ImplicitModificationWarning)\n",
      "/home/mqbsxsm2/mambaforge/envs/r4/lib/python3.10/site-packages/anndata/_core/anndata.py:117: ImplicitModificationWarning: Transforming to str index.\n",
      "  warnings.warn(\"Transforming to str index.\", ImplicitModificationWarning)\n"
     ]
    },
    {
     "data": {
      "text/plain": [
       "AnnData object with n_obs × n_vars = 5000 × 30000"
      ]
     },
     "execution_count": 40,
     "metadata": {},
     "output_type": "execute_result"
    }
   ],
   "source": [
    "# Making AnnData\n",
    "adata = sc.AnnData(X = cd)\n",
    "adata"
   ]
  },
  {
   "cell_type": "markdown",
   "id": "8ef16e5e-5ca7-4ef1-b9de-ebe234579123",
   "metadata": {},
   "source": [
    "## Filtering "
   ]
  },
  {
   "cell_type": "code",
   "execution_count": 42,
   "id": "8a5c1ff3-45fc-4b81-bbfd-ae7836be7254",
   "metadata": {
    "tags": []
   },
   "outputs": [
    {
     "data": {
      "text/plain": [
       "AnnData object with n_obs × n_vars = 5000 × 27728\n",
       "    var: 'n_cells'"
      ]
     },
     "execution_count": 42,
     "metadata": {},
     "output_type": "execute_result"
    }
   ],
   "source": [
    "# === Initial peak Filtering  =====\n",
    "sc.pp.filter_genes(adata,min_cells=max(20,0.01*adata.n_obs))\n",
    "sc.pp.filter_genes(adata,max_cells = 0.5*adata.n_obs)\n",
    "adata"
   ]
  },
  {
   "cell_type": "code",
   "execution_count": 43,
   "id": "5dd602e0-2f01-469a-8f66-4f35880c97de",
   "metadata": {
    "tags": []
   },
   "outputs": [
    {
     "data": {
      "text/plain": [
       "AnnData object with n_obs × n_vars = 4822 × 27728\n",
       "    obs: 'n_genes'\n",
       "    var: 'n_cells'"
      ]
     },
     "execution_count": 43,
     "metadata": {},
     "output_type": "execute_result"
    }
   ],
   "source": [
    "# === Initial cell Filtering  =====\n",
    "sc.pp.filter_cells(adata,min_genes=min(50,0.001*adata.n_vars))\n",
    "sc.pp.filter_cells(adata,max_genes = 0.5*adata.n_vars)\n",
    "adata"
   ]
  },
  {
   "cell_type": "code",
   "execution_count": 44,
   "id": "2dca4fd1-fb18-4192-91bc-102e4c79e6b7",
   "metadata": {
    "tags": []
   },
   "outputs": [
    {
     "data": {
      "text/plain": [
       "AnnData object with n_obs × n_vars = 4822 × 27728\n",
       "    obs: 'n_genes'\n",
       "    var: 'n_cells', 'n_counts'"
      ]
     },
     "execution_count": 44,
     "metadata": {},
     "output_type": "execute_result"
    }
   ],
   "source": [
    "# Removing peaks that are all zero after this filtering\n",
    "# need to discuss with Mudassar how to remove this step\n",
    "sc.pp.filter_genes(adata,min_counts=1)\n",
    "adata"
   ]
  },
  {
   "cell_type": "markdown",
   "id": "a82070ef-8336-40e3-a79a-f602c91a04ad",
   "metadata": {},
   "source": [
    "## Data initializing"
   ]
  },
  {
   "cell_type": "code",
   "execution_count": 501,
   "id": "ab6c69de-545d-4988-8de1-495617aabf15",
   "metadata": {
    "tags": []
   },
   "outputs": [],
   "source": [
    "# ==== Initialisation of variables ====\n",
    "D = adata.n_vars # number of peaks\n",
    "N = adata.n_obs #number of cells\n",
    "alpha = np.zeros((N,1))\n",
    "alpha = adata.X.sum(axis=1).reshape(-1,1)/max(adata.X.sum(axis=1))  # Initalizing alpha (sequencing depth - scaling factor)\n",
    "alpha = alpha.reshape(-1,1)"
   ]
  },
  {
   "cell_type": "code",
   "execution_count": 59,
   "id": "e4bc19cd-a5df-42b0-9376-b10697c9413a",
   "metadata": {
    "tags": []
   },
   "outputs": [],
   "source": [
    "sc.pp.highly_variable_genes(adata)"
   ]
  },
  {
   "cell_type": "code",
   "execution_count": 60,
   "id": "523f34a3-2a61-44d9-bf24-6fdac1946e33",
   "metadata": {
    "tags": []
   },
   "outputs": [
    {
     "data": {
      "image/png": "[encoded data removed]",
      "text/plain": [
       "<Figure size 1280x480 with 2 Axes>"
      ]
     },
     "metadata": {},
     "output_type": "display_data"
    }
   ],
   "source": [
    "sc.pl.highly_variable_genes(adata)"
   ]
  },
  {
   "cell_type": "markdown",
   "id": "951f1f5d-062f-4126-a1f9-ca23b0aef1d4",
   "metadata": {},
   "source": [
    "## Defining functions Scaled Poisson EM (E-step calculation)"
   ]
  },
  {
   "cell_type": "code",
   "execution_count": 341,
   "id": "5c618733-0789-49d8-8d17-4074922735a8",
   "metadata": {
    "tags": []
   },
   "outputs": [],
   "source": [
    "def compute_z():\n",
    "    # Global variables used in this function  \n",
    "    # max_z_idx  - cell cluster labels\n",
    "    # lambda_i_k - parameters for mixtures (clusters, dimension = clusters x peaks)\n",
    "    # N - number of cells\n",
    "    # K - number of clusters (mixture components)\n",
    "    # x - data matrix (rows = cells, columns = peaks) \n",
    "    # x_sel - index of selected peaks through feature selection\n",
    "    \n",
    "    weights = np.zeros(K)\n",
    "    \n",
    "    for k in range(0,K):\n",
    "        weights[k] = len([i for i in max_z_idx if i==k])/N\n",
    "    \n",
    "    lambda_i_k[lambda_i_k<EPS] = EPS\n",
    "    z_temp = np.zeros((N,K))\n",
    "    for i in range(0,N):\n",
    "        for j in range(0,K):\n",
    "            z_temp[i,j] = np.log2(weights[j]) + \\\n",
    "                            np.sum(x[i,x_sel]*np.log2(lambda_i_k[j,0:len(x_sel)]*alpha[i]+EPS) - \\\n",
    "                              (lambda_i_k[j,0:len(x_sel)]*alpha[i]+EPS))\n",
    "    \n",
    "    \n",
    "    return(z_temp)\n",
    "        \n",
    "  "
   ]
  },
  {
   "cell_type": "code",
   "execution_count": 489,
   "id": "baa99fe7-e39e-4aad-a28f-763a4071667d",
   "metadata": {
    "tags": []
   },
   "outputs": [],
   "source": [
    "## Calculate Y_i(gain in likelihood for every peak---Used for feature selection)\n",
    "def calc_Y_i():\n",
    "    # calculating Y_i for individual peaks, using hard EM version for z update (E-step)\n",
    "    # max_z_idx  - cluster labels\n",
    "    # lambda_i_k - parameters for mixtures (clusters)\n",
    "    # lambda_i_0  - parameters when there is only one cluster in the data \n",
    "    # alpha  - relative sequencing depth (vector with length equal to number of cells)\n",
    "    \n",
    "    lambda_i_k[lambda_i_k<EPS] = EPS  \n",
    "    \n",
    "    # calculate Y_i for each peak\n",
    "    Y = np.zeros((D,1))\n",
    "    \n",
    "    for i in tqdm(range(D)):\n",
    "        Y[i,0] = np.sum(x[:,i].reshape(-1,1)*(np.log2(alpha*lambda_i_k[max_z_idx,i]+EPS) -np.log2(alpha*lambda_i_0[:,i]+EPS)) \\\n",
    "                        - (alpha*lambda_i_k[max_z_idx,i] - alpha*lambda_i_0[:,i])) \n",
    "    \n",
    "    \n",
    "    return(Y)"
   ]
  },
  {
   "cell_type": "code",
   "execution_count": 574,
   "id": "6e07e2d2-e684-49fa-b2a6-7a7072f2fd4c",
   "metadata": {
    "tags": []
   },
   "outputs": [],
   "source": [
    "# Total Log likelihood\n",
    "def NLL_total(weights,lambda_i_k_opt):\n",
    "    obj_temp = 0\n",
    "    \n",
    "    for i in range(0,N):\n",
    "        k = max_z_idx[i]\n",
    "        obj_temp = obj_temp + \\\n",
    "        np.log2(weights[k]) + \\\n",
    "        np.sum(x[i,x_sel.reshape(-1,1)]*np.log2(lambda_i_k[k,0:len(x_sel)]*alpha[i]+EPS) - \\\n",
    "                                                         (lambda_i_k[k,0:len(x_sel)]*alpha[i]+EPS) \\\n",
    "                                                         - np.log2(factorial(x[i,x_sel.reshape(-1,1)])+EPS)) \n",
    "    \n",
    "    return(1.0*obj_temp)\n",
    "        "
   ]
  },
  {
   "cell_type": "code",
   "execution_count": 406,
   "id": "8b4837d0-1af6-48d8-85aa-34c1dfc77443",
   "metadata": {
    "tags": []
   },
   "outputs": [],
   "source": [
    "# Sub-routine for M-step, optimising all parameters for all clusters\n",
    "def calculateMu():\n",
    "    # x_sel - selected peak indexes (through feature selection)\n",
    "    # pi_temp - mixture weights for each cluster (pi)  \n",
    "    \n",
    "    mu_temp = np.zeros((K, len(x_sel)))\n",
    "    \n",
    "    sm1 = 0\n",
    "    sm2 = 0\n",
    "    \n",
    "    for i in range(0,len(x_sel)):\n",
    "        for k in range(0,K):\n",
    "            # ==== M-update ======\n",
    "            if alpha[np.array(max_z_idx==k).flatten()].size>0:\n",
    "                sm1 = np.sum(EPS+ x[np.array(max_z_idx==k).flatten(),x_sel[i]])             \n",
    "                sm2 = np.sum(EPS+ alpha[np.array(max_z_idx==k).flatten()])\n",
    "            else:\n",
    "                sm1=np.sum(EPS)\n",
    "                sm2=np.sum(EPS)\n",
    "                \n",
    "            mu_k_i = sm1/sm2 \n",
    "            #print(f\"EPS={EPS},i={i},k={k},sm1={sm1}, sm2={sm2}, mu_k_i={mu_k_i}\")\n",
    "            mu_temp[k,i] = mu_k_i \n",
    "    \n",
    "    return(mu_temp)"
   ]
  },
  {
   "cell_type": "code",
   "execution_count": 290,
   "id": "df539e32-6f82-4a34-b588-4c47e0f69c9e",
   "metadata": {
    "tags": []
   },
   "outputs": [],
   "source": [
    "### M-step main routine\n",
    "def MaximizationStep_optim():\n",
    "    pi_temp = np.zeros((K,))\n",
    "    \n",
    "    for k in range(0,K):\n",
    "        pi_temp[k] = np.sum(max_z_idx==k)/N\n",
    "    \n",
    "    lambda_i_k_opt = calculateMu() \n",
    "    objective_temp = NLL_total(pi_temp,lambda_i_k_opt)\n",
    "    \n",
    "    M_step_dict = {\n",
    "        \"pi_temp\" : pi_temp,\n",
    "        \"lambda_i_k_opt\" : lambda_i_k_opt,\n",
    "        \"objective_temp\" : objective_temp\n",
    "    }\n",
    "    \n",
    "    return(M_step_dict)"
   ]
  },
  {
   "cell_type": "markdown",
   "id": "911dd78f-f609-4d60-940e-59411c2018af",
   "metadata": {},
   "source": [
    "# Main routine \n",
    "Running for multiple number of clusters, and then choosing the best model using AIC"
   ]
  },
  {
   "cell_type": "code",
   "execution_count": 409,
   "id": "a726156a-e2b7-4a89-a4a0-98e07dfdb444",
   "metadata": {
    "tags": []
   },
   "outputs": [
    {
     "name": "stderr",
     "output_type": "stream",
     "text": [
      "  0%|                                                     | 0/8 [00:00<?, ?it/s]/tmp/ipykernel_80862/3500480558.py:19: RuntimeWarning: divide by zero encountered in log2\n",
      "  z_temp[i,j] = np.log2(weights[j]) + \\\n"
     ]
    },
    {
     "name": "stdout",
     "output_type": "stream",
     "text": [
      "While loop iteration1\n",
      "While loop iteration2\n",
      "While loop iteration3\n",
      "While loop iteration4\n",
      "While loop iteration5\n",
      "While loop iteration6\n"
     ]
    },
    {
     "name": "stderr",
     "output_type": "stream",
     "text": [
      "  0%|                                                     | 0/8 [06:06<?, ?it/s]\n"
     ]
    },
    {
     "ename": "IndexError",
     "evalue": "arrays used as indices must be of integer (or boolean) type",
     "output_type": "error",
     "traceback": [
      "\u001b[0;31m---------------------------------------------------------------------------\u001b[0m",
      "\u001b[0;31mIndexError\u001b[0m                                Traceback (most recent call last)",
      "Cell \u001b[0;32mIn[409], line 55\u001b[0m\n\u001b[1;32m     53\u001b[0m         Y \u001b[38;5;241m=\u001b[39m calc_Y_i() \n\u001b[1;32m     54\u001b[0m         x_sel \u001b[38;5;241m=\u001b[39m np\u001b[38;5;241m.\u001b[39msort(Y\u001b[38;5;241m.\u001b[39mflatten())[np\u001b[38;5;241m.\u001b[39marray(Y\u001b[38;5;241m>\u001b[39mnp\u001b[38;5;241m.\u001b[39mquantile(Y, q \u001b[38;5;241m=\u001b[39m [\u001b[38;5;241m0.1\u001b[39m,\u001b[38;5;241m0.3\u001b[39m,\u001b[38;5;241m0.5\u001b[39m,\u001b[38;5;241m0.6\u001b[39m,\u001b[38;5;241m0.7\u001b[39m,\u001b[38;5;241m0.8\u001b[39m,\u001b[38;5;241m0.9\u001b[39m])[\u001b[38;5;241m3\u001b[39m])\u001b[38;5;241m.\u001b[39mflatten()]\n\u001b[0;32m---> 55\u001b[0m         lambda_i_k \u001b[38;5;241m=\u001b[39m  \u001b[43mlambda_i_k\u001b[49m\u001b[43m[\u001b[49m\u001b[43m:\u001b[49m\u001b[43m,\u001b[49m\u001b[43mx_sel\u001b[49m\u001b[43m]\u001b[49m \n\u001b[1;32m     61\u001b[0m \u001b[38;5;28mprint\u001b[39m(\u001b[38;5;124m'\u001b[39m\u001b[38;5;124mTime taken: \u001b[39m\u001b[38;5;124m'\u001b[39m,datetime\u001b[38;5;241m.\u001b[39mnow()\u001b[38;5;241m-\u001b[39mstart)\n",
      "\u001b[0;31mIndexError\u001b[0m: arrays used as indices must be of integer (or boolean) type"
     ]
    }
   ],
   "source": [
    "\n",
    "\n",
    "start=datetime.now()\n",
    "\n",
    "N = adata.n_obs\n",
    "\n",
    "EPS  = 0.000001 # small value, gloablly defined, for dealing with underflow\n",
    "delta = 0.0001 # Used in EM convergence stopping criteria\n",
    "\n",
    "x = adata.X\n",
    "\n",
    "#x_sel = range(x.shape[1]) # Index of selected peaks, all of them initially \n",
    "x_sel = np.arange(0, x.shape[1], 1, dtype=int)\n",
    "\n",
    "models = [2,4,5,6,7,8,9,10]#, 10, 15, 20) #  Possible number of clusters\n",
    "\n",
    "max_z_idx1 = np.full((N, len(models)), 1) # To store labels for all models \n",
    "max_z_idx = np.full((N, 1), 1)\n",
    "\n",
    "AC = np.full((len(models),1),1)\n",
    "\n",
    "for i in tqdm(range(len(models))):\n",
    "    # current contents of your for loop\n",
    "    K = models[i] # current number of clusters\n",
    "    lambda_i_k = np.zeros((K,len(x_sel))) # parameters for current model\n",
    "    \n",
    "    # ======== Calculate variable selection (only in case of K==2)  ======\n",
    "    if(i==0):\n",
    "        tmp1 = np.sum(x, axis=0)/N \n",
    "        lambda_i_0 = np.full((1,len(x_sel)),1)\n",
    "        lambda_i_0[0,] = tmp1[0:len(x_sel)]\n",
    "        # Quick EM\n",
    "        Iter_QuickEM = 5\n",
    "        converged = 0\n",
    "        resEM = MaximizationStep_optim() # M-step, First iter\n",
    "        objective_tmp = resEM['objective_temp']\n",
    "        lambda_i_k[0:K,0:len(x_sel)] = resEM['lambda_i_k_opt']\n",
    "        iter = 0\n",
    "        \n",
    "        while converged == 0:\n",
    "            z = compute_z() # E-step \n",
    "            for l in range(0,N):\n",
    "                max_z_idx[l] = np.argmax(np.array(z[l,])) # CEM\n",
    "            \n",
    "            resEM = MaximizationStep_optim()\n",
    "            lambda_i_k[0:K,0:len(x_sel)reshape(-1,1)] = resEM['lambda_i_k_opt']\n",
    "            tmp = abs(resEM['objective_temp'] - objective_tmp)\n",
    "            if((tmp <= delta*abs(objective_tmp)) | iter>=Iter_QuickEM): \n",
    "                converged = 1\n",
    "                objective_tmp <- resEM['objective_temp']\n",
    "            \n",
    "            iter = iter + 1\n",
    "            print(f\"While loop iteration{iter}\")\n",
    "            objective_tmp <- resEM['objective_temp']\n",
    "            \n",
    "        \n",
    "        Y = calc_Y_i() \n",
    "        x_sel = np.sort(Y.flatten())[np.array(Y>np.quantile(Y, q = [0.1,0.3,0.5,0.6,0.7,0.8,0.9])[3]).flatten()]\n",
    "        lambda_i_k =  lambda_i_k[:,x_sel] \n",
    "        \n",
    "\n",
    "\n",
    "\n",
    "\n",
    "print('Time taken: ',datetime.now()-start)\n"
   ]
  },
  {
   "cell_type": "code",
   "execution_count": 423,
   "id": "fda9a6e6-d4ca-433c-a2fa-2eb10efb8b5c",
   "metadata": {
    "tags": []
   },
   "outputs": [
    {
     "data": {
      "text/plain": [
       "27728"
      ]
     },
     "execution_count": 423,
     "metadata": {},
     "output_type": "execute_result"
    }
   ],
   "source": [
    "D"
   ]
  },
  {
   "cell_type": "code",
   "execution_count": 490,
   "id": "605c467e-6a04-4e10-9637-1caffd0e94c2",
   "metadata": {
    "tags": []
   },
   "outputs": [
    {
     "name": "stderr",
     "output_type": "stream",
     "text": [
      "100%|███████████████████████████████████| 27728/27728 [00:03<00:00, 7243.72it/s]\n"
     ]
    },
    {
     "data": {
      "text/plain": [
       "array([[1555.98409571],\n",
       "       [1325.67842728],\n",
       "       [3573.18784166],\n",
       "       ...,\n",
       "       [2245.09194776],\n",
       "       [1810.8160387 ],\n",
       "       [1608.00051559]])"
      ]
     },
     "execution_count": 490,
     "metadata": {},
     "output_type": "execute_result"
    }
   ],
   "source": [
    "Y = calc_Y_i()\n",
    "Y\n",
    "#np.sort(Y.flatten())"
   ]
  },
  {
   "cell_type": "code",
   "execution_count": 491,
   "id": "a061436e-d8ba-42a8-a841-c2d6326e37f7",
   "metadata": {
    "tags": []
   },
   "outputs": [
    {
     "data": {
      "text/plain": [
       "(27728, 1)"
      ]
     },
     "execution_count": 491,
     "metadata": {},
     "output_type": "execute_result"
    }
   ],
   "source": [
    "Y.shape"
   ]
  },
  {
   "cell_type": "code",
   "execution_count": 509,
   "id": "8a7f5905-6ebc-4b33-9eec-895c6651c6ca",
   "metadata": {
    "tags": []
   },
   "outputs": [
    {
     "data": {
      "text/plain": [
       "array([[0],\n",
       "       [1],\n",
       "       [1],\n",
       "       ...,\n",
       "       [1],\n",
       "       [0],\n",
       "       [1]])"
      ]
     },
     "execution_count": 509,
     "metadata": {},
     "output_type": "execute_result"
    }
   ],
   "source": [
    "np.random.choice(K,N,replace=True).reshape(-1,1)"
   ]
  },
  {
   "cell_type": "code",
   "execution_count": 575,
   "id": "d77e3086-c727-4d2c-86b2-60b509c45065",
   "metadata": {
    "tags": []
   },
   "outputs": [
    {
     "name": "stderr",
     "output_type": "stream",
     "text": [
      "  0%|                                                    | 0/10 [00:19<?, ?it/s]\n"
     ]
    },
    {
     "ename": "IndexError",
     "evalue": "only integers, slices (`:`), ellipsis (`...`), numpy.newaxis (`None`) and integer or boolean arrays are valid indices",
     "output_type": "error",
     "traceback": [
      "\u001b[0;31m---------------------------------------------------------------------------\u001b[0m",
      "\u001b[0;31mIndexError\u001b[0m                                Traceback (most recent call last)",
      "Cell \u001b[0;32mIn[575], line 16\u001b[0m\n\u001b[1;32m     13\u001b[0m     lambda_i_k[k,] \u001b[38;5;241m=\u001b[39m (np\u001b[38;5;241m.\u001b[39msum(x[max_z_idx\u001b[38;5;241m==\u001b[39mk,x_sel\u001b[38;5;241m.\u001b[39mreshape(\u001b[38;5;241m-\u001b[39m\u001b[38;5;241m1\u001b[39m,\u001b[38;5;241m1\u001b[39m)], axis\u001b[38;5;241m=\u001b[39m\u001b[38;5;241m1\u001b[39m)\u001b[38;5;241m+\u001b[39m\u001b[38;5;241m1\u001b[39m)\u001b[38;5;241m/\u001b[39m(np\u001b[38;5;241m.\u001b[39msum(max_z_idx\u001b[38;5;241m==\u001b[39mk)\u001b[38;5;241m+\u001b[39m\u001b[38;5;241m1\u001b[39m)     \u001b[38;5;66;03m# ML estimator\u001b[39;00m\n\u001b[1;32m     15\u001b[0m \u001b[38;5;66;03m# run for num_iter_restarts iterations       \u001b[39;00m\n\u001b[0;32m---> 16\u001b[0m resEM \u001b[38;5;241m=\u001b[39m \u001b[43mMaximizationStep_optim\u001b[49m\u001b[43m(\u001b[49m\u001b[43m)\u001b[49m \u001b[38;5;66;03m# M-step, First iter\u001b[39;00m\n\u001b[1;32m     17\u001b[0m objective_tmp \u001b[38;5;241m=\u001b[39m resEM[\u001b[38;5;124m'\u001b[39m\u001b[38;5;124mobjective_temp\u001b[39m\u001b[38;5;124m'\u001b[39m]\n\u001b[1;32m     18\u001b[0m lambda_i_k[\u001b[38;5;241m0\u001b[39m:K,\u001b[38;5;241m0\u001b[39m:length(x_sel)] \u001b[38;5;241m=\u001b[39m resEM[\u001b[38;5;124m'\u001b[39m\u001b[38;5;124mlambda_i_k_opt\u001b[39m\u001b[38;5;124m'\u001b[39m]\n",
      "Cell \u001b[0;32mIn[290], line 9\u001b[0m, in \u001b[0;36mMaximizationStep_optim\u001b[0;34m()\u001b[0m\n\u001b[1;32m      6\u001b[0m     pi_temp[k] \u001b[38;5;241m=\u001b[39m np\u001b[38;5;241m.\u001b[39msum(max_z_idx\u001b[38;5;241m==\u001b[39mk)\u001b[38;5;241m/\u001b[39mN\n\u001b[1;32m      8\u001b[0m lambda_i_k_opt \u001b[38;5;241m=\u001b[39m calculateMu() \n\u001b[0;32m----> 9\u001b[0m objective_temp \u001b[38;5;241m=\u001b[39m \u001b[43mNLL_total\u001b[49m\u001b[43m(\u001b[49m\u001b[43mpi_temp\u001b[49m\u001b[43m,\u001b[49m\u001b[43mlambda_i_k_opt\u001b[49m\u001b[43m)\u001b[49m\n\u001b[1;32m     11\u001b[0m M_step_dict \u001b[38;5;241m=\u001b[39m {\n\u001b[1;32m     12\u001b[0m     \u001b[38;5;124m\"\u001b[39m\u001b[38;5;124mpi_temp\u001b[39m\u001b[38;5;124m\"\u001b[39m : pi_temp,\n\u001b[1;32m     13\u001b[0m     \u001b[38;5;124m\"\u001b[39m\u001b[38;5;124mlambda_i_k_opt\u001b[39m\u001b[38;5;124m\"\u001b[39m : lambda_i_k_opt,\n\u001b[1;32m     14\u001b[0m     \u001b[38;5;124m\"\u001b[39m\u001b[38;5;124mobjective_temp\u001b[39m\u001b[38;5;124m\"\u001b[39m : objective_temp\n\u001b[1;32m     15\u001b[0m }\n\u001b[1;32m     17\u001b[0m \u001b[38;5;28;01mreturn\u001b[39;00m(M_step_dict)\n",
      "Cell \u001b[0;32mIn[574], line 8\u001b[0m, in \u001b[0;36mNLL_total\u001b[0;34m(weights, lambda_i_k_opt)\u001b[0m\n\u001b[1;32m      5\u001b[0m \u001b[38;5;28;01mfor\u001b[39;00m i \u001b[38;5;129;01min\u001b[39;00m \u001b[38;5;28mrange\u001b[39m(\u001b[38;5;241m0\u001b[39m,N):\n\u001b[1;32m      6\u001b[0m     k \u001b[38;5;241m=\u001b[39m max_z_idx[i]\n\u001b[1;32m      7\u001b[0m     obj_temp \u001b[38;5;241m=\u001b[39m obj_temp \u001b[38;5;241m+\u001b[39m \\\n\u001b[0;32m----> 8\u001b[0m     np\u001b[38;5;241m.\u001b[39mlog2(\u001b[43mweights\u001b[49m\u001b[43m[\u001b[49m\u001b[43mk\u001b[49m\u001b[43m]\u001b[49m) \u001b[38;5;241m+\u001b[39m \\\n\u001b[1;32m      9\u001b[0m     np\u001b[38;5;241m.\u001b[39msum(x[i,x_sel\u001b[38;5;241m.\u001b[39mreshape(\u001b[38;5;241m-\u001b[39m\u001b[38;5;241m1\u001b[39m,\u001b[38;5;241m1\u001b[39m)]\u001b[38;5;241m*\u001b[39mnp\u001b[38;5;241m.\u001b[39mlog2(lambda_i_k[k,\u001b[38;5;241m0\u001b[39m:\u001b[38;5;28mlen\u001b[39m(x_sel)]\u001b[38;5;241m*\u001b[39malpha[i]\u001b[38;5;241m+\u001b[39mEPS) \u001b[38;5;241m-\u001b[39m \\\n\u001b[1;32m     10\u001b[0m                                                      (lambda_i_k[k,\u001b[38;5;241m0\u001b[39m:\u001b[38;5;28mlen\u001b[39m(x_sel)]\u001b[38;5;241m*\u001b[39malpha[i]\u001b[38;5;241m+\u001b[39mEPS) \\\n\u001b[1;32m     11\u001b[0m                                                      \u001b[38;5;241m-\u001b[39m np\u001b[38;5;241m.\u001b[39mlog2(factorial(x[i,x_sel\u001b[38;5;241m.\u001b[39mreshape(\u001b[38;5;241m-\u001b[39m\u001b[38;5;241m1\u001b[39m,\u001b[38;5;241m1\u001b[39m)])\u001b[38;5;241m+\u001b[39mEPS)) \n\u001b[1;32m     13\u001b[0m \u001b[38;5;28;01mreturn\u001b[39;00m(\u001b[38;5;241m1.0\u001b[39m\u001b[38;5;241m*\u001b[39mobj_temp)\n",
      "\u001b[0;31mIndexError\u001b[0m: only integers, slices (`:`), ellipsis (`...`), numpy.newaxis (`None`) and integer or boolean arrays are valid indices"
     ]
    }
   ],
   "source": [
    "#x_sel = range(x.shape[1]) # Index of selected peaks, all of them initially \n",
    "x_sel = np.arange(0, x.shape[1], 1, dtype=int)\n",
    "for i in range(len(models)):\n",
    "    # Random Restarts\n",
    "    num_restarts = 10\n",
    "    num_iter_restarts = 5\n",
    "    max_z_idx_tmp = np.zeros((N,num_restarts))\n",
    "    idx = 1\n",
    "    for m in tqdm(range(num_restarts)): # small EM to initialize\n",
    "        max_z_idx_tmp[:,m] = np.random.choice(K,N,replace=True) # Making 1D\n",
    "        max_z_idx = max_z_idx_tmp[:,m]\n",
    "        for k in range(K):\n",
    "            lambda_i_k[k,] = (np.sum(x[max_z_idx==k,x_sel.reshape(-1,1)], axis=1)+1)/(np.sum(max_z_idx==k)+1)     # ML estimator\n",
    "        \n",
    "        # run for num_iter_restarts iterations       \n",
    "        resEM = MaximizationStep_optim() # M-step, First iter\n",
    "        objective_tmp = resEM['objective_temp']\n",
    "        lambda_i_k[0:K,0:len(x_sel)] = resEM['lambda_i_k_opt']\n",
    "        if(m==1):\n",
    "            objective_old = objective_tmp\n",
    "            lambda_i_k_old = lambda_i_k\n",
    "        \n",
    "        iter = 0\n",
    "        while iter<=num_iter_restarts:\n",
    "            z = compute_z() # E-setp\n",
    "            for l in range(N):\n",
    "                max_z_idx[l] = which.max(z[l,])\n",
    "            \n",
    "            resEM = MaximizationStep_optim() \n",
    "            lambda_i_k[0:K,0:len(x_sel)] = resEM['lambda_i_k_opt']\n",
    "            objective_tmp = resEM['objective_temp']\n",
    "            iter <- iter + 1   \n",
    "        # while\n",
    "                     \n",
    "        if (objective_tmp < objective_old):\n",
    "            objective_old = objective_tmp\n",
    "            lambda_i_k_old = lambda_i_k\n",
    "            idx = m\n",
    "        \n",
    "    "
   ]
  },
  {
   "cell_type": "code",
   "execution_count": 571,
   "id": "f38810c1-29ad-450b-9f33-0c94d7ed306d",
   "metadata": {
    "tags": []
   },
   "outputs": [
    {
     "data": {
      "text/plain": [
       "array([    0,     1,     2, ..., 27725, 27726, 27727])"
      ]
     },
     "execution_count": 571,
     "metadata": {},
     "output_type": "execute_result"
    }
   ],
   "source": [
    "x_sel = np.arange(0, x.shape[1], 1, dtype=int)\n",
    "x_sel\n",
    "#x[max_z_idx==k,x_sel]"
   ]
  },
  {
   "cell_type": "code",
   "execution_count": 569,
   "id": "ef2c6f47-ca6c-4569-ab96-89f3f4687293",
   "metadata": {
    "tags": []
   },
   "outputs": [
    {
     "ename": "IndexError",
     "evalue": "shape mismatch: indexing arrays could not be broadcast together with shapes (2382,) (27728,) ",
     "output_type": "error",
     "traceback": [
      "\u001b[0;31m---------------------------------------------------------------------------\u001b[0m",
      "\u001b[0;31mIndexError\u001b[0m                                Traceback (most recent call last)",
      "Cell \u001b[0;32mIn[569], line 1\u001b[0m\n\u001b[0;32m----> 1\u001b[0m ((np\u001b[38;5;241m.\u001b[39msum(\u001b[43mx\u001b[49m\u001b[43m[\u001b[49m\u001b[43mmax_z_idx\u001b[49m\u001b[38;5;241;43m==\u001b[39;49m\u001b[43mk\u001b[49m\u001b[43m,\u001b[49m\u001b[43mx_sel\u001b[49m\u001b[43m]\u001b[49m, axis\u001b[38;5;241m=\u001b[39m\u001b[38;5;241m1\u001b[39m)\u001b[38;5;241m+\u001b[39m\u001b[38;5;241m1\u001b[39m)\u001b[38;5;241m/\u001b[39m(np\u001b[38;5;241m.\u001b[39msum(max_z_idx\u001b[38;5;241m==\u001b[39mk)\u001b[38;5;241m+\u001b[39m\u001b[38;5;241m1\u001b[39m))\u001b[38;5;241m.\u001b[39mshape\n",
      "\u001b[0;31mIndexError\u001b[0m: shape mismatch: indexing arrays could not be broadcast together with shapes (2382,) (27728,) "
     ]
    }
   ],
   "source": [
    "((np.sum(x[max_z_idx==k,x_sel], axis=1)+1)/(np.sum(max_z_idx==k)+1)).shape"
   ]
  },
  {
   "cell_type": "code",
   "execution_count": 552,
   "id": "bb8307f1-6079-4d62-9d1c-fc9562106404",
   "metadata": {
    "tags": []
   },
   "outputs": [
    {
     "data": {
      "text/plain": [
       "array([[    0],\n",
       "       [    1],\n",
       "       [    2],\n",
       "       ...,\n",
       "       [27725],\n",
       "       [27726],\n",
       "       [27727]])"
      ]
     },
     "execution_count": 552,
     "metadata": {},
     "output_type": "execute_result"
    }
   ],
   "source": [
    "x_sel.reshape(-1,1)"
   ]
  },
  {
   "cell_type": "code",
   "execution_count": 549,
   "id": "1b0e9de7-00d5-4fbb-87c0-589a45ed9cce",
   "metadata": {
    "tags": []
   },
   "outputs": [
    {
     "data": {
      "text/plain": [
       "[[0], [2], [3]]"
      ]
     },
     "execution_count": 549,
     "metadata": {},
     "output_type": "execute_result"
    }
   ],
   "source": [
    "[[0],[2],[3]]"
   ]
  },
  {
   "cell_type": "code",
   "execution_count": 554,
   "id": "1dbf13dc-7d34-440e-85b5-13be2affe7d6",
   "metadata": {
    "tags": []
   },
   "outputs": [
    {
     "data": {
      "text/plain": [
       "array([[0., 0., 0., ..., 0., 0., 0.],\n",
       "       [0., 0., 0., ..., 0., 0., 0.],\n",
       "       [0., 0., 0., ..., 0., 0., 1.],\n",
       "       ...,\n",
       "       [0., 0., 0., ..., 0., 0., 0.],\n",
       "       [0., 0., 0., ..., 0., 0., 0.],\n",
       "       [0., 0., 0., ..., 0., 0., 0.]])"
      ]
     },
     "execution_count": 554,
     "metadata": {},
     "output_type": "execute_result"
    }
   ],
   "source": [
    "#x[max_z_idx==k,:].shape\n",
    "x[max_z_idx==k,x_sel.reshape(-1,1)]"
   ]
  },
  {
   "cell_type": "code",
   "execution_count": 555,
   "id": "28dc0db3-75f5-40bf-9d7c-876ccd090940",
   "metadata": {
    "tags": []
   },
   "outputs": [
    {
     "data": {
      "text/plain": [
       "(2410,)"
      ]
     },
     "execution_count": 555,
     "metadata": {},
     "output_type": "execute_result"
    }
   ],
   "source": [
    "np.sum(x[max_z_idx==k,x_sel.reshape(-1,1)], axis=0).shape"
   ]
  },
  {
   "cell_type": "code",
   "execution_count": null,
   "id": "76932c27-4b5b-4c42-ae23-5b002cf63987",
   "metadata": {},
   "outputs": [],
   "source": []
  },
  {
   "cell_type": "code",
   "execution_count": null,
   "id": "e609cc71-4c31-4e08-bae2-6492994cb868",
   "metadata": {},
   "outputs": [],
   "source": []
  },
  {
   "cell_type": "code",
   "execution_count": null,
   "id": "04874fef-fef0-4ab1-8e91-83f35780b79b",
   "metadata": {},
   "outputs": [],
   "source": []
  },
  {
   "cell_type": "code",
   "execution_count": null,
   "id": "b845761a-dda2-415d-b7e8-a9fbb96d9c3c",
   "metadata": {},
   "outputs": [],
   "source": []
  },
  {
   "cell_type": "code",
   "execution_count": null,
   "id": "5eeef4cb-d8c6-4b10-a6d4-8cba5b60fa4c",
   "metadata": {},
   "outputs": [],
   "source": []
  },
  {
   "cell_type": "code",
   "execution_count": null,
   "id": "7cc21780-af23-4db8-8a1e-32de429933ed",
   "metadata": {},
   "outputs": [],
   "source": []
  },
  {
   "cell_type": "code",
   "execution_count": 354,
   "id": "3b2c83a4-5c61-48f6-ad1c-f6ad2a86cd75",
   "metadata": {
    "tags": []
   },
   "outputs": [
    {
     "data": {
      "text/plain": [
       "array([nan])"
      ]
     },
     "execution_count": 354,
     "metadata": {},
     "output_type": "execute_result"
    }
   ],
   "source": [
    "resEM['objective_temp']"
   ]
  },
  {
   "cell_type": "code",
   "execution_count": 353,
   "id": "ef488ce4-305c-466d-bc08-a5592cffd08b",
   "metadata": {
    "tags": []
   },
   "outputs": [
    {
     "data": {
      "text/plain": [
       "array([nan])"
      ]
     },
     "execution_count": 353,
     "metadata": {},
     "output_type": "execute_result"
    }
   ],
   "source": [
    "tmp = abs(resEM['objective_temp'] - objective_tmp)\n",
    "tmp"
   ]
  },
  {
   "cell_type": "code",
   "execution_count": 351,
   "id": "377ce54c-91ec-4052-b8e8-e9ea046941ee",
   "metadata": {
    "tags": []
   },
   "outputs": [
    {
     "data": {
      "text/plain": [
       "array([7738.57229678])"
      ]
     },
     "execution_count": 351,
     "metadata": {},
     "output_type": "execute_result"
    }
   ],
   "source": [
    "delta*abs(objective_tmp)"
   ]
  },
  {
   "cell_type": "code",
   "execution_count": 349,
   "id": "7895851a-2d49-49d6-b635-3aa4c054c764",
   "metadata": {
    "tags": []
   },
   "outputs": [
    {
     "data": {
      "text/plain": [
       "array([False])"
      ]
     },
     "execution_count": 349,
     "metadata": {},
     "output_type": "execute_result"
    }
   ],
   "source": [
    "if((tmp <= delta*abs(objective_tmp)) | iter>=Iter_QuickEM):"
   ]
  },
  {
   "cell_type": "code",
   "execution_count": null,
   "id": "42752ef8-0fcf-46cc-b7df-aec2512be306",
   "metadata": {},
   "outputs": [],
   "source": []
  },
  {
   "cell_type": "code",
   "execution_count": null,
   "id": "a4592f20-fa39-4ad1-a64c-51d8d1961fda",
   "metadata": {},
   "outputs": [],
   "source": []
  },
  {
   "cell_type": "code",
   "execution_count": null,
   "id": "77402598-c2dc-4c2d-9b06-1f71b225c695",
   "metadata": {},
   "outputs": [],
   "source": []
  },
  {
   "cell_type": "code",
   "execution_count": null,
   "id": "d4b4bdd9-358a-4f77-951f-953f0d53a723",
   "metadata": {},
   "outputs": [],
   "source": []
  },
  {
   "cell_type": "code",
   "execution_count": null,
   "id": "b6a069b2-36f5-4a49-8a25-d83ff3cb6f95",
   "metadata": {},
   "outputs": [],
   "source": []
  },
  {
   "cell_type": "code",
   "execution_count": 188,
   "id": "7feea5df-3055-4a83-a07c-8ca939dcd4af",
   "metadata": {
    "tags": []
   },
   "outputs": [],
   "source": [
    "max_z_index = np.random.randint(low=0, high=5, size=1000)"
   ]
  },
  {
   "cell_type": "code",
   "execution_count": 193,
   "id": "776a64d2-573e-4166-a102-eb9a305af76d",
   "metadata": {
    "tags": []
   },
   "outputs": [
    {
     "data": {
      "text/plain": [
       "229"
      ]
     },
     "execution_count": 193,
     "metadata": {},
     "output_type": "execute_result"
    }
   ],
   "source": [
    "np.sum(max_z_index==3)"
   ]
  },
  {
   "cell_type": "code",
   "execution_count": 139,
   "id": "62e3e227-9e1d-465b-9f6c-034216399abe",
   "metadata": {
    "tags": []
   },
   "outputs": [
    {
     "data": {
      "text/plain": [
       "array([0.201, 0.202, 0.183, 0.201, 0.213])"
      ]
     },
     "execution_count": 139,
     "metadata": {},
     "output_type": "execute_result"
    }
   ],
   "source": [
    "test_weight = compute_z(5, max_z_index, 1000)\n",
    "test_weight"
   ]
  },
  {
   "cell_type": "code",
   "execution_count": null,
   "id": "3a9955f6-6124-4503-ab26-0f394226ab2d",
   "metadata": {},
   "outputs": [],
   "source": []
  },
  {
   "cell_type": "code",
   "execution_count": null,
   "id": "34d98490-a784-4a8e-8dda-0c48d3effa2d",
   "metadata": {},
   "outputs": [],
   "source": []
  },
  {
   "cell_type": "markdown",
   "id": "1aa26887-a274-4677-bf1c-05819d699c90",
   "metadata": {},
   "source": [
    "# Main routine \n",
    "Running for multiple number of clusters, and then choosing the best model using AIC"
   ]
  },
  {
   "cell_type": "code",
   "execution_count": 53,
   "id": "ff58a349-2ef5-47bc-9225-a64944660674",
   "metadata": {},
   "outputs": [
    {
     "name": "stdout",
     "output_type": "stream",
     "text": [
      "[1] \"2023-01-19 09:04:30 GMT\"\n",
      "[1] -6261135\n",
      "[1] -6133892\n",
      "[1] -6065755\n",
      "[1] -6001088\n",
      "[1] -5937552\n",
      "[1] -5870461\n",
      "[1] -5866662\n",
      "[1] -5864027\n",
      "Time difference of 6.920446 hours\n"
     ]
    }
   ],
   "source": [
    "#### =========================== Main function =============================\n",
    "\n",
    "old <- Sys.time()\n",
    "print(old)  # start time\n",
    "\n",
    "EPS  <- 0.000001 # small value, gloablly defined, for dealing with underflow\n",
    "delta <- 0.0001 # Used in EM convergence stopping criteria\n",
    "\n",
    "x_sel <- 1:dim(x)[2] # Index of selected peaks, all of them initially \n",
    "\n",
    "models <- list(2,4,5,6,7,8,9,10)#, 10, 15, 20) #  Possible number of clusters\n",
    "\n",
    "max_z_idx1 <- matrix(1,nrow=N,ncol=length(models)) # To store labels for all models \n",
    "max_z_idx <- matrix(1,nrow=N,1) # cluster labels, global variable\n",
    "\n",
    "AC <- matrix(1,nrow=length(models),1) # To store AIC values for each model\n",
    "\n",
    "\n",
    "for (i in 1:length(models)){\n",
    "    \n",
    "    K <- models[[i]] # current number of clusters\n",
    "    lambda_i_k <- matrix(0,nrow = K,ncol = length(x_sel)) # parameters for current model\n",
    "    \n",
    "    # ======== Calculate variable selection (only in case of K==2)  ======\n",
    "    if(i==1){\n",
    "        tmp1 <- colSums(x)/N \n",
    "        lambda_i_0 <- matrix(1,nrow=1,ncol = length(x_sel))\n",
    "        lambda_i_0[1,] <- tmp1[1:length(x_sel)] \n",
    "        # Quick EM\n",
    "        Iter_QuickEM <- 10\n",
    "        converged <- 0\n",
    "        resEM <- MaximizationStep_optim() # M-step, First iter\n",
    "        objective_tmp <- resEM[[3]]\n",
    "        lambda_i_k[1:K,1:length(x_sel)] <- resEM[[2]]\n",
    "        iter <- 0\n",
    "        while(converged == 0){\n",
    "             z <- compute_z() # E-setp \n",
    "             for (l in 1:N){ max_z_idx[l] <- which.max(z[l,]) } # CEM\n",
    "             resEM <- MaximizationStep_optim() \n",
    "             lambda_i_k[1:K,1:length(x_sel)] <- resEM[[2]]\n",
    "             tmp <- abs(resEM[[3]] - objective_tmp)\n",
    "             if(tmp <= delta*abs(objective_tmp) | iter>=Iter_QuickEM) { \n",
    "                converged <- 1\n",
    "                objective_tmp <- resEM[[3]]\n",
    "             }\n",
    "             iter <- iter + 1\n",
    "             objective_tmp <- resEM[[3]]\n",
    "        }# while\n",
    "        \n",
    "        # Calculation of gain in log LK for every peak\n",
    "        Y <- calc_Y_i() \n",
    "        x_sel <- order(Y,decreasing = TRUE)[Y>quantile(Y, probs = c(0.1,0.3,0.5,0.6,0.7,0.8,0.9))[4] ]  # Peak selection based on percentiles\n",
    "        lambda_i_k <-  lambda_i_k[,x_sel]          \n",
    "    }\n",
    " \n",
    "         \n",
    "         \n",
    "    # Random Restarts\n",
    "    num_restarts <- 10\n",
    "    num_iter_restarts <- 5\n",
    "    max_z_idx_tmp <- matrix(1,nrow=N,ncol=num_restarts)   \n",
    "    idx <- 1\n",
    "    for (m in 1:num_restarts){ # small EM to initialize\n",
    "        max_z_idx_tmp[,m] <- sample(1:K,N,replace=TRUE) \n",
    "        max_z_idx <- max_z_idx_tmp[,m]\n",
    "        for (k in 1:K){\n",
    "            lambda_i_k[k,] <- (colSums(x[max_z_idx==k,x_sel])+1)/(sum(max_z_idx==k)+1)     # ML estimator\n",
    "        } \n",
    "        # run for num_iter_restarts iterations       \n",
    "        resEM <- MaximizationStep_optim() # M-step, First iter\n",
    "        objective_tmp <- resEM[[3]]\n",
    "        lambda_i_k[1:K,1:length(x_sel)] <- resEM[[2]]\n",
    "        if(m==1){\n",
    "            objective_old <- objective_tmp\n",
    "            lambda_i_k_old <- lambda_i_k\n",
    "        }\n",
    "        iter <- 0\n",
    "        while(iter<=num_iter_restarts){\n",
    "          z <- compute_z() # E-setp \n",
    "          for (l in 1:N){ max_z_idx[l] <- which.max(z[l,]) }\n",
    "          resEM <- MaximizationStep_optim() \n",
    "          lambda_i_k[1:K,1:length(x_sel)] <- resEM[[2]]\n",
    "          objective_tmp <- resEM[[3]]\n",
    "          iter <- iter + 1   \n",
    "        }# while\n",
    "                     \n",
    "        if(objective_tmp < objective_old){\n",
    "           objective_old <- objective_tmp\n",
    "           lambda_i_k_old <- lambda_i_k\n",
    "           idx <- m\n",
    "        }\n",
    "    }\n",
    "    \n",
    "    # Final initialization using random restarts\n",
    "    max_z_idx <- max_z_idx_tmp[,idx]\n",
    "    objective_tmp <- objective_old\n",
    "    lambda_i_k   <- lambda_i_k_old\n",
    "    \n",
    "         \n",
    "    # === Main EM ======================= \n",
    "    converged <- 0\n",
    "    resEM <- MaximizationStep_optim() # M-step, First iter\n",
    "    objective_tmp <- resEM[[3]]\n",
    "    lambda_i_k[1:K,1:length(x_sel)] <- resEM[[2]]\n",
    "    lambda_i_k_old <- lambda_i_k\n",
    "    iter <- 0\n",
    "    while(converged == 0){\n",
    "         z <- compute_z() # E-setp \n",
    "         for (l in 1:N){\n",
    "             max_z_idx[l] <- which.max(z[l,]) # CEM\n",
    "         }\n",
    "         resEM <- MaximizationStep_optim() # M-step\n",
    "         lambda_i_k[1:K,1:length(x_sel)] <- resEM[[2]]\n",
    "         lambda_i_k_old <- lambda_i_k\n",
    "         tmp <- abs(resEM[[3]] - objective_tmp)\n",
    "         if(tmp <= delta*abs(objective_tmp) | iter>=20) { \n",
    "            converged <- 1\n",
    "            objective_tmp <- resEM[[3]]\n",
    "         }\n",
    "         iter <- iter + 1\n",
    "         objective_tmp <- resEM[[3]]     \n",
    "    }# while\n",
    " \n",
    "\n",
    " AC[i] <- -2.0*1.0*objective_tmp + 2*(length(x_sel)*K+K-1) \n",
    " max_z_idx1[,i] <- max_z_idx   \n",
    " \n",
    "print(objective_tmp)    \n",
    "}# outer loop\n",
    " \n",
    "new <- Sys.time() - old\n",
    "print(new) # printing time\n"
   ]
  },
  {
   "cell_type": "code",
   "execution_count": null,
   "id": "b49d2130-4aab-4f23-b98c-5d2d45956d6c",
   "metadata": {},
   "outputs": [],
   "source": []
  },
  {
   "cell_type": "code",
   "execution_count": null,
   "id": "1bda09bc-7740-414b-862a-792185d13262",
   "metadata": {},
   "outputs": [],
   "source": []
  },
  {
   "cell_type": "code",
   "execution_count": null,
   "id": "2c854f2c-ba6d-431b-91b2-ab1b44d06ec2",
   "metadata": {},
   "outputs": [],
   "source": []
  },
  {
   "cell_type": "code",
   "execution_count": null,
   "id": "9c8cffe2-e8b3-479e-82d5-0bf4cd9b3692",
   "metadata": {},
   "outputs": [],
   "source": []
  },
  {
   "cell_type": "code",
   "execution_count": null,
   "id": "42bc2450-edc7-4422-b676-3b6c2f872c4c",
   "metadata": {},
   "outputs": [],
   "source": []
  },
  {
   "cell_type": "code",
   "execution_count": null,
   "id": "b6062640-bf02-467f-ab42-0aaf7d27cb48",
   "metadata": {},
   "outputs": [],
   "source": []
  },
  {
   "cell_type": "code",
   "execution_count": null,
   "id": "55e28b49-841e-4873-8a26-1023b6d4e829",
   "metadata": {},
   "outputs": [],
   "source": [
    "### M-step main routine\n",
    "MaximizationStep_optim <- function(){ # x_sel - currently selected subset of x (based on Y - likelihood gain)\n",
    "  pi_temp <- rep(0,K)\n",
    "  for (k in 1:K){\n",
    "    pi_temp[k] <- sum(max_z_idx==k)/N       \n",
    "  }\n",
    "  lambda_i_k_opt = calculateMu() \n",
    "  objective_temp = NLL_total(pi_temp,lambda_i_k_temp)\n",
    "  return(list(pi_temp, lambda_i_k_opt, objective_temp))\n",
    "}"
   ]
  },
  {
   "cell_type": "code",
   "execution_count": null,
   "id": "7121c0ac-ae8d-4595-9745-466b3dbdcc20",
   "metadata": {},
   "outputs": [],
   "source": [
    "## = ====== Readiong data and processing Initialising =======================\n",
    "\n",
    "# Synthetic Poisson data\n",
    "cd = pd.read_csv('5000EightClusterScaledPoissionData.csv', header = FALSE)\n",
    "\n",
    "## Converting it to dense matrix\n",
    "x <- as.matrix(cd)    \n",
    "rownames(x) <- c(1:dim(cd)[1])\n",
    "colnames(x) <- c(1:dim(cd)[2])\n",
    "\n",
    "\n",
    "# === Initial Filtering  =====\n",
    "x <- x[ ,colSums(x>0) > max(20,0.01*nrow(x))] \n",
    "x <- x[ ,colSums(x>0) < 0.5*nrow(x)] \n",
    "\n",
    "x <- x[rowSums(x>0) < 0.5*(ncol(x)),] \n",
    "x <- x[rowSums(x>0) > min(50,0.001*(ncol(x))),] \n",
    "\n",
    "x <- x[rowSums(x) !=0,]\n",
    "x <- x[,colSums(x) !=0]\n",
    "\n",
    "\n",
    "# ==== Initialisation ====\n",
    "D <- ncol(x) # number of peaks\n",
    "N <- nrow(x) #number of cells\n",
    "alpha <- matrix(0,nrow=N,ncol=1)\n",
    "alpha <- rowSums(x)/max(rowSums(x))  # Initalizing alpha (sequencing depth - scaling factor)"
   ]
  },
  {
   "cell_type": "code",
   "execution_count": null,
   "id": "29f634d9-d38a-4d94-99d5-c294fe667453",
   "metadata": {},
   "outputs": [],
   "source": []
  },
  {
   "cell_type": "code",
   "execution_count": null,
   "id": "1f47f5b7-eb5a-4ed4-9d4a-aff732368efe",
   "metadata": {},
   "outputs": [],
   "source": []
  }
 ],
 "metadata": {
  "kernelspec": {
   "display_name": "Python 3 (ipykernel)",
   "language": "python",
   "name": "python3"
  },
  "language_info": {
   "codemirror_mode": {
    "name": "ipython",
    "version": 3
   },
   "file_extension": ".py",
   "mimetype": "text/x-python",
   "name": "python",
   "nbconvert_exporter": "python",
   "pygments_lexer": "ipython3",
   "version": "3.10.10"
  }
 },
 "nbformat": 4,
 "nbformat_minor": 5
}
